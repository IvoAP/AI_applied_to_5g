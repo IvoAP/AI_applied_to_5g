{
 "cells": [
  {
   "cell_type": "code",
   "execution_count": 5,
   "metadata": {},
   "outputs": [],
   "source": [
    "import pandas as pd\n",
    "import numpy as np\n",
    "from sklearn.model_selection import train_test_split\n",
    "from sklearn import metrics\n",
    "from sklearn.model_selection import cross_val_score\n",
    "from sklearn.preprocessing import StandardScaler\n",
    "from sklearn.pipeline import Pipeline"
   ]
  },
  {
   "cell_type": "markdown",
   "metadata": {},
   "source": [
    "### Slice data in training and test ###"
   ]
  },
  {
   "cell_type": "code",
   "execution_count": 6,
   "metadata": {},
   "outputs": [],
   "source": [
    "dataset = pd.read_csv(r'/home/admin/Área de Trabalho/AI_applied_to_5g/5G - Datasets treated/Amazon/Static/amazon_static.csv')\n",
    "columns_to_fill = ['RSRP', 'RSRQ', 'SNR', 'CQI', 'RSSI']\n",
    "medians = dataset[columns_to_fill].median()\n",
    "dataset[columns_to_fill] = dataset[columns_to_fill].fillna(medians)"
   ]
  },
  {
   "cell_type": "code",
   "execution_count": 7,
   "metadata": {},
   "outputs": [
    {
     "name": "stdout",
     "output_type": "stream",
     "text": [
      "Index(['Timestamp', 'Longitude', 'Latitude', 'Speed', 'Operatorname', 'CellID',\n",
      "       'NetworkMode', 'RSRP', 'RSRQ', 'SNR', 'CQI', 'RSSI', 'DL_bitrate',\n",
      "       'UL_bitrate', 'State', 'PINGAVG', 'PINGMIN', 'PINGMAX', 'PINGSTDEV',\n",
      "       'PINGLOSS', 'CELLHEX', 'NODEHEX', 'LACHEX', 'RAWCELLID', 'NRxRSRP',\n",
      "       'NRxRSRQ'],\n",
      "      dtype='object')\n"
     ]
    }
   ],
   "source": [
    "print(dataset.columns)"
   ]
  },
  {
   "cell_type": "code",
   "execution_count": 8,
   "metadata": {},
   "outputs": [],
   "source": [
    "X_DL = dataset[['RSRP', 'RSRQ', 'SNR', 'CQI', 'RSSI']]\n",
    "y_DL = dataset['DL_bitrate']\n",
    "\n",
    "X_UL = dataset[['RSRP', 'RSRQ', 'SNR', 'CQI', 'RSSI']]\n",
    "y_UL = dataset['UL_bitrate']\n"
   ]
  },
  {
   "cell_type": "code",
   "execution_count": 9,
   "metadata": {},
   "outputs": [],
   "source": [
    "X_train_DL, X_test_DL, y_train_DL, y_test_DL = train_test_split(X_DL, y_DL, test_size=0.3, random_state=42)\n",
    "X_train_UL, X_test_UL, y_train_UL, y_test_UL = train_test_split(X_UL, y_UL, test_size=0.3, random_state=42)"
   ]
  },
  {
   "cell_type": "code",
   "execution_count": 10,
   "metadata": {},
   "outputs": [
    {
     "name": "stdout",
     "output_type": "stream",
     "text": [
      "Number of NaN values in each column:\n",
      "Timestamp           0\n",
      "Longitude           0\n",
      "Latitude            0\n",
      "Speed               0\n",
      "Operatorname        0\n",
      "CellID              0\n",
      "NetworkMode         0\n",
      "RSRP                0\n",
      "RSRQ                0\n",
      "SNR                 0\n",
      "CQI                 0\n",
      "RSSI                0\n",
      "DL_bitrate          0\n",
      "UL_bitrate          0\n",
      "State               0\n",
      "PINGAVG         34941\n",
      "PINGMIN         34941\n",
      "PINGMAX         34941\n",
      "PINGSTDEV       34941\n",
      "PINGLOSS        34941\n",
      "CELLHEX             0\n",
      "NODEHEX             0\n",
      "LACHEX              0\n",
      "RAWCELLID           0\n",
      "NRxRSRP         14093\n",
      "NRxRSRQ         14093\n",
      "dtype: int64\n"
     ]
    }
   ],
   "source": [
    "nan_counts = dataset.isna().sum()\n",
    "\n",
    "print(\"Number of NaN values in each column:\")\n",
    "print(nan_counts)\n"
   ]
  },
  {
   "cell_type": "markdown",
   "metadata": {},
   "source": [
    "### Linear Regression Dowload ###"
   ]
  },
  {
   "cell_type": "code",
   "execution_count": 48,
   "metadata": {},
   "outputs": [],
   "source": [
    "from sklearn.linear_model import LinearRegression as LR\n",
    "from sklearn.preprocessing import StandardScaler\n",
    "from sklearn.pipeline import Pipeline"
   ]
  },
  {
   "cell_type": "code",
   "execution_count": 49,
   "metadata": {},
   "outputs": [],
   "source": [
    "# Create a pipeline\n",
    "pipeline = Pipeline([\n",
    "    ('scaler', StandardScaler()),  # Data scaling step\n",
    "    ('model', LR())  # Linear Regression model step\n",
    "])\n"
   ]
  },
  {
   "cell_type": "code",
   "execution_count": 51,
   "metadata": {},
   "outputs": [
    {
     "data": {
      "text/html": [
       "<style>#sk-container-id-3 {color: black;}#sk-container-id-3 pre{padding: 0;}#sk-container-id-3 div.sk-toggleable {background-color: white;}#sk-container-id-3 label.sk-toggleable__label {cursor: pointer;display: block;width: 100%;margin-bottom: 0;padding: 0.3em;box-sizing: border-box;text-align: center;}#sk-container-id-3 label.sk-toggleable__label-arrow:before {content: \"▸\";float: left;margin-right: 0.25em;color: #696969;}#sk-container-id-3 label.sk-toggleable__label-arrow:hover:before {color: black;}#sk-container-id-3 div.sk-estimator:hover label.sk-toggleable__label-arrow:before {color: black;}#sk-container-id-3 div.sk-toggleable__content {max-height: 0;max-width: 0;overflow: hidden;text-align: left;background-color: #f0f8ff;}#sk-container-id-3 div.sk-toggleable__content pre {margin: 0.2em;color: black;border-radius: 0.25em;background-color: #f0f8ff;}#sk-container-id-3 input.sk-toggleable__control:checked~div.sk-toggleable__content {max-height: 200px;max-width: 100%;overflow: auto;}#sk-container-id-3 input.sk-toggleable__control:checked~label.sk-toggleable__label-arrow:before {content: \"▾\";}#sk-container-id-3 div.sk-estimator input.sk-toggleable__control:checked~label.sk-toggleable__label {background-color: #d4ebff;}#sk-container-id-3 div.sk-label input.sk-toggleable__control:checked~label.sk-toggleable__label {background-color: #d4ebff;}#sk-container-id-3 input.sk-hidden--visually {border: 0;clip: rect(1px 1px 1px 1px);clip: rect(1px, 1px, 1px, 1px);height: 1px;margin: -1px;overflow: hidden;padding: 0;position: absolute;width: 1px;}#sk-container-id-3 div.sk-estimator {font-family: monospace;background-color: #f0f8ff;border: 1px dotted black;border-radius: 0.25em;box-sizing: border-box;margin-bottom: 0.5em;}#sk-container-id-3 div.sk-estimator:hover {background-color: #d4ebff;}#sk-container-id-3 div.sk-parallel-item::after {content: \"\";width: 100%;border-bottom: 1px solid gray;flex-grow: 1;}#sk-container-id-3 div.sk-label:hover label.sk-toggleable__label {background-color: #d4ebff;}#sk-container-id-3 div.sk-serial::before {content: \"\";position: absolute;border-left: 1px solid gray;box-sizing: border-box;top: 0;bottom: 0;left: 50%;z-index: 0;}#sk-container-id-3 div.sk-serial {display: flex;flex-direction: column;align-items: center;background-color: white;padding-right: 0.2em;padding-left: 0.2em;position: relative;}#sk-container-id-3 div.sk-item {position: relative;z-index: 1;}#sk-container-id-3 div.sk-parallel {display: flex;align-items: stretch;justify-content: center;background-color: white;position: relative;}#sk-container-id-3 div.sk-item::before, #sk-container-id-3 div.sk-parallel-item::before {content: \"\";position: absolute;border-left: 1px solid gray;box-sizing: border-box;top: 0;bottom: 0;left: 50%;z-index: -1;}#sk-container-id-3 div.sk-parallel-item {display: flex;flex-direction: column;z-index: 1;position: relative;background-color: white;}#sk-container-id-3 div.sk-parallel-item:first-child::after {align-self: flex-end;width: 50%;}#sk-container-id-3 div.sk-parallel-item:last-child::after {align-self: flex-start;width: 50%;}#sk-container-id-3 div.sk-parallel-item:only-child::after {width: 0;}#sk-container-id-3 div.sk-dashed-wrapped {border: 1px dashed gray;margin: 0 0.4em 0.5em 0.4em;box-sizing: border-box;padding-bottom: 0.4em;background-color: white;}#sk-container-id-3 div.sk-label label {font-family: monospace;font-weight: bold;display: inline-block;line-height: 1.2em;}#sk-container-id-3 div.sk-label-container {text-align: center;}#sk-container-id-3 div.sk-container {/* jupyter's `normalize.less` sets `[hidden] { display: none; }` but bootstrap.min.css set `[hidden] { display: none !important; }` so we also need the `!important` here to be able to override the default hidden behavior on the sphinx rendered scikit-learn.org. See: https://github.com/scikit-learn/scikit-learn/issues/21755 */display: inline-block !important;position: relative;}#sk-container-id-3 div.sk-text-repr-fallback {display: none;}</style><div id=\"sk-container-id-3\" class=\"sk-top-container\"><div class=\"sk-text-repr-fallback\"><pre>Pipeline(steps=[(&#x27;scaler&#x27;, StandardScaler()), (&#x27;model&#x27;, LinearRegression())])</pre><b>In a Jupyter environment, please rerun this cell to show the HTML representation or trust the notebook. <br />On GitHub, the HTML representation is unable to render, please try loading this page with nbviewer.org.</b></div><div class=\"sk-container\" hidden><div class=\"sk-item sk-dashed-wrapped\"><div class=\"sk-label-container\"><div class=\"sk-label sk-toggleable\"><input class=\"sk-toggleable__control sk-hidden--visually\" id=\"sk-estimator-id-7\" type=\"checkbox\" ><label for=\"sk-estimator-id-7\" class=\"sk-toggleable__label sk-toggleable__label-arrow\">Pipeline</label><div class=\"sk-toggleable__content\"><pre>Pipeline(steps=[(&#x27;scaler&#x27;, StandardScaler()), (&#x27;model&#x27;, LinearRegression())])</pre></div></div></div><div class=\"sk-serial\"><div class=\"sk-item\"><div class=\"sk-estimator sk-toggleable\"><input class=\"sk-toggleable__control sk-hidden--visually\" id=\"sk-estimator-id-8\" type=\"checkbox\" ><label for=\"sk-estimator-id-8\" class=\"sk-toggleable__label sk-toggleable__label-arrow\">StandardScaler</label><div class=\"sk-toggleable__content\"><pre>StandardScaler()</pre></div></div></div><div class=\"sk-item\"><div class=\"sk-estimator sk-toggleable\"><input class=\"sk-toggleable__control sk-hidden--visually\" id=\"sk-estimator-id-9\" type=\"checkbox\" ><label for=\"sk-estimator-id-9\" class=\"sk-toggleable__label sk-toggleable__label-arrow\">LinearRegression</label><div class=\"sk-toggleable__content\"><pre>LinearRegression()</pre></div></div></div></div></div></div></div>"
      ],
      "text/plain": [
       "Pipeline(steps=[('scaler', StandardScaler()), ('model', LinearRegression())])"
      ]
     },
     "execution_count": 51,
     "metadata": {},
     "output_type": "execute_result"
    }
   ],
   "source": [
    "pipeline.fit(X_train_DL, y_train_DL)"
   ]
  },
  {
   "cell_type": "code",
   "execution_count": 53,
   "metadata": {},
   "outputs": [],
   "source": [
    "linear_y_pred_DL_test = pipeline.predict(X_test_DL)\n",
    "\n"
   ]
  },
  {
   "cell_type": "markdown",
   "metadata": {},
   "source": [
    "### Random Forest Regressor Dowload ###"
   ]
  },
  {
   "cell_type": "code",
   "execution_count": 38,
   "metadata": {},
   "outputs": [],
   "source": [
    "from sklearn.model_selection import RandomizedSearchCV\n",
    "from sklearn.ensemble import RandomForestRegressor\n",
    "from scipy.stats import randint"
   ]
  },
  {
   "cell_type": "markdown",
   "metadata": {},
   "source": [
    "#### Randomized Search ####"
   ]
  },
  {
   "cell_type": "code",
   "execution_count": 40,
   "metadata": {},
   "outputs": [
    {
     "name": "stderr",
     "output_type": "stream",
     "text": [
      "/home/admin/.local/lib/python3.10/site-packages/joblib/externals/loky/process_executor.py:752: UserWarning: A worker stopped while some jobs were given to the executor. This can be caused by a too short worker timeout or by a memory leak.\n",
      "  warnings.warn(\n"
     ]
    }
   ],
   "source": [
    "rf_reg = RandomForestRegressor(n_jobs=-1)\n",
    "\n",
    "\n",
    "param_dist = {\n",
    "    'n_estimators': randint(100, 2000)  \n",
    "}\n",
    "\n",
    "random_search = RandomizedSearchCV(estimator=rf_reg, param_distributions=param_dist, n_iter=50, cv=5, scoring='neg_mean_squared_error', n_jobs=-1)\n",
    "\n",
    "\n",
    "random_search.fit(X_train_DL, y_train_DL)\n",
    "\n",
    "best_n_estimators = random_search.best_params_['n_estimators']\n",
    "be0st_rf_reg = random_search.best_estimator_"
   ]
  },
  {
   "cell_type": "code",
   "execution_count": 42,
   "metadata": {},
   "outputs": [
    {
     "name": "stdout",
     "output_type": "stream",
     "text": [
      "RandomForestRegressor(n_estimators=326, n_jobs=-1)\n",
      "[2133.34856408 4898.38023283 7916.33055069 ...  995.68256646 5111.27399942\n",
      " 5375.85850131]\n"
     ]
    }
   ],
   "source": [
    "print(random_search.best_estimator_)\n",
    "predictions_rf_reg_DL = be0st_rf_reg.predict(X_test_DL)\n",
    "print(predictions_rf_reg_DL)"
   ]
  },
  {
   "cell_type": "markdown",
   "metadata": {},
   "source": [
    "#### Grid Search ####"
   ]
  },
  {
   "cell_type": "code",
   "execution_count": 44,
   "metadata": {},
   "outputs": [],
   "source": [
    "from sklearn.model_selection import GridSearchCV\n",
    "from sklearn.ensemble import RandomForestRegressor\n",
    "\n",
    "\n",
    "rf_reg = RandomForestRegressor(n_jobs=-1)\n",
    "\n",
    "param_grid = {\n",
    "    'n_estimators': [100, 150, 200, 300, 400 ,500, 700, 1000,1200, 1500, 1800, 2000]\n",
    "}\n",
    "\n",
    "grid_search = GridSearchCV(estimator=rf_reg, param_grid=param_grid, cv=5, scoring='neg_mean_squared_error', n_jobs=-1)\n",
    "\n",
    "# Fit the grid search to your data\n",
    "grid_search.fit(X_train_DL, y_train_DL)\n",
    "\n",
    "\n",
    "best_n_estimators_grid_search_DL = grid_search.best_params_['n_estimators']\n",
    "best_rf_reg_grid_search = grid_search.best_estimator_\n"
   ]
  },
  {
   "cell_type": "code",
   "execution_count": 47,
   "metadata": {},
   "outputs": [
    {
     "name": "stdout",
     "output_type": "stream",
     "text": [
      "RandomForestRegressor(n_estimators=150, n_jobs=-1)\n",
      "[2133.68734813 4917.75341373 7844.78826984 ...  972.72       5583.4795873\n",
      " 5393.21588889]\n"
     ]
    }
   ],
   "source": [
    "print(best_rf_reg_grid_search)\n",
    "predictions_rf_reg_DL = best_rf_reg_grid_search.predict(X_test_DL)\n",
    "print(predictions_rf_reg_DL)\n"
   ]
  },
  {
   "cell_type": "markdown",
   "metadata": {},
   "source": [
    "### Suporte Vector Machine Dowload ###"
   ]
  },
  {
   "cell_type": "code",
   "execution_count": 12,
   "metadata": {},
   "outputs": [],
   "source": [
    "from sklearn.svm import SVR\n",
    "import matplotlib.pyplot as plt\n",
    "import seaborn as sns\n",
    "from sklearn.model_selection import cross_val_score\n",
    "from sklearn.model_selection import GridSearchCV"
   ]
  },
  {
   "cell_type": "code",
   "execution_count": 13,
   "metadata": {},
   "outputs": [
    {
     "name": "stderr",
     "output_type": "stream",
     "text": [
      "/home/admin/.local/lib/python3.10/site-packages/seaborn/axisgrid.py:118: UserWarning: The figure layout has changed to tight\n",
      "  self._figure.tight_layout(*args, **kwargs)\n"
     ]
    },
    {
     "data": {
      "image/png": "[encoded data removed]",
      "text/plain": [
       "<Figure size 1250x250 with 5 Axes>"
      ]
     },
     "metadata": {},
     "output_type": "display_data"
    }
   ],
   "source": [
    "import pandas as pd\n",
    "import matplotlib.pyplot as plt\n",
    "import seaborn as sns\n",
    "\n",
    "# print(dataset.describe())  # Summary statistics\n",
    "\n",
    "# Create pair plots to visualize relationships\n",
    "sns.pairplot(dataset, x_vars=['RSRP', 'RSRQ', 'SNR', 'CQI', 'RSSI'], y_vars=['DL_bitrate'], kind='scatter')\n",
    "plt.show()"
   ]
  },
  {
   "cell_type": "markdown",
   "metadata": {},
   "source": [
    "#### Grid Search ####"
   ]
  },
  {
   "cell_type": "code",
   "execution_count": 15,
   "metadata": {},
   "outputs": [
    {
     "name": "stdout",
     "output_type": "stream",
     "text": [
      "Fitting 5 folds for each of 45 candidates, totalling 225 fits\n",
      "[CV] END ................C=0.01, gamma=0.0001, kernel=linear; total time=  20.2s\n",
      "[CV] END ................C=0.01, gamma=0.0001, kernel=linear; total time=  20.2s\n",
      "[CV] END ..................C=0.01, gamma=0.0001, kernel=poly; total time=  20.1s\n",
      "[CV] END ................C=0.01, gamma=0.0001, kernel=linear; total time=  20.4s\n",
      "[CV] END ................C=0.01, gamma=0.0001, kernel=linear; total time=  20.4s\n",
      "[CV] END .................C=0.01, gamma=0.001, kernel=linear; total time=  20.5s\n",
      "[CV] END .................C=0.01, gamma=0.001, kernel=linear; total time=  20.5s\n",
      "[CV] END ..................C=0.01, gamma=0.0001, kernel=poly; total time=  20.6s\n",
      "[CV] END .................C=0.01, gamma=0.001, kernel=linear; total time=  20.7s\n",
      "[CV] END ..................C=0.01, gamma=0.0001, kernel=poly; total time=  21.3s\n",
      "[CV] END ..................C=0.01, gamma=0.0001, kernel=poly; total time=  21.4s\n",
      "[CV] END .................C=0.01, gamma=0.001, kernel=linear; total time=  21.2s\n",
      "[CV] END ................C=0.01, gamma=0.0001, kernel=linear; total time=  21.5s\n",
      "[CV] END ..................C=0.01, gamma=0.0001, kernel=poly; total time=  22.0s\n",
      "[CV] END .................C=0.01, gamma=0.001, kernel=linear; total time=  22.3s\n",
      "[CV] END ...................C=0.01, gamma=0.0001, kernel=rbf; total time=  26.7s\n",
      "[CV] END ...................C=0.01, gamma=0.0001, kernel=rbf; total time=  26.8s\n",
      "[CV] END ...................C=0.01, gamma=0.0001, kernel=rbf; total time=  28.4s\n",
      "[CV] END ...................C=0.01, gamma=0.0001, kernel=rbf; total time=  29.5s\n",
      "[CV] END ...................C=0.01, gamma=0.0001, kernel=rbf; total time=  36.1s\n",
      "[CV] END ..................C=0.01, gamma=0.01, kernel=linear; total time=  17.4s\n",
      "[CV] END ..................C=0.01, gamma=0.01, kernel=linear; total time=  17.9s\n",
      "[CV] END ..................C=0.01, gamma=0.01, kernel=linear; total time=  18.0s\n",
      "[CV] END ...................C=0.01, gamma=0.001, kernel=poly; total time=  19.4s\n",
      "[CV] END ...................C=0.01, gamma=0.001, kernel=poly; total time=  19.3s\n",
      "[CV] END ..................C=0.01, gamma=0.01, kernel=linear; total time=  17.9s\n",
      "[CV] END ...................C=0.01, gamma=0.001, kernel=poly; total time=  19.3s\n",
      "[CV] END ...................C=0.01, gamma=0.001, kernel=poly; total time=  19.4s\n",
      "[CV] END ...................C=0.01, gamma=0.001, kernel=poly; total time=  19.4s\n",
      "[CV] END ....................C=0.01, gamma=0.001, kernel=rbf; total time=  24.5s\n",
      "[CV] END ....................C=0.01, gamma=0.001, kernel=rbf; total time=  24.5s\n",
      "[CV] END ..................C=0.01, gamma=0.01, kernel=linear; total time=  22.4s\n",
      "[CV] END ....................C=0.01, gamma=0.001, kernel=rbf; total time=  29.0s\n",
      "[CV] END .....................C=0.01, gamma=0.01, kernel=rbf; total time=  24.7s\n",
      "[CV] END ....................C=0.01, gamma=0.001, kernel=rbf; total time=  31.1s\n",
      "[CV] END .....................C=0.01, gamma=0.01, kernel=rbf; total time=  24.7s\n",
      "[CV] END .....................C=0.01, gamma=0.01, kernel=rbf; total time=  25.7s\n",
      "[CV] END .....................C=0.01, gamma=0.01, kernel=rbf; total time=  27.8s\n",
      "[CV] END .................C=0.1, gamma=0.0001, kernel=linear; total time=  17.7s\n",
      "[CV] END .................C=0.1, gamma=0.0001, kernel=linear; total time=  17.6s\n",
      "[CV] END .................C=0.1, gamma=0.0001, kernel=linear; total time=  17.7s\n",
      "[CV] END .................C=0.1, gamma=0.0001, kernel=linear; total time=  17.5s\n",
      "[CV] END ....................C=0.01, gamma=0.01, kernel=poly; total time=  20.5s\n",
      "[CV] END ....................C=0.01, gamma=0.01, kernel=poly; total time=  20.6s\n",
      "[CV] END ....................C=0.01, gamma=0.01, kernel=poly; total time=  20.9s\n",
      "[CV] END ....................C=0.01, gamma=0.01, kernel=poly; total time=  21.7s\n",
      "[CV] END ....................C=0.01, gamma=0.01, kernel=poly; total time=  20.8s\n",
      "[CV] END ....................C=0.01, gamma=0.001, kernel=rbf; total time=  40.7s\n",
      "[CV] END .................C=0.1, gamma=0.0001, kernel=linear; total time=  17.2s\n",
      "[CV] END ....................C=0.1, gamma=0.0001, kernel=rbf; total time=  24.6s\n",
      "[CV] END ...................C=0.1, gamma=0.0001, kernel=poly; total time=  19.2s\n",
      "[CV] END .....................C=0.01, gamma=0.01, kernel=rbf; total time=  36.1s\n",
      "[CV] END ...................C=0.1, gamma=0.0001, kernel=poly; total time=  20.0s\n",
      "[CV] END ..................C=0.1, gamma=0.001, kernel=linear; total time=  17.9s\n",
      "[CV] END ....................C=0.1, gamma=0.0001, kernel=rbf; total time=  24.6s\n",
      "[CV] END ..................C=0.1, gamma=0.001, kernel=linear; total time=  18.0s\n",
      "[CV] END ...................C=0.1, gamma=0.0001, kernel=poly; total time=  19.1s\n",
      "[CV] END ...................C=0.1, gamma=0.0001, kernel=poly; total time=  19.4s\n",
      "[CV] END ....................C=0.1, gamma=0.0001, kernel=rbf; total time=  28.0s\n",
      "[CV] END ...................C=0.1, gamma=0.0001, kernel=poly; total time=  21.7s\n",
      "[CV] END ..................C=0.1, gamma=0.001, kernel=linear; total time=  18.1s\n",
      "[CV] END ..................C=0.1, gamma=0.001, kernel=linear; total time=  18.0s\n",
      "[CV] END ..................C=0.1, gamma=0.001, kernel=linear; total time=  18.1s\n",
      "[CV] END ....................C=0.1, gamma=0.0001, kernel=rbf; total time=  28.7s\n",
      "[CV] END ....................C=0.1, gamma=0.0001, kernel=rbf; total time=  35.4s\n",
      "[CV] END .....................C=0.1, gamma=0.001, kernel=rbf; total time=  25.4s\n",
      "[CV] END .....................C=0.1, gamma=0.001, kernel=rbf; total time=  24.9s\n",
      "[CV] END .....................C=0.1, gamma=0.001, kernel=rbf; total time=  26.4s\n",
      "[CV] END ....................C=0.1, gamma=0.001, kernel=poly; total time=  19.2s\n",
      "[CV] END .....................C=0.1, gamma=0.001, kernel=rbf; total time=  25.0s\n",
      "[CV] END ...................C=0.1, gamma=0.01, kernel=linear; total time=  18.4s\n",
      "[CV] END ...................C=0.1, gamma=0.01, kernel=linear; total time=  18.4s\n",
      "[CV] END ...................C=0.1, gamma=0.01, kernel=linear; total time=  18.0s\n",
      "[CV] END .....................C=0.1, gamma=0.001, kernel=rbf; total time=  34.3s\n",
      "[CV] END ...................C=0.1, gamma=0.01, kernel=linear; total time=  18.2s\n",
      "[CV] END ....................C=0.1, gamma=0.001, kernel=poly; total time=  19.5s\n",
      "[CV] END ....................C=0.1, gamma=0.001, kernel=poly; total time=  20.0s\n",
      "[CV] END ...................C=0.1, gamma=0.01, kernel=linear; total time=  18.6s\n",
      "[CV] END ....................C=0.1, gamma=0.001, kernel=poly; total time=  22.0s\n",
      "[CV] END ....................C=0.1, gamma=0.001, kernel=poly; total time=  24.6s\n",
      "[CV] END ......................C=0.1, gamma=0.01, kernel=rbf; total time=  25.2s\n",
      "[CV] END ......................C=0.1, gamma=0.01, kernel=rbf; total time=  25.4s\n",
      "[CV] END ......................C=0.1, gamma=0.01, kernel=rbf; total time=  25.8s\n",
      "[CV] END ......................C=0.1, gamma=0.01, kernel=rbf; total time=  26.3s\n",
      "[CV] END ...................C=1, gamma=0.0001, kernel=linear; total time=  18.0s\n",
      "[CV] END ...................C=1, gamma=0.0001, kernel=linear; total time=  17.8s\n",
      "[CV] END ...................C=1, gamma=0.0001, kernel=linear; total time=  17.7s\n",
      "[CV] END .....................C=0.1, gamma=0.01, kernel=poly; total time=  27.1s\n",
      "[CV] END .....................C=0.1, gamma=0.01, kernel=poly; total time=  26.1s\n",
      "[CV] END ...................C=1, gamma=0.0001, kernel=linear; total time=  18.2s\n",
      "[CV] END .....................C=0.1, gamma=0.01, kernel=poly; total time=  27.1s\n",
      "[CV] END ......................C=0.1, gamma=0.01, kernel=rbf; total time=  34.2s\n",
      "[CV] END .....................C=0.1, gamma=0.01, kernel=poly; total time=  28.9s\n",
      "[CV] END ......................C=1, gamma=0.0001, kernel=rbf; total time=  24.3s\n",
      "[CV] END ......................C=1, gamma=0.0001, kernel=rbf; total time=  24.0s\n",
      "[CV] END ......................C=1, gamma=0.0001, kernel=rbf; total time=  25.1s\n",
      "[CV] END .....................C=1, gamma=0.0001, kernel=poly; total time=  18.5s\n",
      "[CV] END ...................C=1, gamma=0.0001, kernel=linear; total time=  26.7s\n",
      "[CV] END .....................C=1, gamma=0.0001, kernel=poly; total time=  18.4s\n",
      "[CV] END .....................C=1, gamma=0.0001, kernel=poly; total time=  18.6s\n",
      "[CV] END ......................C=1, gamma=0.0001, kernel=rbf; total time=  26.1s\n",
      "[CV] END .....................C=1, gamma=0.0001, kernel=poly; total time=  18.8s\n",
      "[CV] END .....................C=0.1, gamma=0.01, kernel=poly; total time=  32.5s\n",
      "[CV] END ....................C=1, gamma=0.001, kernel=linear; total time=  17.9s\n",
      "[CV] END ......................C=1, gamma=0.0001, kernel=rbf; total time=  33.7s\n",
      "[CV] END ....................C=1, gamma=0.001, kernel=linear; total time=  18.4s\n",
      "[CV] END ....................C=1, gamma=0.001, kernel=linear; total time=  18.1s\n",
      "[CV] END ....................C=1, gamma=0.001, kernel=linear; total time=  18.3s\n",
      "[CV] END .....................C=1, gamma=0.0001, kernel=poly; total time=  19.0s\n",
      "[CV] END ....................C=1, gamma=0.001, kernel=linear; total time=  18.4s\n",
      "[CV] END .......................C=1, gamma=0.001, kernel=rbf; total time=  24.9s\n",
      "[CV] END ......................C=1, gamma=0.001, kernel=poly; total time=  20.6s\n",
      "[CV] END ......................C=1, gamma=0.001, kernel=poly; total time=  20.2s\n",
      "[CV] END .....................C=1, gamma=0.01, kernel=linear; total time=  19.4s\n",
      "[CV] END ......................C=1, gamma=0.001, kernel=poly; total time=  21.4s\n",
      "[CV] END ......................C=1, gamma=0.001, kernel=poly; total time=  20.4s\n",
      "[CV] END .....................C=1, gamma=0.01, kernel=linear; total time=  18.6s\n",
      "[CV] END .......................C=1, gamma=0.001, kernel=rbf; total time=  25.1s\n",
      "[CV] END .......................C=1, gamma=0.001, kernel=rbf; total time=  24.9s\n",
      "[CV] END .......................C=1, gamma=0.001, kernel=rbf; total time=  25.1s\n",
      "[CV] END .....................C=1, gamma=0.01, kernel=linear; total time=  20.6s\n",
      "[CV] END .....................C=1, gamma=0.01, kernel=linear; total time=  18.3s\n",
      "[CV] END .......................C=1, gamma=0.001, kernel=rbf; total time=  37.1s\n",
      "[CV] END ......................C=1, gamma=0.001, kernel=poly; total time=  31.0s\n",
      "[CV] END ........................C=1, gamma=0.01, kernel=rbf; total time=  25.1s\n",
      "[CV] END ........................C=1, gamma=0.01, kernel=rbf; total time=  25.2s\n",
      "[CV] END ........................C=1, gamma=0.01, kernel=rbf; total time=  25.2s\n",
      "[CV] END ........................C=1, gamma=0.01, kernel=rbf; total time=  25.0s\n",
      "[CV] END ........................C=1, gamma=0.01, kernel=rbf; total time=  25.3s\n",
      "[CV] END .....................C=1, gamma=0.01, kernel=linear; total time=  26.8s\n",
      "[CV] END ..................C=10, gamma=0.0001, kernel=linear; total time=  19.1s\n",
      "[CV] END ..................C=10, gamma=0.0001, kernel=linear; total time=  19.4s\n",
      "[CV] END ..................C=10, gamma=0.0001, kernel=linear; total time=  19.8s\n",
      "[CV] END ..................C=10, gamma=0.0001, kernel=linear; total time=  19.2s\n",
      "[CV] END ..................C=10, gamma=0.0001, kernel=linear; total time=  19.2s\n",
      "[CV] END ....................C=10, gamma=0.0001, kernel=poly; total time=  18.3s\n",
      "[CV] END ....................C=10, gamma=0.0001, kernel=poly; total time=  18.3s\n",
      "[CV] END ....................C=10, gamma=0.0001, kernel=poly; total time=  18.1s\n",
      "[CV] END ....................C=10, gamma=0.0001, kernel=poly; total time=  18.3s\n",
      "[CV] END .....................C=10, gamma=0.0001, kernel=rbf; total time=  27.8s\n",
      "[CV] END .....................C=10, gamma=0.0001, kernel=rbf; total time=  30.3s\n",
      "[CV] END .....................C=10, gamma=0.0001, kernel=rbf; total time=  23.3s\n",
      "[CV] END ...................C=10, gamma=0.001, kernel=linear; total time=  18.2s\n",
      "[CV] END ...................C=10, gamma=0.001, kernel=linear; total time=  18.3s\n",
      "[CV] END ...................C=10, gamma=0.001, kernel=linear; total time=  18.4s\n",
      "[CV] END ...................C=10, gamma=0.001, kernel=linear; total time=  18.9s\n",
      "[CV] END ...................C=10, gamma=0.001, kernel=linear; total time=  18.8s\n",
      "[CV] END .....................C=10, gamma=0.0001, kernel=rbf; total time=  35.1s\n",
      "[CV] END .....................C=10, gamma=0.0001, kernel=rbf; total time=  34.6s\n",
      "[CV] END ....................C=10, gamma=0.0001, kernel=poly; total time=  29.9s\n",
      "[CV] END ......................C=10, gamma=0.001, kernel=rbf; total time=  23.2s\n",
      "[CV] END ......................C=10, gamma=0.001, kernel=rbf; total time=  23.5s\n",
      "[CV] END ......................C=10, gamma=0.001, kernel=rbf; total time=  23.6s\n",
      "[CV] END ......................C=10, gamma=0.001, kernel=rbf; total time=  23.6s\n",
      "[CV] END .....................C=10, gamma=0.001, kernel=poly; total time=  19.9s\n",
      "[CV] END .....................C=10, gamma=0.001, kernel=poly; total time=  19.6s\n",
      "[CV] END .......................C=1, gamma=0.01, kernel=poly; total time=  58.7s\n",
      "[CV] END ....................C=10, gamma=0.01, kernel=linear; total time=  18.5s\n",
      "[CV] END .....................C=10, gamma=0.001, kernel=poly; total time=  21.9s\n",
      "[CV] END ....................C=10, gamma=0.01, kernel=linear; total time=  18.8s\n",
      "[CV] END ......................C=10, gamma=0.001, kernel=rbf; total time=  27.2s\n",
      "[CV] END .....................C=10, gamma=0.001, kernel=poly; total time=  21.3s\n",
      "[CV] END .....................C=10, gamma=0.001, kernel=poly; total time=  20.7s\n",
      "[CV] END .......................C=1, gamma=0.01, kernel=poly; total time= 1.2min\n",
      "[CV] END ....................C=10, gamma=0.01, kernel=linear; total time=  26.4s\n",
      "[CV] END ....................C=10, gamma=0.01, kernel=linear; total time=  26.6s\n",
      "[CV] END .......................C=1, gamma=0.01, kernel=poly; total time= 1.2min\n",
      "[CV] END .......................C=1, gamma=0.01, kernel=poly; total time= 1.2min\n",
      "[CV] END ....................C=10, gamma=0.01, kernel=linear; total time=  28.8s\n",
      "[CV] END .......................C=1, gamma=0.01, kernel=poly; total time= 1.3min\n",
      "[CV] END .......................C=10, gamma=0.01, kernel=rbf; total time=  23.8s\n",
      "[CV] END .......................C=10, gamma=0.01, kernel=rbf; total time=  23.9s\n",
      "[CV] END .......................C=10, gamma=0.01, kernel=rbf; total time=  24.2s\n",
      "[CV] END .......................C=10, gamma=0.01, kernel=rbf; total time=  24.9s\n",
      "[CV] END .......................C=10, gamma=0.01, kernel=rbf; total time=  24.2s\n",
      "[CV] END .................C=100, gamma=0.0001, kernel=linear; total time=  25.6s\n",
      "[CV] END .................C=100, gamma=0.0001, kernel=linear; total time=  26.8s\n",
      "[CV] END .................C=100, gamma=0.0001, kernel=linear; total time=  27.0s\n",
      "[CV] END .................C=100, gamma=0.0001, kernel=linear; total time=  25.8s\n",
      "[CV] END ....................C=100, gamma=0.0001, kernel=rbf; total time=  23.4s\n",
      "[CV] END ....................C=100, gamma=0.0001, kernel=rbf; total time=  24.1s\n",
      "[CV] END ...................C=100, gamma=0.0001, kernel=poly; total time=  19.1s\n",
      "[CV] END ...................C=100, gamma=0.0001, kernel=poly; total time=  19.6s\n",
      "[CV] END ...................C=100, gamma=0.0001, kernel=poly; total time=  20.0s\n",
      "[CV] END ...................C=100, gamma=0.0001, kernel=poly; total time=  18.6s\n",
      "[CV] END ...................C=100, gamma=0.0001, kernel=poly; total time=  19.5s\n",
      "[CV] END ....................C=100, gamma=0.0001, kernel=rbf; total time=  25.5s\n",
      "[CV] END ....................C=100, gamma=0.0001, kernel=rbf; total time=  29.8s\n",
      "[CV] END .................C=100, gamma=0.0001, kernel=linear; total time=  33.3s\n",
      "[CV] END ....................C=100, gamma=0.0001, kernel=rbf; total time=  32.4s\n",
      "[CV] END ..................C=100, gamma=0.001, kernel=linear; total time=  24.1s\n",
      "[CV] END ..................C=100, gamma=0.001, kernel=linear; total time=  26.2s\n",
      "[CV] END ..................C=100, gamma=0.001, kernel=linear; total time=  25.4s\n",
      "[CV] END ..................C=100, gamma=0.001, kernel=linear; total time=  24.6s\n",
      "[CV] END .....................C=100, gamma=0.001, kernel=rbf; total time=  23.7s\n",
      "[CV] END ..................C=100, gamma=0.001, kernel=linear; total time=  25.2s\n",
      "[CV] END .....................C=100, gamma=0.001, kernel=rbf; total time=  23.2s\n",
      "[CV] END .....................C=100, gamma=0.001, kernel=rbf; total time=  23.2s\n",
      "[CV] END .....................C=100, gamma=0.001, kernel=rbf; total time=  24.5s\n",
      "[CV] END .....................C=100, gamma=0.001, kernel=rbf; total time=  25.2s\n",
      "[CV] END ....................C=100, gamma=0.001, kernel=poly; total time=  26.9s\n",
      "[CV] END ....................C=100, gamma=0.001, kernel=poly; total time=  27.5s\n",
      "[CV] END ...................C=100, gamma=0.01, kernel=linear; total time=  24.4s\n",
      "[CV] END ...................C=100, gamma=0.01, kernel=linear; total time=  24.3s\n",
      "[CV] END ...................C=100, gamma=0.01, kernel=linear; total time=  24.8s\n",
      "[CV] END ....................C=100, gamma=0.001, kernel=poly; total time=  38.7s\n",
      "[CV] END ....................C=100, gamma=0.001, kernel=poly; total time=  35.8s\n",
      "[CV] END ...................C=100, gamma=0.01, kernel=linear; total time=  23.8s\n",
      "[CV] END ......................C=100, gamma=0.01, kernel=rbf; total time=  22.7s\n",
      "[CV] END ......................C=100, gamma=0.01, kernel=rbf; total time=  22.4s\n",
      "[CV] END ...................C=100, gamma=0.01, kernel=linear; total time=  24.6s\n",
      "[CV] END ....................C=100, gamma=0.001, kernel=poly; total time=  39.8s\n",
      "[CV] END ......................C=100, gamma=0.01, kernel=rbf; total time=  22.5s\n",
      "[CV] END ......................C=100, gamma=0.01, kernel=rbf; total time=  21.8s\n",
      "[CV] END ......................C=100, gamma=0.01, kernel=rbf; total time=  22.9s\n",
      "[CV] END ......................C=10, gamma=0.01, kernel=poly; total time= 5.1min\n",
      "[CV] END ......................C=10, gamma=0.01, kernel=poly; total time= 5.4min\n",
      "[CV] END ......................C=10, gamma=0.01, kernel=poly; total time= 5.8min\n",
      "[CV] END ......................C=10, gamma=0.01, kernel=poly; total time= 5.9min\n",
      "[CV] END ......................C=10, gamma=0.01, kernel=poly; total time= 6.0min\n",
      "[CV] END .....................C=100, gamma=0.01, kernel=poly; total time=10.2min\n",
      "[CV] END .....................C=100, gamma=0.01, kernel=poly; total time=12.2min\n",
      "[CV] END .....................C=100, gamma=0.01, kernel=poly; total time=13.4min\n",
      "[CV] END .....................C=100, gamma=0.01, kernel=poly; total time=15.4min\n",
      "[CV] END .....................C=100, gamma=0.01, kernel=poly; total time=21.6min\n"
     ]
    }
   ],
   "source": [
    "from sklearn.model_selection import GridSearchCV\n",
    "from sklearn.svm import SVR\n",
    "\n",
    "svm_reg = SVR()\n",
    "\n",
    "param_grid = {\n",
    "    'C': [0.01, 0.1, 1, 10, 100],             # Range for C (regularization parameter)\n",
    "    'kernel': ['linear', 'rbf', 'poly'],      # Kernel types to consider\n",
    "    'gamma': [1e-4, 1e-3, 1e-2]  # Range for gamma (kernel coefficient)\n",
    "}\n",
    "\n",
    "\n",
    "grid_search = GridSearchCV(estimator=svm_reg, param_grid=param_grid, cv=5, scoring='neg_mean_squared_error' , n_jobs=-1, verbose=2)\n",
    "\n",
    "\n",
    "grid_search.fit(X_train_DL, y_train_DL)\n",
    "\n",
    "# Get the best parameters and the associated model\n",
    "best_params_grid_search_DL = grid_search.best_params_\n",
    "best_svm_reg_grid_search_DL = grid_search.best_estimator_\n",
    "\n"
   ]
  },
  {
   "cell_type": "code",
   "execution_count": 31,
   "metadata": {},
   "outputs": [
    {
     "name": "stdout",
     "output_type": "stream",
     "text": [
      "C :  10\n",
      "kernel :  poly\n",
      "gama :  0.01\n",
      "prediction :  [-3870.83978056  6095.50946878  2989.19681038 ...  2437.63039393\n",
      "  3946.87570361  2724.37636196]\n"
     ]
    }
   ],
   "source": [
    "best_C = best_params_grid_search_DL['C']\n",
    "best_kernel = best_params_grid_search_DL['kernel']\n",
    "best_gamma = best_params_grid_search_DL['gamma']\n",
    "predictions_svr_grid_search_DL = best_svm_reg_grid_search_DL.predict(X_test_DL)\n",
    "\n",
    "print(f'C : ',best_C )\n",
    "print(f'kernel : ',best_kernel)\n",
    "print(f'gama : ',best_gamma)\n",
    "print(f'prediction : ',predictions_svr_grid_search_DL)\n"
   ]
  },
  {
   "cell_type": "code",
   "execution_count": 24,
   "metadata": {},
   "outputs": [
    {
     "name": "stdout",
     "output_type": "stream",
     "text": [
      "Fitting 5 folds for each of 50 candidates, totalling 250 fits\n",
      "[CV] END C=20.459864818460336, gamma=0.0018692334256716584, kernel=linear; total time=  21.7s\n",
      "[CV] END C=58.91995915000435, gamma=0.0018243358880172527, kernel=linear; total time=  22.4s\n",
      "[CV] END C=58.91995915000435, gamma=0.0018243358880172527, kernel=linear; total time=  23.6s\n",
      "[CV] END C=48.92405640231189, gamma=0.0019000674356622741, kernel=linear; total time=  24.1s\n",
      "[CV] END C=48.92405640231189, gamma=0.0019000674356622741, kernel=linear; total time=  24.5s\n",
      "[CV] END C=20.459864818460336, gamma=0.0018692334256716584, kernel=linear; total time=  24.8s\n",
      "[CV] END C=20.459864818460336, gamma=0.0018692334256716584, kernel=linear; total time=  24.9s\n",
      "[CV] END C=58.91995915000435, gamma=0.0018243358880172527, kernel=linear; total time=  25.8s\n",
      "[CV] END C=58.91995915000435, gamma=0.0018243358880172527, kernel=linear; total time=  26.5s\n",
      "[CV] END C=48.92405640231189, gamma=0.0019000674356622741, kernel=linear; total time=  26.9s\n",
      "[CV] END C=48.92405640231189, gamma=0.0019000674356622741, kernel=linear; total time=  27.1s\n",
      "[CV] END C=97.20781623621042, gamma=0.0015443688385222648, kernel=linear; total time=  27.7s\n",
      "[CV] END C=20.459864818460336, gamma=0.0018692334256716584, kernel=linear; total time=  27.9s\n",
      "[CV] END C=97.20781623621042, gamma=0.0015443688385222648, kernel=linear; total time=  28.5s\n",
      "[CV] END C=97.20781623621042, gamma=0.0015443688385222648, kernel=linear; total time=  28.5s\n",
      "[CV] END C=97.20781623621042, gamma=0.0015443688385222648, kernel=linear; total time=  29.0s\n",
      "[CV] END C=20.459864818460336, gamma=0.0018692334256716584, kernel=linear; total time=  30.4s\n",
      "[CV] END C=97.20781623621042, gamma=0.0015443688385222648, kernel=linear; total time=  32.2s\n",
      "[CV] END C=58.91995915000435, gamma=0.0018243358880172527, kernel=linear; total time=  34.0s\n",
      "[CV] END C=48.92405640231189, gamma=0.0019000674356622741, kernel=linear; total time=  35.3s\n",
      "[CV] END C=10.657246476904625, gamma=0.00029506404238216586, kernel=poly; total time=  20.4s\n",
      "[CV] END C=10.657246476904625, gamma=0.00029506404238216586, kernel=poly; total time=  20.1s\n",
      "[CV] END C=22.021464468464565, gamma=0.003594881426178216, kernel=rbf; total time=  26.5s\n",
      "[CV] END C=10.657246476904625, gamma=0.00029506404238216586, kernel=poly; total time=  20.5s\n",
      "[CV] END C=22.021464468464565, gamma=0.003594881426178216, kernel=rbf; total time=  24.4s\n",
      "[CV] END C=22.021464468464565, gamma=0.003594881426178216, kernel=rbf; total time=  25.4s\n",
      "[CV] END C=10.657246476904625, gamma=0.00029506404238216586, kernel=poly; total time=  21.0s\n",
      "[CV] END C=10.657246476904625, gamma=0.00029506404238216586, kernel=poly; total time=  20.8s\n",
      "[CV] END C=42.2549341337039, gamma=0.0002328161793627852, kernel=rbf; total time=  25.2s\n",
      "[CV] END C=42.2549341337039, gamma=0.0002328161793627852, kernel=rbf; total time=  25.0s\n",
      "[CV] END C=42.2549341337039, gamma=0.0002328161793627852, kernel=rbf; total time=  25.1s\n",
      "[CV] END C=22.021464468464565, gamma=0.003594881426178216, kernel=rbf; total time=  29.2s\n",
      "[CV] END C=42.2549341337039, gamma=0.0002328161793627852, kernel=rbf; total time=  25.9s\n",
      "[CV] END C=42.2549341337039, gamma=0.0002328161793627852, kernel=rbf; total time=  26.7s\n",
      "[CV] END C=22.021464468464565, gamma=0.003594881426178216, kernel=rbf; total time=  29.9s\n",
      "[CV] END C=84.71667649683319, gamma=0.00012163543404011373, kernel=rbf; total time=  25.0s\n",
      "[CV] END C=84.71667649683319, gamma=0.00012163543404011373, kernel=rbf; total time=  25.8s\n",
      "[CV] END C=84.71667649683319, gamma=0.00012163543404011373, kernel=rbf; total time=  28.8s\n",
      "[CV] END C=84.71667649683319, gamma=0.00012163543404011373, kernel=rbf; total time=  29.4s\n",
      "[CV] END C=84.71667649683319, gamma=0.00012163543404011373, kernel=rbf; total time=  29.5s\n",
      "[CV] END C=86.63530556153354, gamma=0.0012376336320308245, kernel=rbf; total time=  24.7s\n",
      "[CV] END C=86.63530556153354, gamma=0.0012376336320308245, kernel=rbf; total time=  24.5s\n",
      "[CV] END C=86.63530556153354, gamma=0.0012376336320308245, kernel=rbf; total time=  24.7s\n",
      "[CV] END C=32.19399709200621, gamma=0.0007316830960729374, kernel=rbf; total time=  24.6s\n",
      "[CV] END C=86.63530556153354, gamma=0.0012376336320308245, kernel=rbf; total time=  24.9s\n",
      "[CV] END C=32.19399709200621, gamma=0.0007316830960729374, kernel=rbf; total time=  24.5s\n",
      "[CV] END C=86.63530556153354, gamma=0.0012376336320308245, kernel=rbf; total time=  27.4s\n",
      "[CV] END C=32.19399709200621, gamma=0.0007316830960729374, kernel=rbf; total time=  25.9s\n",
      "[CV] END C=32.19399709200621, gamma=0.0007316830960729374, kernel=rbf; total time=  26.1s\n",
      "[CV] END C=1.3646273124561685, gamma=0.000393821780069779, kernel=rbf; total time=  25.1s\n",
      "[CV] END C=1.3646273124561685, gamma=0.000393821780069779, kernel=rbf; total time=  25.1s\n",
      "[CV] END C=32.19399709200621, gamma=0.0007316830960729374, kernel=rbf; total time=  27.1s\n",
      "[CV] END C=1.3646273124561685, gamma=0.000393821780069779, kernel=rbf; total time=  25.8s\n",
      "[CV] END C=1.3646273124561685, gamma=0.000393821780069779, kernel=rbf; total time=  25.1s\n",
      "[CV] END C=1.3646273124561685, gamma=0.000393821780069779, kernel=rbf; total time=  29.4s\n",
      "[CV] END C=98.63757836780485, gamma=0.0006420943657693567, kernel=rbf; total time=  23.9s\n",
      "[CV] END C=98.63757836780485, gamma=0.0006420943657693567, kernel=rbf; total time=  23.7s\n",
      "[CV] END C=48.82655298695836, gamma=0.008887497954305948, kernel=rbf; total time=  23.3s\n",
      "[CV] END C=98.63757836780485, gamma=0.0006420943657693567, kernel=rbf; total time=  24.1s\n",
      "[CV] END C=98.63757836780485, gamma=0.0006420943657693567, kernel=rbf; total time=  25.0s\n",
      "[CV] END C=76.9907227835218, gamma=0.00010761230404511204, kernel=linear; total time=  22.0s\n",
      "[CV] END C=98.63757836780485, gamma=0.0006420943657693567, kernel=rbf; total time=  27.0s\n",
      "[CV] END C=76.9907227835218, gamma=0.00010761230404511204, kernel=linear; total time=  23.0s\n",
      "[CV] END C=48.82655298695836, gamma=0.008887497954305948, kernel=rbf; total time=  23.4s\n",
      "[CV] END C=48.82655298695836, gamma=0.008887497954305948, kernel=rbf; total time=  24.5s\n",
      "[CV] END C=76.9907227835218, gamma=0.00010761230404511204, kernel=linear; total time=  23.8s\n",
      "[CV] END C=48.82655298695836, gamma=0.008887497954305948, kernel=rbf; total time=  26.5s\n",
      "[CV] END C=48.82655298695836, gamma=0.008887497954305948, kernel=rbf; total time=  27.4s\n",
      "[CV] END C=76.9907227835218, gamma=0.00010761230404511204, kernel=linear; total time=  26.6s\n",
      "[CV] END C=76.9907227835218, gamma=0.00010761230404511204, kernel=linear; total time=  26.3s\n",
      "[CV] END C=14.758628042978785, gamma=0.0004847316859569904, kernel=linear; total time=  18.5s\n",
      "[CV] END C=14.758628042978785, gamma=0.0004847316859569904, kernel=linear; total time=  18.8s\n",
      "[CV] END C=14.758628042978785, gamma=0.0004847316859569904, kernel=linear; total time=  18.6s\n",
      "[CV] END C=58.02157584954294, gamma=0.000264045469068176, kernel=poly; total time=  18.8s\n",
      "[CV] END C=58.02157584954294, gamma=0.000264045469068176, kernel=poly; total time=  19.3s\n",
      "[CV] END C=14.758628042978785, gamma=0.0004847316859569904, kernel=linear; total time=  21.5s\n",
      "[CV] END C=14.758628042978785, gamma=0.0004847316859569904, kernel=linear; total time=  20.3s\n",
      "[CV] END C=58.02157584954294, gamma=0.000264045469068176, kernel=poly; total time=  19.0s\n",
      "[CV] END C=58.02157584954294, gamma=0.000264045469068176, kernel=poly; total time=  19.7s\n",
      "[CV] END C=58.02157584954294, gamma=0.000264045469068176, kernel=poly; total time=  19.7s\n",
      "[CV] END C=63.423165440446816, gamma=0.0006292734406441765, kernel=poly; total time=  20.8s\n",
      "[CV] END C=63.423165440446816, gamma=0.0006292734406441765, kernel=poly; total time=  20.6s\n",
      "[CV] END C=63.423165440446816, gamma=0.0006292734406441765, kernel=poly; total time=  23.6s\n",
      "[CV] END C=63.423165440446816, gamma=0.0006292734406441765, kernel=poly; total time=  21.9s\n",
      "[CV] END C=63.423165440446816, gamma=0.0006292734406441765, kernel=poly; total time=  21.6s\n",
      "[CV] END C=53.81130527744537, gamma=0.0012890250623504753, kernel=poly; total time=  24.8s\n",
      "[CV] END C=53.81130527744537, gamma=0.0012890250623504753, kernel=poly; total time=  26.1s\n",
      "[CV] END C=75.76067114624455, gamma=0.0006013295831648438, kernel=linear; total time=  23.0s\n",
      "[CV] END C=53.81130527744537, gamma=0.0012890250623504753, kernel=poly; total time=  26.5s\n",
      "[CV] END C=75.76067114624455, gamma=0.0006013295831648438, kernel=linear; total time=  24.6s\n",
      "[CV] END C=75.76067114624455, gamma=0.0006013295831648438, kernel=linear; total time=  24.8s\n",
      "[CV] END C=53.81130527744537, gamma=0.0012890250623504753, kernel=poly; total time=  26.0s\n",
      "[CV] END C=53.81130527744537, gamma=0.0012890250623504753, kernel=poly; total time=  25.9s\n",
      "[CV] END C=75.76067114624455, gamma=0.0006013295831648438, kernel=linear; total time=  25.2s\n",
      "[CV] END C=75.76067114624455, gamma=0.0006013295831648438, kernel=linear; total time=  26.4s\n",
      "[CV] END C=32.60039318812766, gamma=0.0010309425163098124, kernel=linear; total time=  20.8s\n",
      "[CV] END C=32.60039318812766, gamma=0.0010309425163098124, kernel=linear; total time=  21.7s\n",
      "[CV] END C=32.60039318812766, gamma=0.0010309425163098124, kernel=linear; total time=  20.2s\n",
      "[CV] END C=32.60039318812766, gamma=0.0010309425163098124, kernel=linear; total time=  21.3s\n",
      "[CV] END C=32.60039318812766, gamma=0.0010309425163098124, kernel=linear; total time=  23.4s\n",
      "[CV] END C=86.233831303864, gamma=0.00014611043891891962, kernel=linear; total time=  23.4s\n",
      "[CV] END C=86.233831303864, gamma=0.00014611043891891962, kernel=linear; total time=  24.7s\n",
      "[CV] END C=86.233831303864, gamma=0.00014611043891891962, kernel=linear; total time=  24.8s\n",
      "[CV] END C=86.233831303864, gamma=0.00014611043891891962, kernel=linear; total time=  24.2s\n",
      "[CV] END C=86.233831303864, gamma=0.00014611043891891962, kernel=linear; total time=  25.1s\n",
      "[CV] END C=29.04197314249371, gamma=0.0004997467602043294, kernel=linear; total time=  19.9s\n",
      "[CV] END C=29.04197314249371, gamma=0.0004997467602043294, kernel=linear; total time=  20.9s\n",
      "[CV] END C=29.04197314249371, gamma=0.0004997467602043294, kernel=linear; total time=  21.8s\n",
      "[CV] END C=29.04197314249371, gamma=0.0004997467602043294, kernel=linear; total time=  20.8s\n",
      "[CV] END C=29.04197314249371, gamma=0.0004997467602043294, kernel=linear; total time=  19.7s\n",
      "[CV] END C=26.913978563421082, gamma=0.0001244507038626731, kernel=linear; total time=  19.2s\n",
      "[CV] END C=26.913978563421082, gamma=0.0001244507038626731, kernel=linear; total time=  21.3s\n",
      "[CV] END C=26.913978563421082, gamma=0.0001244507038626731, kernel=linear; total time=  20.2s\n",
      "[CV] END C=26.913978563421082, gamma=0.0001244507038626731, kernel=linear; total time=  23.1s\n",
      "[CV] END C=67.50632473485399, gamma=0.002678472241700178, kernel=poly; total time= 1.2min\n",
      "[CV] END C=26.913978563421082, gamma=0.0001244507038626731, kernel=linear; total time=  26.1s\n",
      "[CV] END C=66.88360318771373, gamma=0.0007271851495818517, kernel=poly; total time=  21.7s\n",
      "[CV] END C=66.88360318771373, gamma=0.0007271851495818517, kernel=poly; total time=  21.5s\n",
      "[CV] END C=66.88360318771373, gamma=0.0007271851495818517, kernel=poly; total time=  22.1s\n",
      "[CV] END C=66.88360318771373, gamma=0.0007271851495818517, kernel=poly; total time=  20.8s\n",
      "[CV] END C=30.14170778404763, gamma=0.000104044182481589, kernel=poly; total time=  17.6s\n",
      "[CV] END C=66.88360318771373, gamma=0.0007271851495818517, kernel=poly; total time=  21.2s\n",
      "[CV] END C=30.14170778404763, gamma=0.000104044182481589, kernel=poly; total time=  19.9s\n",
      "[CV] END C=30.14170778404763, gamma=0.000104044182481589, kernel=poly; total time=  17.8s\n",
      "[CV] END C=30.14170778404763, gamma=0.000104044182481589, kernel=poly; total time=  17.8s\n",
      "[CV] END C=30.14170778404763, gamma=0.000104044182481589, kernel=poly; total time=  21.1s\n",
      "[CV] END C=9.79908541435476, gamma=0.00394909556842221, kernel=linear; total time=  18.6s\n",
      "[CV] END C=67.50632473485399, gamma=0.002678472241700178, kernel=poly; total time= 1.5min\n",
      "[CV] END C=67.50632473485399, gamma=0.002678472241700178, kernel=poly; total time= 1.5min\n",
      "[CV] END C=9.79908541435476, gamma=0.00394909556842221, kernel=linear; total time=  16.9s\n",
      "[CV] END C=9.79908541435476, gamma=0.00394909556842221, kernel=linear; total time=  18.1s\n",
      "[CV] END C=9.79908541435476, gamma=0.00394909556842221, kernel=linear; total time=  20.3s\n",
      "[CV] END C=9.79908541435476, gamma=0.00394909556842221, kernel=linear; total time=  19.1s\n",
      "[CV] END C=71.23772458661193, gamma=0.0004970052279701974, kernel=poly; total time=  19.7s\n",
      "[CV] END C=71.23772458661193, gamma=0.0004970052279701974, kernel=poly; total time=  19.6s\n",
      "[CV] END C=71.23772458661193, gamma=0.0004970052279701974, kernel=poly; total time=  19.4s\n",
      "[CV] END C=71.23772458661193, gamma=0.0004970052279701974, kernel=poly; total time=  19.4s\n",
      "[CV] END C=67.50632473485399, gamma=0.002678472241700178, kernel=poly; total time= 1.7min\n",
      "[CV] END C=67.50632473485399, gamma=0.002678472241700178, kernel=poly; total time= 1.6min\n",
      "[CV] END C=71.23772458661193, gamma=0.0004970052279701974, kernel=poly; total time=  19.8s\n",
      "[CV] END C=42.12242211103555, gamma=0.0046847762794803675, kernel=rbf; total time=  24.5s\n",
      "[CV] END C=42.12242211103555, gamma=0.0046847762794803675, kernel=rbf; total time=  25.7s\n",
      "[CV] END C=42.12242211103555, gamma=0.0046847762794803675, kernel=rbf; total time=  24.8s\n",
      "[CV] END C=42.12242211103555, gamma=0.0046847762794803675, kernel=rbf; total time=  22.6s\n",
      "[CV] END C=42.12242211103555, gamma=0.0046847762794803675, kernel=rbf; total time=  22.6s\n",
      "[CV] END C=95.48094429821113, gamma=0.0006268016888726486, kernel=linear; total time=  23.5s\n",
      "[CV] END C=95.48094429821113, gamma=0.0006268016888726486, kernel=linear; total time=  24.7s\n",
      "[CV] END C=95.48094429821113, gamma=0.0006268016888726486, kernel=linear; total time=  24.7s\n",
      "[CV] END C=95.48094429821113, gamma=0.0006268016888726486, kernel=linear; total time=  24.3s\n",
      "[CV] END C=95.48094429821113, gamma=0.0006268016888726486, kernel=linear; total time=  23.5s\n",
      "[CV] END C=73.10209733244814, gamma=0.0008233584874788829, kernel=linear; total time=  22.4s\n",
      "[CV] END C=73.10209733244814, gamma=0.0008233584874788829, kernel=linear; total time=  23.4s\n",
      "[CV] END C=73.10209733244814, gamma=0.0008233584874788829, kernel=linear; total time=  26.0s\n",
      "[CV] END C=73.10209733244814, gamma=0.0008233584874788829, kernel=linear; total time=  25.1s\n",
      "[CV] END C=73.10209733244814, gamma=0.0008233584874788829, kernel=linear; total time=  25.4s\n",
      "[CV] END C=20.129220983646654, gamma=0.0011417580112201944, kernel=poly; total time=  21.8s\n",
      "[CV] END C=20.129220983646654, gamma=0.0011417580112201944, kernel=poly; total time=  22.8s\n",
      "[CV] END C=20.129220983646654, gamma=0.0011417580112201944, kernel=poly; total time=  21.5s\n",
      "[CV] END C=20.129220983646654, gamma=0.0011417580112201944, kernel=poly; total time=  21.7s\n",
      "[CV] END C=20.129220983646654, gamma=0.0011417580112201944, kernel=poly; total time=  21.7s\n",
      "[CV] END C=29.59052824039627, gamma=0.0027328519704112033, kernel=linear; total time=  19.0s\n",
      "[CV] END C=29.59052824039627, gamma=0.0027328519704112033, kernel=linear; total time=  20.1s\n",
      "[CV] END C=29.59052824039627, gamma=0.0027328519704112033, kernel=linear; total time=  19.7s\n",
      "[CV] END C=29.59052824039627, gamma=0.0027328519704112033, kernel=linear; total time=  23.6s\n",
      "[CV] END C=29.59052824039627, gamma=0.0027328519704112033, kernel=linear; total time=  23.8s\n",
      "[CV] END C=39.65135917656414, gamma=0.004254089559914656, kernel=rbf; total time=  24.0s\n",
      "[CV] END C=39.65135917656414, gamma=0.004254089559914656, kernel=rbf; total time=  24.1s\n",
      "[CV] END C=39.65135917656414, gamma=0.004254089559914656, kernel=rbf; total time=  23.0s\n",
      "[CV] END C=39.65135917656414, gamma=0.004254089559914656, kernel=rbf; total time=  22.8s\n",
      "[CV] END C=39.65135917656414, gamma=0.004254089559914656, kernel=rbf; total time=  22.5s\n",
      "[CV] END C=40.28897063127649, gamma=0.00015022916752287167, kernel=rbf; total time=  23.6s\n",
      "[CV] END C=40.28897063127649, gamma=0.00015022916752287167, kernel=rbf; total time=  24.6s\n",
      "[CV] END C=40.28897063127649, gamma=0.00015022916752287167, kernel=rbf; total time=  26.2s\n",
      "[CV] END C=21.399860463631956, gamma=0.00460860638117305, kernel=linear; total time=  19.9s\n",
      "[CV] END C=21.399860463631956, gamma=0.00460860638117305, kernel=linear; total time=  18.9s\n",
      "[CV] END C=40.28897063127649, gamma=0.00015022916752287167, kernel=rbf; total time=  23.6s\n",
      "[CV] END C=40.28897063127649, gamma=0.00015022916752287167, kernel=rbf; total time=  29.3s\n",
      "[CV] END C=21.399860463631956, gamma=0.00460860638117305, kernel=linear; total time=  20.1s\n",
      "[CV] END C=21.399860463631956, gamma=0.00460860638117305, kernel=linear; total time=  22.4s\n",
      "[CV] END C=21.399860463631956, gamma=0.00460860638117305, kernel=linear; total time=  19.3s\n",
      "[CV] END C=58.39522751121799, gamma=0.00024043110835780067, kernel=linear; total time=  22.3s\n",
      "[CV] END C=58.39522751121799, gamma=0.00024043110835780067, kernel=linear; total time=  20.9s\n",
      "[CV] END C=58.39522751121799, gamma=0.00024043110835780067, kernel=linear; total time=  21.9s\n",
      "[CV] END C=58.39522751121799, gamma=0.00024043110835780067, kernel=linear; total time=  24.1s\n",
      "[CV] END C=58.39522751121799, gamma=0.00024043110835780067, kernel=linear; total time=  28.3s\n",
      "[CV] END C=76.51071731361482, gamma=0.0005781327860252642, kernel=linear; total time=  22.8s\n",
      "[CV] END C=15.821961315810364, gamma=0.0002721938976837794, kernel=linear; total time=  19.6s\n",
      "[CV] END C=15.821961315810364, gamma=0.0002721938976837794, kernel=linear; total time=  20.4s\n",
      "[CV] END C=15.821961315810364, gamma=0.0002721938976837794, kernel=linear; total time=  21.1s\n",
      "[CV] END C=76.51071731361482, gamma=0.0005781327860252642, kernel=linear; total time=  24.3s\n",
      "[CV] END C=76.51071731361482, gamma=0.0005781327860252642, kernel=linear; total time=  24.5s\n",
      "[CV] END C=15.821961315810364, gamma=0.0002721938976837794, kernel=linear; total time=  19.9s\n",
      "[CV] END C=15.821961315810364, gamma=0.0002721938976837794, kernel=linear; total time=  20.1s\n",
      "[CV] END C=76.51071731361482, gamma=0.0005781327860252642, kernel=linear; total time=  27.0s\n",
      "[CV] END C=76.51071731361482, gamma=0.0005781327860252642, kernel=linear; total time=  28.0s\n",
      "[CV] END C=11.893760776689367, gamma=0.00013723424833972966, kernel=poly; total time=  18.1s\n",
      "[CV] END C=11.893760776689367, gamma=0.00013723424833972966, kernel=poly; total time=  18.6s\n",
      "[CV] END C=11.893760776689367, gamma=0.00013723424833972966, kernel=poly; total time=  18.1s\n",
      "[CV] END C=11.893760776689367, gamma=0.00013723424833972966, kernel=poly; total time=  19.4s\n",
      "[CV] END C=11.893760776689367, gamma=0.00013723424833972966, kernel=poly; total time=  18.2s\n",
      "[CV] END C=78.16348861695326, gamma=0.00010209861307823664, kernel=rbf; total time=  22.7s\n",
      "[CV] END C=78.16348861695326, gamma=0.00010209861307823664, kernel=rbf; total time=  22.7s\n",
      "[CV] END C=78.16348861695326, gamma=0.00010209861307823664, kernel=rbf; total time=  24.5s\n",
      "[CV] END C=85.93140407740955, gamma=0.00016811291702569571, kernel=linear; total time=  24.7s\n",
      "[CV] END C=85.93140407740955, gamma=0.00016811291702569571, kernel=linear; total time=  24.1s\n",
      "[CV] END C=78.16348861695326, gamma=0.00010209861307823664, kernel=rbf; total time=  26.4s\n",
      "[CV] END C=85.93140407740955, gamma=0.00016811291702569571, kernel=linear; total time=  26.1s\n",
      "[CV] END C=85.93140407740955, gamma=0.00016811291702569571, kernel=linear; total time=  29.6s\n",
      "[CV] END C=85.93140407740955, gamma=0.00016811291702569571, kernel=linear; total time=  30.6s\n",
      "[CV] END C=78.16348861695326, gamma=0.00010209861307823664, kernel=rbf; total time=  39.7s\n",
      "[CV] END C=71.05268726241358, gamma=0.0012100984481417014, kernel=poly; total time=  25.3s\n",
      "[CV] END C=71.05268726241358, gamma=0.0012100984481417014, kernel=poly; total time=  25.5s\n",
      "[CV] END C=71.05268726241358, gamma=0.0012100984481417014, kernel=poly; total time=  25.3s\n",
      "[CV] END C=0.05032566097956457, gamma=0.0002665819060855476, kernel=rbf; total time=  23.5s\n",
      "[CV] END C=0.05032566097956457, gamma=0.0002665819060855476, kernel=rbf; total time=  24.8s\n",
      "[CV] END C=71.05268726241358, gamma=0.0012100984481417014, kernel=poly; total time=  26.7s\n",
      "[CV] END C=71.05268726241358, gamma=0.0012100984481417014, kernel=poly; total time=  27.3s\n",
      "[CV] END C=0.05032566097956457, gamma=0.0002665819060855476, kernel=rbf; total time=  23.2s\n",
      "[CV] END C=0.05032566097956457, gamma=0.0002665819060855476, kernel=rbf; total time=  26.3s\n",
      "[CV] END C=27.142325299483616, gamma=0.0009425019705449559, kernel=poly; total time=  19.7s\n",
      "[CV] END C=27.142325299483616, gamma=0.0009425019705449559, kernel=poly; total time=  20.7s\n",
      "[CV] END C=27.142325299483616, gamma=0.0009425019705449559, kernel=poly; total time=  19.8s\n",
      "[CV] END C=27.142325299483616, gamma=0.0009425019705449559, kernel=poly; total time=  20.3s\n",
      "[CV] END C=27.142325299483616, gamma=0.0009425019705449559, kernel=poly; total time=  20.5s\n",
      "[CV] END C=40.89779672111114, gamma=0.001030177780293206, kernel=linear; total time=  20.1s\n",
      "[CV] END C=40.89779672111114, gamma=0.001030177780293206, kernel=linear; total time=  20.3s\n",
      "[CV] END C=0.05032566097956457, gamma=0.0002665819060855476, kernel=rbf; total time=  38.6s\n",
      "[CV] END C=40.89779672111114, gamma=0.001030177780293206, kernel=linear; total time=  21.0s\n",
      "[CV] END C=40.89779672111114, gamma=0.001030177780293206, kernel=linear; total time=  23.5s\n",
      "[CV] END C=16.047589509159046, gamma=0.00010200451547264842, kernel=poly; total time=  17.9s\n",
      "[CV] END C=16.047589509159046, gamma=0.00010200451547264842, kernel=poly; total time=  17.6s\n",
      "[CV] END C=40.89779672111114, gamma=0.001030177780293206, kernel=linear; total time=  21.1s\n",
      "[CV] END C=16.047589509159046, gamma=0.00010200451547264842, kernel=poly; total time=  16.6s\n",
      "[CV] END C=16.047589509159046, gamma=0.00010200451547264842, kernel=poly; total time=  17.2s\n",
      "[CV] END C=16.047589509159046, gamma=0.00010200451547264842, kernel=poly; total time=  17.6s\n",
      "[CV] END C=43.35692630947435, gamma=0.00014918545685226224, kernel=linear; total time=  18.7s\n",
      "[CV] END C=43.35692630947435, gamma=0.00014918545685226224, kernel=linear; total time=  21.3s\n",
      "[CV] END C=43.35692630947435, gamma=0.00014918545685226224, kernel=linear; total time=  20.4s\n",
      "[CV] END C=43.35692630947435, gamma=0.00014918545685226224, kernel=linear; total time=  16.8s\n",
      "[CV] END C=43.35692630947435, gamma=0.00014918545685226224, kernel=linear; total time=  17.0s\n",
      "[CV] END C=81.13904244983902, gamma=0.00471773021982405, kernel=poly; total time= 2.9min\n",
      "[CV] END C=81.13904244983902, gamma=0.00471773021982405, kernel=poly; total time= 2.9min\n",
      "[CV] END C=81.13904244983902, gamma=0.00471773021982405, kernel=poly; total time= 2.9min\n",
      "[CV] END C=81.13904244983902, gamma=0.00471773021982405, kernel=poly; total time= 2.9min\n",
      "[CV] END C=81.13904244983902, gamma=0.00471773021982405, kernel=poly; total time= 2.9min\n",
      "[CV] END C=65.98971305738284, gamma=0.009570988773309889, kernel=poly; total time= 8.3min\n",
      "[CV] END C=65.98971305738284, gamma=0.009570988773309889, kernel=poly; total time= 9.6min\n",
      "[CV] END C=65.98971305738284, gamma=0.009570988773309889, kernel=poly; total time= 9.5min\n",
      "[CV] END C=65.98971305738284, gamma=0.009570988773309889, kernel=poly; total time= 9.9min\n",
      "[CV] END C=65.98971305738284, gamma=0.009570988773309889, kernel=poly; total time=10.1min\n"
     ]
    }
   ],
   "source": [
    "from sklearn.model_selection import RandomizedSearchCV\n",
    "from sklearn.svm import SVR\n",
    "import scipy.stats as stats\n",
    "\n",
    "svm_reg = SVR()\n",
    "\n",
    "param_dist = {\n",
    "    'C': stats.uniform(0.01, 99.99),         \n",
    "    'kernel': ['linear', 'rbf', 'poly'],      \n",
    "    'gamma': stats.loguniform(1e-4, 1e-2)    \n",
    "}\n",
    "\n",
    "random_search = RandomizedSearchCV(\n",
    "    estimator=svm_reg, \n",
    "    param_distributions=param_dist, \n",
    "    n_iter=50,  # Number of iterations (samples from param_dist)\n",
    "    cv=5, \n",
    "    scoring='neg_mean_squared_error', \n",
    "    n_jobs=-1, \n",
    "    verbose=2\n",
    ")\n",
    "\n",
    "random_search.fit(X_train_DL, y_train_DL)\n",
    "\n",
    "# Get the best parameters and the associated model\n",
    "best_params_random_search_DL = random_search.best_params_\n",
    "best_svm_reg_random_search_DL = random_search.best_estimator_\n"
   ]
  },
  {
   "cell_type": "code",
   "execution_count": 30,
   "metadata": {},
   "outputs": [
    {
     "name": "stdout",
     "output_type": "stream",
     "text": [
      "{'C': 81.13904244983902, 'gamma': 0.00471773021982405, 'kernel': 'poly'}\n",
      "[-572.98116847 1952.9616451  3273.86649248 ... 2348.08844653 2288.53856386\n",
      " -311.37631253]\n"
     ]
    }
   ],
   "source": [
    "print(best_params_random_search_DL)\n",
    "predictions_svr_random_search_DL = best_svm_reg_random_search_DL.predict(X_test_DL)\n",
    "print(predictions_svr_random_search_DL)\n"
   ]
  },
  {
   "cell_type": "markdown",
   "metadata": {},
   "source": [
    "### Salvar dados de teste e treino em csv ###"
   ]
  },
  {
   "cell_type": "code",
   "execution_count": 58,
   "metadata": {},
   "outputs": [],
   "source": [
    "output_folder_train_and_test = r'../Training_And_Test/'\n",
    "X_train_DL.to_csv(output_folder_train_and_test + '//' + 'X_train_DL.csv')\n",
    "y_train_DL.to_csv(output_folder_train_and_test + '//' + 'y_train_DL.csv')\n",
    "X_test_DL.to_csv(output_folder_train_and_test + '//' + 'X_test_DL.csv')\n",
    "y_test_DL.to_csv(output_folder_train_and_test + '//' + 'y_test_DL.csv')\n",
    "\n",
    "X_train_UL.to_csv(output_folder_train_and_test + '//' + 'X_train_UL.csv')\n",
    "y_train_UL.to_csv(output_folder_train_and_test + '//' + 'y_train_UL.csv')\n",
    "X_test_UL.to_csv(output_folder_train_and_test + '//' + 'X_test_UL.csv')\n",
    "y_test_UL.to_csv(output_folder_train_and_test + '//' + 'y_test_UL.csv')\n"
   ]
  },
  {
   "cell_type": "code",
   "execution_count": null,
   "metadata": {},
   "outputs": [],
   "source": []
  }
 ],
 "metadata": {
  "kernelspec": {
   "display_name": "env",
   "language": "python",
   "name": "python3"
  },
  "language_info": {
   "codemirror_mode": {
    "name": "ipython",
    "version": 3
   },
   "file_extension": ".py",
   "mimetype": "text/x-python",
   "name": "python",
   "nbconvert_exporter": "python",
   "pygments_lexer": "ipython3",
   "version": "3.10.6"
  },
  "orig_nbformat": 4
 },
 "nbformat": 4,
 "nbformat_minor": 2
}
