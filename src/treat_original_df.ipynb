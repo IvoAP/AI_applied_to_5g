{
 "cells": [
  {
   "cell_type": "code",
   "execution_count": 27,
   "metadata": {},
   "outputs": [],
   "source": [
    "import pandas as pd\n",
    "import os\n",
    "import path_original as po\n",
    "import numpy as np"
   ]
  },
  {
   "cell_type": "code",
   "execution_count": 2,
   "metadata": {},
   "outputs": [
    {
     "name": "stdout",
     "output_type": "stream",
     "text": [
      "<built-in function getcwd>\n"
     ]
    }
   ],
   "source": [
    "print(os.getcwd)"
   ]
  },
  {
   "cell_type": "code",
   "execution_count": 11,
   "metadata": {},
   "outputs": [],
   "source": [
    "training_columns = ['RSRP', 'RSRQ', 'SNR', 'CQI', 'RSSI']"
   ]
  },
  {
   "cell_type": "code",
   "execution_count": 18,
   "metadata": {},
   "outputs": [],
   "source": [
    "def checkCollumn(dataframe, collumn):\n",
    "    flag =  dataframe[collumn].isnull().any()\n",
    "   \n",
    "    if flag == True:\n",
    "        collum_media = dataframe[collumn].mean\n",
    "        dataframe[collumn].fillna(collum_media, inplace=True)\n",
    "    \n",
    "    flag2 = dataframe[collumn].isnull().any()\n",
    "    if(flag2 == True):\n",
    "        print(f'Deu ruim!')\n",
    "    else:\n",
    "        print(f'Deu bom!')\n",
    "    "
   ]
  },
  {
   "cell_type": "code",
   "execution_count": 26,
   "metadata": {},
   "outputs": [
    {
     "name": "stdout",
     "output_type": "stream",
     "text": [
      "Deu bom!\n",
      "Deu bom!\n",
      "Deu bom!\n",
      "Deu bom!\n",
      "Deu bom!\n",
      "Deu bom!\n",
      "Deu bom!\n",
      "Deu bom!\n",
      "Deu bom!\n",
      "Deu bom!\n",
      "Deu bom!\n",
      "Deu bom!\n",
      "Deu bom!\n",
      "Deu bom!\n",
      "Deu bom!\n",
      "Deu bom!\n",
      "Deu bom!\n",
      "Deu bom!\n",
      "Deu bom!\n",
      "Deu bom!\n",
      "Deu bom!\n",
      "Deu bom!\n",
      "Deu bom!\n",
      "Deu bom!\n",
      "Deu bom!\n",
      "Deu bom!\n",
      "Deu bom!\n",
      "Deu bom!\n",
      "Deu bom!\n",
      "Deu bom!\n",
      "Deu bom!\n",
      "Deu bom!\n",
      "Deu bom!\n",
      "Deu bom!\n",
      "Deu bom!\n",
      "Deu bom!\n",
      "Deu bom!\n",
      "Deu bom!\n",
      "Deu bom!\n",
      "Deu bom!\n",
      "Deu bom!\n",
      "Deu bom!\n",
      "Deu bom!\n",
      "Deu bom!\n",
      "Deu bom!\n"
     ]
    }
   ],
   "source": [
    "\n",
    "\n",
    "for p in po.path_Netflix_Driving_animated_RickandMorty:\n",
    "    path =os.path.join('..',p)\n",
    "    data = pd.read_csv(path)\n",
    "    data = data.replace(\"-\", np.nan)\n",
    "\n",
    "    for index in training_columns:\n",
    "        checkCollumn(data,index)\n",
    "    "
   ]
  }
 ],
 "metadata": {
  "kernelspec": {
   "display_name": "env",
   "language": "python",
   "name": "python3"
  },
  "language_info": {
   "codemirror_mode": {
    "name": "ipython",
    "version": 3
   },
   "file_extension": ".py",
   "mimetype": "text/x-python",
   "name": "python",
   "nbconvert_exporter": "python",
   "pygments_lexer": "ipython3",
   "version": "3.11.1"
  },
  "orig_nbformat": 4
 },
 "nbformat": 4,
 "nbformat_minor": 2
}
