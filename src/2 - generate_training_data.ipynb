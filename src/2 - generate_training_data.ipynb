{
 "cells": [
  {
   "cell_type": "code",
   "execution_count": 2,
   "metadata": {},
   "outputs": [],
   "source": [
    "import pandas as pd\n",
    "import numpy as np\n",
    "from sklearn.model_selection import train_test_split\n"
   ]
  },
  {
   "cell_type": "markdown",
   "metadata": {},
   "source": [
    "#### Import the data set and check the NaN values ####"
   ]
  },
  {
   "cell_type": "code",
   "execution_count": 10,
   "metadata": {},
   "outputs": [
    {
     "name": "stdout",
     "output_type": "stream",
     "text": [
      "Number of NaN values in each column:\n",
      "Timestamp           0\n",
      "Longitude           0\n",
      "Latitude            0\n",
      "Speed               0\n",
      "Operatorname        0\n",
      "CellID              0\n",
      "NetworkMode         0\n",
      "RSRP                0\n",
      "RSRQ                0\n",
      "SNR                 0\n",
      "CQI                 0\n",
      "RSSI                0\n",
      "DL_bitrate          0\n",
      "UL_bitrate          0\n",
      "State               0\n",
      "PINGAVG         37730\n",
      "PINGMIN         37730\n",
      "PINGMAX         37730\n",
      "PINGSTDEV       37730\n",
      "PINGLOSS        37730\n",
      "CELLHEX             0\n",
      "NODEHEX           176\n",
      "LACHEX              0\n",
      "RAWCELLID           0\n",
      "NRxRSRP          7077\n",
      "NRxRSRQ          7157\n",
      "dtype: int64\n"
     ]
    }
   ],
   "source": [
    "dataset = pd.read_csv(r'../5G - Datasets treated/Amazon/Driving/amazon_driving.csv')\n",
    "columns_to_fill = ['Longitude', 'Latitude','Speed','RSRP', 'RSRQ', 'SNR', 'CQI', 'RSSI']\n",
    "medians = dataset[columns_to_fill].median()\n",
    "dataset[columns_to_fill] = dataset[columns_to_fill].fillna(medians)\n",
    "nan_counts = dataset.isna().sum()\n",
    "\n",
    "print(\"Number of NaN values in each column:\")\n",
    "print(nan_counts)\n"
   ]
  },
  {
   "cell_type": "markdown",
   "metadata": {},
   "source": [
    "#### Fill the NaN colluns with median  (meidana) if neccessary ####"
   ]
  },
  {
   "cell_type": "code",
   "execution_count": 11,
   "metadata": {},
   "outputs": [
    {
     "name": "stdout",
     "output_type": "stream",
     "text": [
      "Number of NaN values in each column:\n",
      "Timestamp           0\n",
      "Longitude           0\n",
      "Latitude            0\n",
      "Speed               0\n",
      "Operatorname        0\n",
      "CellID              0\n",
      "NetworkMode         0\n",
      "RSRP                0\n",
      "RSRQ                0\n",
      "SNR                 0\n",
      "CQI                 0\n",
      "RSSI                0\n",
      "DL_bitrate          0\n",
      "UL_bitrate          0\n",
      "State               0\n",
      "PINGAVG         37730\n",
      "PINGMIN         37730\n",
      "PINGMAX         37730\n",
      "PINGSTDEV       37730\n",
      "PINGLOSS        37730\n",
      "CELLHEX             0\n",
      "NODEHEX           176\n",
      "LACHEX              0\n",
      "RAWCELLID           0\n",
      "NRxRSRP          7077\n",
      "NRxRSRQ          7157\n",
      "dtype: int64\n"
     ]
    }
   ],
   "source": [
    "dataset[columns_to_fill] = dataset[columns_to_fill].fillna(medians)\n",
    "print(\"Number of NaN values in each column:\")\n",
    "print(nan_counts)"
   ]
  },
  {
   "cell_type": "code",
   "execution_count": 13,
   "metadata": {},
   "outputs": [
    {
     "name": "stdout",
     "output_type": "stream",
     "text": [
      "Index(['Timestamp', 'Longitude', 'Latitude', 'Speed', 'Operatorname', 'CellID',\n",
      "       'NetworkMode', 'RSRP', 'RSRQ', 'SNR', 'CQI', 'RSSI', 'DL_bitrate',\n",
      "       'UL_bitrate', 'State', 'PINGAVG', 'PINGMIN', 'PINGMAX', 'PINGSTDEV',\n",
      "       'PINGLOSS', 'CELLHEX', 'NODEHEX', 'LACHEX', 'RAWCELLID', 'NRxRSRP',\n",
      "       'NRxRSRQ'],\n",
      "      dtype='object')\n"
     ]
    }
   ],
   "source": [
    "print(dataset.columns)"
   ]
  },
  {
   "cell_type": "markdown",
   "metadata": {},
   "source": [
    "#### Saving the training and test data ####"
   ]
  },
  {
   "cell_type": "code",
   "execution_count": 14,
   "metadata": {},
   "outputs": [],
   "source": [
    "X_DL = dataset[['Longitude', 'Latitude','Speed','RSRP', 'RSRQ', 'SNR', 'CQI', 'RSSI']]\n",
    "y_DL = dataset['DL_bitrate']\n",
    "\n",
    "X_UL = dataset[['Longitude', 'Latitude','Speed','RSRP', 'RSRQ', 'SNR', 'CQI', 'RSSI']]\n",
    "y_UL = dataset['UL_bitrate']"
   ]
  },
  {
   "cell_type": "code",
   "execution_count": 15,
   "metadata": {},
   "outputs": [],
   "source": [
    "X_train_DL, X_test_DL, y_train_DL, y_test_DL = train_test_split(X_DL, y_DL, test_size=0.3, random_state=42)\n",
    "X_train_UL, X_test_UL, y_train_UL, y_test_UL = train_test_split(X_UL, y_UL, test_size=0.3, random_state=42)"
   ]
  },
  {
   "cell_type": "code",
   "execution_count": 16,
   "metadata": {},
   "outputs": [],
   "source": [
    "output_folder_train_and_test = r'../Training_And_Test/Amazon/'\n",
    "X_train_DL.to_csv(output_folder_train_and_test + '//' + 'X_train_DL_driving.csv')\n",
    "y_train_DL.to_csv(output_folder_train_and_test + '//' + 'y_train_DL_driving.csv')\n",
    "X_test_DL.to_csv(output_folder_train_and_test + '//' + 'X_test_DL_driving.csv')\n",
    "y_test_DL.to_csv(output_folder_train_and_test + '//' + 'y_test_DL_driving.csv')\n",
    "\n",
    "X_train_UL.to_csv(output_folder_train_and_test + '//' + 'X_train_UL_driving.csv')\n",
    "y_train_UL.to_csv(output_folder_train_and_test + '//' + 'y_train_UL_driving.csv')\n",
    "X_test_UL.to_csv(output_folder_train_and_test + '//' + 'X_test_UL_driving.csv')\n",
    "y_test_UL.to_csv(output_folder_train_and_test + '//' + 'y_test_UL_driving.csv')\n"
   ]
  }
 ],
 "metadata": {
  "kernelspec": {
   "display_name": "Python 3",
   "language": "python",
   "name": "python3"
  },
  "language_info": {
   "codemirror_mode": {
    "name": "ipython",
    "version": 3
   },
   "file_extension": ".py",
   "mimetype": "text/x-python",
   "name": "python",
   "nbconvert_exporter": "python",
   "pygments_lexer": "ipython3",
   "version": "3.10.6"
  },
  "orig_nbformat": 4
 },
 "nbformat": 4,
 "nbformat_minor": 2
}
