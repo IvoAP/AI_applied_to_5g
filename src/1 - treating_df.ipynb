{
 "cells": [
  {
   "cell_type": "code",
   "execution_count": 5,
   "metadata": {},
   "outputs": [],
   "source": [
    "import pandas as pd\n",
    "import os\n",
    "import numpy as np\n",
    "import path_relative as po"
   ]
  },
  {
   "cell_type": "code",
   "execution_count": 6,
   "metadata": {},
   "outputs": [
    {
     "name": "stdout",
     "output_type": "stream",
     "text": [
      "/home/admin/Área de Trabalho/AI_applied_to_5g/src\n"
     ]
    }
   ],
   "source": [
    "print(os.getcwd())"
   ]
  },
  {
   "cell_type": "code",
   "execution_count": 3,
   "metadata": {},
   "outputs": [],
   "source": [
    "\n",
    "training_columns = ['RSRP', 'RSRQ', 'SNR', 'CQI', 'RSSI']\n",
    "\n",
    "### --------------------------  Os datasets novos  ----------------------------###\n",
    "netflix_static_dataset = pd.DataFrame()\n",
    "netflix_driving_dataset = pd.DataFrame()\n",
    "amazon_static_dataset = pd.DataFrame()\n",
    "amazon_driving_dataset = pd.DataFrame()\n",
    "\n",
    "### -------------------------- Paths of datasets ------------------------------ #####\n",
    "output_folder_netflix_static = r'C:\\Users\\IvoAg\\OneDrive\\Área de Trabalho\\Repositorios\\AI_applied_to_5g\\5G - Datasets treated\\Netflix\\Static'\n",
    "output_folder_netflix_driving = r'C:\\Users\\IvoAg\\OneDrive\\Área de Trabalho\\Repositorios\\AI_applied_to_5g\\5G - Datasets treated\\Netflix\\Driving'\n",
    "output_folder_amazon_static = r'C:\\Users\\IvoAg\\OneDrive\\Área de Trabalho\\Repositorios\\AI_applied_to_5g\\5G - Datasets treated\\Amazon\\Static'\n",
    "output_folder_amazon_driving = r'C:\\Users\\IvoAg\\OneDrive\\Área de Trabalho\\Repositorios\\AI_applied_to_5g\\5G - Datasets treated\\Amazon\\Driving'\n",
    "\n",
    "\n",
    "#### ----------------------------- Filenames of the datasets --------------------------------- ###\n",
    "output_filename_netflix_static = 'netflix_static.csv'\n",
    "output_filename_netflix_driving = 'netflix_driving.csv'\n",
    "output_filename_amazon_static = 'amazon_static.csv'\n",
    "output_filename_amazon_driving = 'amazon_driving.csv'\n",
    "\n"
   ]
  },
  {
   "cell_type": "markdown",
   "metadata": {},
   "source": [
    "### Concatenate Netflix dataset staitc ###"
   ]
  },
  {
   "cell_type": "code",
   "execution_count": 4,
   "metadata": {},
   "outputs": [],
   "source": [
    "\n",
    "for p in po.path_Netflix_Static_Season3_StrangerThings:\n",
    "    path =os.path.join('..',p)\n",
    "    data = pd.read_csv(path)\n",
    "    data = data.replace(\"-\", np.nan)\n",
    "    median_value = data['RSSI'].median()\n",
    "    data['RSSI'].fillna(median_value, inplace=True)\n",
    "    netflix_static_dataset =  pd.concat([netflix_static_dataset, data], ignore_index=True) \n",
    "\n",
    "for p in po.path_Netflix_Static_animated_RickandMorty :\n",
    "    path =os.path.join('..',p)\n",
    "    data = pd.read_csv(path)\n",
    "    data = data.replace(\"-\", np.nan)\n",
    "    median_value = data['RSSI'].median()\n",
    "    data['RSSI'].fillna(median_value, inplace=True)\n",
    "    netflix_static_dataset =  pd.concat([netflix_static_dataset, data], ignore_index=True)\n",
    "\n",
    "\n",
    "netflix_static_dataset.to_csv(output_folder_netflix_static +  '\\\\'+ output_filename_netflix_static, index=False) \n",
    "\n",
    "\n",
    "\n",
    "\n",
    "    "
   ]
  },
  {
   "cell_type": "markdown",
   "metadata": {},
   "source": [
    "### Concatenate Netflix driving dataset ### \n"
   ]
  },
  {
   "cell_type": "code",
   "execution_count": 6,
   "metadata": {},
   "outputs": [],
   "source": [
    "\n",
    "for p in po.path_Netflix_Driving_animated_RickandMorty:\n",
    "    path =os.path.join('..',p)\n",
    "    data = pd.read_csv(path)\n",
    "    data = data.replace(\"-\", np.nan)\n",
    "    median_value = data['RSSI'].median()\n",
    "    data['RSSI'].fillna(median_value, inplace=True)\n",
    "    netflix_driving_dataset =  pd.concat([netflix_driving_dataset, data], ignore_index=True) \n",
    "\n",
    "for p in po.path_Netflix_Driving_Season3_StrangerThings :\n",
    "    path =os.path.join('..',p)\n",
    "    data = pd.read_csv(path)\n",
    "    data = data.replace(\"-\", np.nan)\n",
    "    median_value = data['RSSI'].median()\n",
    "    data['RSSI'].fillna(median_value, inplace=True)\n",
    "    netflix_driving_dataset =  pd.concat([netflix_driving_dataset, data], ignore_index=True)\n",
    "\n",
    "\n",
    "netflix_driving_dataset.to_csv(output_folder_netflix_driving +  '\\\\'+ output_filename_netflix_driving, index=False) \n"
   ]
  },
  {
   "cell_type": "markdown",
   "metadata": {},
   "source": [
    "### Concatenate Amazon static dataset ### "
   ]
  },
  {
   "cell_type": "code",
   "execution_count": 7,
   "metadata": {},
   "outputs": [
    {
     "name": "stderr",
     "output_type": "stream",
     "text": [
      "c:\\Users\\IvoAg\\OneDrive\\Área de Trabalho\\Repositorios\\AI_applied_to_5g\\env\\Lib\\site-packages\\numpy\\lib\\nanfunctions.py:1215: RuntimeWarning: Mean of empty slice\n",
      "  return np.nanmean(a, axis, out=out, keepdims=keepdims)\n",
      "c:\\Users\\IvoAg\\OneDrive\\Área de Trabalho\\Repositorios\\AI_applied_to_5g\\env\\Lib\\site-packages\\numpy\\lib\\nanfunctions.py:1215: RuntimeWarning: Mean of empty slice\n",
      "  return np.nanmean(a, axis, out=out, keepdims=keepdims)\n",
      "c:\\Users\\IvoAg\\OneDrive\\Área de Trabalho\\Repositorios\\AI_applied_to_5g\\env\\Lib\\site-packages\\numpy\\lib\\nanfunctions.py:1215: RuntimeWarning: Mean of empty slice\n",
      "  return np.nanmean(a, axis, out=out, keepdims=keepdims)\n",
      "c:\\Users\\IvoAg\\OneDrive\\Área de Trabalho\\Repositorios\\AI_applied_to_5g\\env\\Lib\\site-packages\\numpy\\lib\\nanfunctions.py:1215: RuntimeWarning: Mean of empty slice\n",
      "  return np.nanmean(a, axis, out=out, keepdims=keepdims)\n",
      "c:\\Users\\IvoAg\\OneDrive\\Área de Trabalho\\Repositorios\\AI_applied_to_5g\\env\\Lib\\site-packages\\numpy\\lib\\nanfunctions.py:1215: RuntimeWarning: Mean of empty slice\n",
      "  return np.nanmean(a, axis, out=out, keepdims=keepdims)\n",
      "c:\\Users\\IvoAg\\OneDrive\\Área de Trabalho\\Repositorios\\AI_applied_to_5g\\env\\Lib\\site-packages\\numpy\\lib\\nanfunctions.py:1215: RuntimeWarning: Mean of empty slice\n",
      "  return np.nanmean(a, axis, out=out, keepdims=keepdims)\n"
     ]
    }
   ],
   "source": [
    "for p in po.path_AmazonPrime_Static_animatedNinjago:\n",
    "    path =os.path.join('..',p)\n",
    "    data = pd.read_csv(path)\n",
    "    data = data.replace(\"-\", np.nan)\n",
    "    median_value = data['RSSI'].median()\n",
    "    data['RSSI'].fillna(median_value, inplace=True)\n",
    "    amazon_static_dataset =  pd.concat([amazon_static_dataset, data], ignore_index=True) \n",
    "\n",
    "for p in po.path_AmazonPrime_Static_Season3TheExpanse :\n",
    "    path =os.path.join('..',p)\n",
    "    data = pd.read_csv(path)\n",
    "    data = data.replace(\"-\", np.nan)\n",
    "    median_value = data['RSSI'].median()\n",
    "    data['RSSI'].fillna(median_value, inplace=True)\n",
    "    amazon_static_dataset =  pd.concat([amazon_static_dataset, data], ignore_index=True)\n",
    "\n",
    "\n",
    "amazon_static_dataset.to_csv(output_folder_amazon_static +  '\\\\'+ output_filename_amazon_static, index=False) "
   ]
  },
  {
   "cell_type": "markdown",
   "metadata": {},
   "source": [
    "### Concatenate Amazon driving dataset ### "
   ]
  },
  {
   "cell_type": "code",
   "execution_count": 9,
   "metadata": {},
   "outputs": [],
   "source": [
    "for p in po.path_AmazonPrime_Driving_AnimatedAdventureTime:\n",
    "    path =os.path.join('..',p)\n",
    "    data = pd.read_csv(path)\n",
    "    data = data.replace(\"-\", np.nan)\n",
    "    median_value = data['RSSI'].median()\n",
    "    data['RSSI'].fillna(median_value, inplace=True)\n",
    "    amazon_driving_dataset =  pd.concat([amazon_driving_dataset, data], ignore_index=True) \n",
    "\n",
    "for p in po.path_AmazonPrime_Driving_Season3TheExpanse:\n",
    "    path =os.path.join('..',p)\n",
    "    data = pd.read_csv(path)\n",
    "    data = data.replace(\"-\", np.nan)\n",
    "    median_value = data['RSSI'].median()\n",
    "    data['RSSI'].fillna(median_value, inplace=True)\n",
    "    amazon_driving_dataset =  pd.concat([amazon_driving_dataset, data], ignore_index=True)\n",
    "\n",
    "\n",
    "amazon_driving_dataset.to_csv(output_folder_amazon_driving +  '\\\\'+ output_filename_amazon_driving, index=False) "
   ]
  }
 ],
 "metadata": {
  "kernelspec": {
   "display_name": "env",
   "language": "python",
   "name": "python3"
  },
  "language_info": {
   "codemirror_mode": {
    "name": "ipython",
    "version": 3
   },
   "file_extension": ".py",
   "mimetype": "text/x-python",
   "name": "python",
   "nbconvert_exporter": "python",
   "pygments_lexer": "ipython3",
   "version": "3.10.6"
  },
  "orig_nbformat": 4
 },
 "nbformat": 4,
 "nbformat_minor": 2
}
