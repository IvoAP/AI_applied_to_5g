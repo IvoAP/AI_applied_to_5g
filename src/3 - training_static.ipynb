{
 "cells": [
  {
   "cell_type": "code",
   "execution_count": 2,
   "metadata": {},
   "outputs": [],
   "source": [
    "import pandas as pd\n",
    "import numpy as np\n",
    "from sklearn.model_selection import train_test_split\n",
    "from sklearn import metrics\n",
    "from sklearn.model_selection import cross_val_score\n",
    "from sklearn.preprocessing import StandardScaler\n",
    "from sklearn.pipeline import Pipeline\n",
    "import joblib"
   ]
  },
  {
   "cell_type": "code",
   "execution_count": 7,
   "metadata": {},
   "outputs": [],
   "source": [
    "X_test = pd.read_csv(r'../Training_And_Test/Amazon/X_test_UL_static.csv')\n",
    "y_test = pd.read_csv(r'../Training_And_Test/Amazon/y_test_UL_static.csv')\n",
    "X_train = pd.read_csv(r'../Training_And_Test/Amazon/X_train_UL_static.csv')\n",
    "y_train = pd.read_csv(r'../Training_And_Test/Amazon/y_train_UL_static.csv')"
   ]
  },
  {
   "cell_type": "markdown",
   "metadata": {},
   "source": [
    "### Linear Regression ###"
   ]
  },
  {
   "cell_type": "code",
   "execution_count": 8,
   "metadata": {},
   "outputs": [],
   "source": [
    "from sklearn.linear_model import LinearRegression as LR\n",
    "from sklearn.preprocessing import StandardScaler\n",
    "from sklearn.pipeline import Pipeline"
   ]
  },
  {
   "cell_type": "code",
   "execution_count": 9,
   "metadata": {},
   "outputs": [],
   "source": [
    "# Create a pipeline\n",
    "pipeline = Pipeline([\n",
    "    ('scaler', StandardScaler()),  # Data scaling step\n",
    "    ('model', LR())  # Linear Regression model step\n",
    "])\n"
   ]
  },
  {
   "cell_type": "code",
   "execution_count": 10,
   "metadata": {},
   "outputs": [
    {
     "data": {
      "text/html": [
       "<style>#sk-container-id-1 {color: black;}#sk-container-id-1 pre{padding: 0;}#sk-container-id-1 div.sk-toggleable {background-color: white;}#sk-container-id-1 label.sk-toggleable__label {cursor: pointer;display: block;width: 100%;margin-bottom: 0;padding: 0.3em;box-sizing: border-box;text-align: center;}#sk-container-id-1 label.sk-toggleable__label-arrow:before {content: \"▸\";float: left;margin-right: 0.25em;color: #696969;}#sk-container-id-1 label.sk-toggleable__label-arrow:hover:before {color: black;}#sk-container-id-1 div.sk-estimator:hover label.sk-toggleable__label-arrow:before {color: black;}#sk-container-id-1 div.sk-toggleable__content {max-height: 0;max-width: 0;overflow: hidden;text-align: left;background-color: #f0f8ff;}#sk-container-id-1 div.sk-toggleable__content pre {margin: 0.2em;color: black;border-radius: 0.25em;background-color: #f0f8ff;}#sk-container-id-1 input.sk-toggleable__control:checked~div.sk-toggleable__content {max-height: 200px;max-width: 100%;overflow: auto;}#sk-container-id-1 input.sk-toggleable__control:checked~label.sk-toggleable__label-arrow:before {content: \"▾\";}#sk-container-id-1 div.sk-estimator input.sk-toggleable__control:checked~label.sk-toggleable__label {background-color: #d4ebff;}#sk-container-id-1 div.sk-label input.sk-toggleable__control:checked~label.sk-toggleable__label {background-color: #d4ebff;}#sk-container-id-1 input.sk-hidden--visually {border: 0;clip: rect(1px 1px 1px 1px);clip: rect(1px, 1px, 1px, 1px);height: 1px;margin: -1px;overflow: hidden;padding: 0;position: absolute;width: 1px;}#sk-container-id-1 div.sk-estimator {font-family: monospace;background-color: #f0f8ff;border: 1px dotted black;border-radius: 0.25em;box-sizing: border-box;margin-bottom: 0.5em;}#sk-container-id-1 div.sk-estimator:hover {background-color: #d4ebff;}#sk-container-id-1 div.sk-parallel-item::after {content: \"\";width: 100%;border-bottom: 1px solid gray;flex-grow: 1;}#sk-container-id-1 div.sk-label:hover label.sk-toggleable__label {background-color: #d4ebff;}#sk-container-id-1 div.sk-serial::before {content: \"\";position: absolute;border-left: 1px solid gray;box-sizing: border-box;top: 0;bottom: 0;left: 50%;z-index: 0;}#sk-container-id-1 div.sk-serial {display: flex;flex-direction: column;align-items: center;background-color: white;padding-right: 0.2em;padding-left: 0.2em;position: relative;}#sk-container-id-1 div.sk-item {position: relative;z-index: 1;}#sk-container-id-1 div.sk-parallel {display: flex;align-items: stretch;justify-content: center;background-color: white;position: relative;}#sk-container-id-1 div.sk-item::before, #sk-container-id-1 div.sk-parallel-item::before {content: \"\";position: absolute;border-left: 1px solid gray;box-sizing: border-box;top: 0;bottom: 0;left: 50%;z-index: -1;}#sk-container-id-1 div.sk-parallel-item {display: flex;flex-direction: column;z-index: 1;position: relative;background-color: white;}#sk-container-id-1 div.sk-parallel-item:first-child::after {align-self: flex-end;width: 50%;}#sk-container-id-1 div.sk-parallel-item:last-child::after {align-self: flex-start;width: 50%;}#sk-container-id-1 div.sk-parallel-item:only-child::after {width: 0;}#sk-container-id-1 div.sk-dashed-wrapped {border: 1px dashed gray;margin: 0 0.4em 0.5em 0.4em;box-sizing: border-box;padding-bottom: 0.4em;background-color: white;}#sk-container-id-1 div.sk-label label {font-family: monospace;font-weight: bold;display: inline-block;line-height: 1.2em;}#sk-container-id-1 div.sk-label-container {text-align: center;}#sk-container-id-1 div.sk-container {/* jupyter's `normalize.less` sets `[hidden] { display: none; }` but bootstrap.min.css set `[hidden] { display: none !important; }` so we also need the `!important` here to be able to override the default hidden behavior on the sphinx rendered scikit-learn.org. See: https://github.com/scikit-learn/scikit-learn/issues/21755 */display: inline-block !important;position: relative;}#sk-container-id-1 div.sk-text-repr-fallback {display: none;}</style><div id=\"sk-container-id-1\" class=\"sk-top-container\"><div class=\"sk-text-repr-fallback\"><pre>Pipeline(steps=[(&#x27;scaler&#x27;, StandardScaler()), (&#x27;model&#x27;, LinearRegression())])</pre><b>In a Jupyter environment, please rerun this cell to show the HTML representation or trust the notebook. <br />On GitHub, the HTML representation is unable to render, please try loading this page with nbviewer.org.</b></div><div class=\"sk-container\" hidden><div class=\"sk-item sk-dashed-wrapped\"><div class=\"sk-label-container\"><div class=\"sk-label sk-toggleable\"><input class=\"sk-toggleable__control sk-hidden--visually\" id=\"sk-estimator-id-1\" type=\"checkbox\" ><label for=\"sk-estimator-id-1\" class=\"sk-toggleable__label sk-toggleable__label-arrow\">Pipeline</label><div class=\"sk-toggleable__content\"><pre>Pipeline(steps=[(&#x27;scaler&#x27;, StandardScaler()), (&#x27;model&#x27;, LinearRegression())])</pre></div></div></div><div class=\"sk-serial\"><div class=\"sk-item\"><div class=\"sk-estimator sk-toggleable\"><input class=\"sk-toggleable__control sk-hidden--visually\" id=\"sk-estimator-id-2\" type=\"checkbox\" ><label for=\"sk-estimator-id-2\" class=\"sk-toggleable__label sk-toggleable__label-arrow\">StandardScaler</label><div class=\"sk-toggleable__content\"><pre>StandardScaler()</pre></div></div></div><div class=\"sk-item\"><div class=\"sk-estimator sk-toggleable\"><input class=\"sk-toggleable__control sk-hidden--visually\" id=\"sk-estimator-id-3\" type=\"checkbox\" ><label for=\"sk-estimator-id-3\" class=\"sk-toggleable__label sk-toggleable__label-arrow\">LinearRegression</label><div class=\"sk-toggleable__content\"><pre>LinearRegression()</pre></div></div></div></div></div></div></div>"
      ],
      "text/plain": [
       "Pipeline(steps=[('scaler', StandardScaler()), ('model', LinearRegression())])"
      ]
     },
     "execution_count": 10,
     "metadata": {},
     "output_type": "execute_result"
    }
   ],
   "source": [
    "pipeline.fit(X_train, y_train)"
   ]
  },
  {
   "cell_type": "code",
   "execution_count": 11,
   "metadata": {},
   "outputs": [
    {
     "data": {
      "text/plain": [
       "['../Models/Amazon/Static/Upload/linear.pkl']"
      ]
     },
     "execution_count": 11,
     "metadata": {},
     "output_type": "execute_result"
    }
   ],
   "source": [
    "linear_model = pipeline\n",
    "joblib.dump(linear_model, r'../Models/Amazon/Static/Upload/linear.pkl')"
   ]
  },
  {
   "cell_type": "markdown",
   "metadata": {},
   "source": [
    "### Random Forest Regressor  ###"
   ]
  },
  {
   "cell_type": "code",
   "execution_count": 12,
   "metadata": {},
   "outputs": [],
   "source": [
    "\n",
    "from sklearn.ensemble import RandomForestRegressor\n",
    "from sklearn.model_selection import RandomizedSearchCV\n",
    "from scipy.stats import randint"
   ]
  },
  {
   "cell_type": "markdown",
   "metadata": {},
   "source": [
    "#### Randomized Search ####"
   ]
  },
  {
   "cell_type": "code",
   "execution_count": 13,
   "metadata": {},
   "outputs": [
    {
     "name": "stdout",
     "output_type": "stream",
     "text": [
      "Fitting 5 folds for each of 50 candidates, totalling 250 fits\n"
     ]
    },
    {
     "name": "stdout",
     "output_type": "stream",
     "text": [
      "[CV] END ..................................n_estimators=1051; total time=  30.8s\n",
      "[CV] END ..................................n_estimators=1051; total time=  31.0s\n",
      "[CV] END ..................................n_estimators=1051; total time=  31.7s\n",
      "[CV] END ..................................n_estimators=1051; total time=  31.9s\n",
      "[CV] END ..................................n_estimators=1051; total time=  32.0s\n",
      "[CV] END ..................................n_estimators=1069; total time=  32.5s\n",
      "[CV] END ...................................n_estimators=429; total time=  11.9s\n",
      "[CV] END ...................................n_estimators=429; total time=  12.1s\n",
      "[CV] END ...................................n_estimators=429; total time=  11.9s\n",
      "[CV] END ...................................n_estimators=429; total time=  12.0s\n",
      "[CV] END ..................................n_estimators=1069; total time=  29.8s\n",
      "[CV] END ..................................n_estimators=1069; total time=  30.0s\n",
      "[CV] END ..................................n_estimators=1069; total time=  29.8s\n",
      "[CV] END ..................................n_estimators=1069; total time=  29.7s\n",
      "[CV] END ...................................n_estimators=429; total time=  11.9s\n",
      "[CV] END ...................................n_estimators=742; total time=  22.8s\n",
      "[CV] END ..................................n_estimators=1457; total time=  51.3s\n",
      "[CV] END ..................................n_estimators=1457; total time=  52.1s\n",
      "[CV] END ..................................n_estimators=1457; total time=  51.8s\n",
      "[CV] END ..................................n_estimators=1457; total time=  52.5s\n",
      "[CV] END ..................................n_estimators=1457; total time=  52.4s\n",
      "[CV] END ...................................n_estimators=742; total time=  30.2s\n",
      "[CV] END ...................................n_estimators=742; total time=  24.2s\n",
      "[CV] END ...................................n_estimators=742; total time=  23.4s\n",
      "[CV] END ...................................n_estimators=742; total time=  23.2s\n",
      "[CV] END ...................................n_estimators=748; total time=  23.9s\n",
      "[CV] END ...................................n_estimators=748; total time=  23.8s\n",
      "[CV] END ...................................n_estimators=748; total time=  23.8s\n",
      "[CV] END ...................................n_estimators=748; total time=  23.7s\n",
      "[CV] END ...................................n_estimators=748; total time=  23.4s\n",
      "[CV] END ...................................n_estimators=192; total time=   5.8s\n",
      "[CV] END ...................................n_estimators=192; total time=   6.1s\n",
      "[CV] END ..................................n_estimators=1300; total time=  39.9s\n",
      "[CV] END ...................................n_estimators=192; total time=   6.1s\n",
      "[CV] END ..................................n_estimators=1300; total time=  40.9s\n",
      "[CV] END ..................................n_estimators=1300; total time=  40.6s\n",
      "[CV] END ...................................n_estimators=192; total time=   6.0s\n",
      "[CV] END ...................................n_estimators=192; total time=   6.1s\n",
      "[CV] END ..................................n_estimators=1300; total time=  40.7s\n",
      "[CV] END ..................................n_estimators=1300; total time=  40.3s\n",
      "[CV] END ..................................n_estimators=1471; total time= 1.1min\n",
      "[CV] END ..................................n_estimators=1471; total time= 1.1min\n",
      "[CV] END ..................................n_estimators=1471; total time= 1.0min\n",
      "[CV] END ..................................n_estimators=1471; total time= 1.1min\n",
      "[CV] END ..................................n_estimators=1471; total time= 1.1min\n",
      "[CV] END ..................................n_estimators=1168; total time=  52.5s\n",
      "[CV] END ...................................n_estimators=590; total time=  18.5s\n",
      "[CV] END ...................................n_estimators=590; total time=  18.4s\n",
      "[CV] END ..................................n_estimators=1168; total time=  36.2s\n",
      "[CV] END ..................................n_estimators=1168; total time=  36.4s\n",
      "[CV] END ..................................n_estimators=1168; total time=  36.3s\n",
      "[CV] END ..................................n_estimators=1168; total time=  36.1s\n",
      "[CV] END ...................................n_estimators=590; total time=  17.9s\n",
      "[CV] END ...................................n_estimators=590; total time=  18.0s\n",
      "[CV] END ...................................n_estimators=590; total time=  17.8s\n",
      "[CV] END ...................................n_estimators=840; total time=  25.8s\n",
      "[CV] END ...................................n_estimators=840; total time=  25.9s\n",
      "[CV] END ...................................n_estimators=840; total time=  25.9s\n",
      "[CV] END ...................................n_estimators=840; total time=  26.0s\n",
      "[CV] END ...................................n_estimators=840; total time=  26.0s\n",
      "[CV] END ..................................n_estimators=1294; total time=  59.0s\n",
      "[CV] END ..................................n_estimators=1948; total time= 1.4min\n",
      "[CV] END ..................................n_estimators=1948; total time= 1.5min\n",
      "[CV] END ..................................n_estimators=1948; total time= 1.5min\n",
      "[CV] END ..................................n_estimators=1948; total time= 1.6min\n",
      "[CV] END ..................................n_estimators=1948; total time= 1.5min\n",
      "[CV] END ..................................n_estimators=1294; total time=  51.3s\n",
      "[CV] END ..................................n_estimators=1294; total time=  48.5s\n",
      "[CV] END ..................................n_estimators=1294; total time=  41.8s\n",
      "[CV] END ..................................n_estimators=1294; total time=  40.9s\n",
      "[CV] END ..................................n_estimators=1675; total time=  52.9s\n",
      "[CV] END ..................................n_estimators=1675; total time=  52.4s\n",
      "[CV] END ...................................n_estimators=999; total time=  31.5s\n",
      "[CV] END ..................................n_estimators=1675; total time=  53.0s\n",
      "[CV] END ..................................n_estimators=1675; total time=  53.0s\n",
      "[CV] END ...................................n_estimators=999; total time=  30.9s\n",
      "[CV] END ...................................n_estimators=999; total time=  30.7s\n",
      "[CV] END ..................................n_estimators=1675; total time=  52.0s\n",
      "[CV] END ...................................n_estimators=999; total time=  30.7s\n",
      "[CV] END ...................................n_estimators=999; total time=  30.7s\n",
      "[CV] END ...................................n_estimators=981; total time=  30.5s\n",
      "[CV] END ...................................n_estimators=981; total time=  30.2s\n",
      "[CV] END ...................................n_estimators=981; total time=  30.7s\n",
      "[CV] END ...................................n_estimators=385; total time=  12.3s\n",
      "[CV] END ...................................n_estimators=981; total time=  31.0s\n",
      "[CV] END ...................................n_estimators=385; total time=  12.4s\n",
      "[CV] END ...................................n_estimators=385; total time=  12.1s\n",
      "[CV] END ...................................n_estimators=385; total time=  12.3s\n",
      "[CV] END ...................................n_estimators=385; total time=  12.5s\n",
      "[CV] END ...................................n_estimators=375; total time=  12.1s\n",
      "[CV] END ...................................n_estimators=981; total time=  31.4s\n",
      "[CV] END ...................................n_estimators=375; total time=  12.1s\n",
      "[CV] END ...................................n_estimators=375; total time=  11.8s\n",
      "[CV] END ...................................n_estimators=375; total time=  12.0s\n",
      "[CV] END ...................................n_estimators=375; total time=  12.0s\n",
      "[CV] END ...................................n_estimators=163; total time=   5.2s\n",
      "[CV] END ...................................n_estimators=163; total time=   5.2s\n",
      "[CV] END ...................................n_estimators=647; total time=  20.6s\n",
      "[CV] END ...................................n_estimators=647; total time=  20.6s\n",
      "[CV] END ...................................n_estimators=647; total time=  20.7s\n",
      "[CV] END ...................................n_estimators=163; total time=   5.1s\n",
      "[CV] END ...................................n_estimators=163; total time=   5.2s\n",
      "[CV] END ...................................n_estimators=647; total time=  20.3s\n",
      "[CV] END ...................................n_estimators=163; total time=   5.2s\n",
      "[CV] END ...................................n_estimators=647; total time=  20.7s\n",
      "[CV] END ...................................n_estimators=173; total time=   5.6s\n",
      "[CV] END ...................................n_estimators=173; total time=   5.5s\n",
      "[CV] END ...................................n_estimators=173; total time=   5.5s\n",
      "[CV] END ...................................n_estimators=173; total time=   5.4s\n",
      "[CV] END ...................................n_estimators=173; total time=   5.5s\n",
      "[CV] END ...................................n_estimators=512; total time=  16.5s\n",
      "[CV] END ...................................n_estimators=512; total time=  16.6s\n",
      "[CV] END ..................................n_estimators=1153; total time=  36.6s\n",
      "[CV] END ..................................n_estimators=1153; total time=  37.4s\n",
      "[CV] END ..................................n_estimators=1153; total time=  37.3s\n",
      "[CV] END ..................................n_estimators=1153; total time=  37.8s\n",
      "[CV] END ..................................n_estimators=1153; total time=  36.4s\n",
      "[CV] END ...................................n_estimators=512; total time=  16.4s\n",
      "[CV] END ...................................n_estimators=512; total time=  16.4s\n",
      "[CV] END ...................................n_estimators=512; total time=  16.4s\n",
      "[CV] END ...................................n_estimators=681; total time=  21.3s\n",
      "[CV] END ..................................n_estimators=1287; total time=  41.1s\n",
      "[CV] END ..................................n_estimators=1287; total time=  40.5s\n",
      "[CV] END ..................................n_estimators=1287; total time=  43.6s\n",
      "[CV] END ..................................n_estimators=1287; total time=  41.2s\n",
      "[CV] END ..................................n_estimators=1287; total time=  41.2s\n",
      "[CV] END ...................................n_estimators=681; total time=  21.3s\n",
      "[CV] END ...................................n_estimators=681; total time=  21.8s\n",
      "[CV] END ...................................n_estimators=681; total time=  21.3s\n",
      "[CV] END ...................................n_estimators=681; total time=  21.6s\n",
      "[CV] END ...................................n_estimators=499; total time=  16.0s\n",
      "[CV] END ...................................n_estimators=499; total time=  16.1s\n",
      "[CV] END ...................................n_estimators=499; total time=  15.6s\n",
      "[CV] END ...................................n_estimators=499; total time=  16.1s\n",
      "[CV] END ...................................n_estimators=499; total time=  15.6s\n",
      "[CV] END ..................................n_estimators=1499; total time= 1.1min\n",
      "[CV] END ..................................n_estimators=1338; total time= 1.1min\n",
      "[CV] END ..................................n_estimators=1499; total time= 1.2min\n",
      "[CV] END ..................................n_estimators=1499; total time= 1.2min\n",
      "[CV] END ..................................n_estimators=1499; total time= 1.2min\n",
      "[CV] END ..................................n_estimators=1499; total time= 1.2min\n",
      "[CV] END ...................................n_estimators=550; total time=  17.2s\n",
      "[CV] END ...................................n_estimators=550; total time=  17.5s\n",
      "[CV] END ...................................n_estimators=550; total time=  17.1s\n",
      "[CV] END ..................................n_estimators=1338; total time=  52.3s\n",
      "[CV] END ...................................n_estimators=550; total time=  17.6s\n",
      "[CV] END ..................................n_estimators=1338; total time=  42.6s\n",
      "[CV] END ..................................n_estimators=1338; total time=  42.9s\n",
      "[CV] END ..................................n_estimators=1338; total time=  42.8s\n",
      "[CV] END ...................................n_estimators=550; total time=  17.2s\n",
      "[CV] END ...................................n_estimators=134; total time=   4.2s\n",
      "[CV] END ...................................n_estimators=134; total time=   4.2s\n",
      "[CV] END ...................................n_estimators=134; total time=   4.2s\n",
      "[CV] END ...................................n_estimators=134; total time=   4.2s\n",
      "[CV] END ...................................n_estimators=134; total time=   4.3s\n",
      "[CV] END ...................................n_estimators=364; total time=  16.1s\n",
      "[CV] END ..................................n_estimators=1444; total time=  50.7s\n",
      "[CV] END ..................................n_estimators=1444; total time=  52.0s\n",
      "[CV] END ..................................n_estimators=1444; total time=  51.8s\n",
      "[CV] END ..................................n_estimators=1444; total time=  51.7s\n",
      "[CV] END ..................................n_estimators=1444; total time=  51.8s\n",
      "[CV] END ...................................n_estimators=364; total time=  11.6s\n",
      "[CV] END ...................................n_estimators=364; total time=  11.4s\n",
      "[CV] END ...................................n_estimators=364; total time=  11.5s\n",
      "[CV] END ...................................n_estimators=364; total time=  11.5s\n",
      "[CV] END ...................................n_estimators=413; total time=  13.0s\n",
      "[CV] END ...................................n_estimators=413; total time=  13.0s\n",
      "[CV] END ...................................n_estimators=413; total time=  13.2s\n",
      "[CV] END ...................................n_estimators=413; total time=  13.0s\n",
      "[CV] END ...................................n_estimators=413; total time=  13.2s\n",
      "[CV] END ...................................n_estimators=685; total time=  21.7s\n",
      "[CV] END ...................................n_estimators=685; total time=  21.5s\n",
      "[CV] END ...................................n_estimators=685; total time=  21.5s\n",
      "[CV] END ...................................n_estimators=564; total time=  17.9s\n",
      "[CV] END ...................................n_estimators=685; total time=  21.6s\n",
      "[CV] END ...................................n_estimators=685; total time=  21.8s\n",
      "[CV] END ...................................n_estimators=564; total time=  17.9s\n",
      "[CV] END ...................................n_estimators=564; total time=  17.7s\n",
      "[CV] END ...................................n_estimators=564; total time=  17.9s\n",
      "[CV] END ...................................n_estimators=564; total time=  18.4s\n",
      "[CV] END ...................................n_estimators=588; total time=  18.6s\n",
      "[CV] END ...................................n_estimators=588; total time=  18.7s\n",
      "[CV] END ...................................n_estimators=177; total time=   5.7s\n",
      "[CV] END ...................................n_estimators=177; total time=   5.7s\n",
      "[CV] END ...................................n_estimators=177; total time=   5.6s\n",
      "[CV] END ...................................n_estimators=588; total time=  18.7s\n",
      "[CV] END ...................................n_estimators=177; total time=   5.6s\n",
      "[CV] END ...................................n_estimators=177; total time=   5.5s\n",
      "[CV] END ...................................n_estimators=588; total time=  18.5s\n",
      "[CV] END ...................................n_estimators=588; total time=  18.6s\n",
      "[CV] END ...................................n_estimators=706; total time=  22.4s\n",
      "[CV] END ...................................n_estimators=706; total time=  22.4s\n",
      "[CV] END ...................................n_estimators=706; total time=  22.8s\n",
      "[CV] END ...................................n_estimators=706; total time=  22.1s\n",
      "[CV] END ...................................n_estimators=706; total time=  22.6s\n",
      "[CV] END ..................................n_estimators=1060; total time=  33.5s\n",
      "[CV] END ..................................n_estimators=1060; total time=  33.5s\n",
      "[CV] END ..................................n_estimators=1060; total time=  33.4s\n",
      "[CV] END ..................................n_estimators=1060; total time=  33.0s\n",
      "[CV] END ..................................n_estimators=1060; total time=  33.6s\n",
      "[CV] END ...................................n_estimators=505; total time=  16.1s\n",
      "[CV] END ..................................n_estimators=1936; total time= 1.1min\n",
      "[CV] END ...................................n_estimators=505; total time=  22.0s\n",
      "[CV] END ..................................n_estimators=1936; total time= 1.2min\n",
      "[CV] END ...................................n_estimators=505; total time=  16.7s\n",
      "[CV] END ...................................n_estimators=505; total time=  16.7s\n",
      "[CV] END ...................................n_estimators=333; total time=  10.6s\n",
      "[CV] END ..................................n_estimators=1936; total time= 1.1min\n",
      "[CV] END ...................................n_estimators=505; total time=  16.4s\n",
      "[CV] END ...................................n_estimators=333; total time=  10.8s\n",
      "[CV] END ..................................n_estimators=1936; total time= 1.2min\n",
      "[CV] END ..................................n_estimators=1936; total time= 1.1min\n",
      "[CV] END ...................................n_estimators=333; total time=  10.6s\n",
      "[CV] END ...................................n_estimators=333; total time=  10.4s\n",
      "[CV] END ...................................n_estimators=333; total time=  10.6s\n",
      "[CV] END ..................................n_estimators=1779; total time= 2.4min\n",
      "[CV] END ..................................n_estimators=1779; total time= 2.4min\n",
      "[CV] END ..................................n_estimators=1779; total time= 2.4min\n",
      "[CV] END ..................................n_estimators=1779; total time= 2.4min\n",
      "[CV] END ..................................n_estimators=1779; total time= 2.4min\n",
      "[CV] END ..................................n_estimators=1989; total time= 2.5min\n",
      "[CV] END ..................................n_estimators=1182; total time=  45.5s\n",
      "[CV] END ..................................n_estimators=1182; total time=  44.3s\n",
      "[CV] END ..................................n_estimators=1989; total time= 2.1min\n",
      "[CV] END ..................................n_estimators=1989; total time= 2.2min\n",
      "[CV] END ..................................n_estimators=1989; total time= 2.1min\n",
      "[CV] END ..................................n_estimators=1989; total time= 2.1min\n",
      "[CV] END ..................................n_estimators=1182; total time= 1.5min\n",
      "[CV] END ..................................n_estimators=1182; total time= 1.4min\n",
      "[CV] END ..................................n_estimators=1182; total time=  36.0s\n",
      "[CV] END ...................................n_estimators=320; total time=  12.4s\n",
      "[CV] END ...................................n_estimators=320; total time=  17.4s\n",
      "[CV] END ...................................n_estimators=320; total time=  34.6s\n",
      "[CV] END ..................................n_estimators=1944; total time= 1.8min\n",
      "[CV] END ..................................n_estimators=1944; total time= 1.9min\n",
      "[CV] END ..................................n_estimators=1944; total time= 1.8min\n",
      "[CV] END ..................................n_estimators=1944; total time= 1.8min\n",
      "[CV] END ...................................n_estimators=320; total time=  18.0s\n",
      "[CV] END ...................................n_estimators=320; total time=  10.4s\n",
      "[CV] END ..................................n_estimators=1944; total time= 1.8min\n",
      "[CV] END ..................................n_estimators=1234; total time=  39.3s\n",
      "[CV] END ..................................n_estimators=1234; total time=  39.1s\n",
      "[CV] END ..................................n_estimators=1234; total time=  39.7s\n",
      "[CV] END ..................................n_estimators=1234; total time=  39.7s\n",
      "[CV] END ..................................n_estimators=1234; total time=  39.9s\n",
      "[CV] END ..................................n_estimators=1931; total time= 1.0min\n",
      "[CV] END ..................................n_estimators=1931; total time= 1.1min\n",
      "[CV] END ..................................n_estimators=1931; total time= 1.2min\n",
      "[CV] END ..................................n_estimators=1931; total time= 1.1min\n",
      "[CV] END ..................................n_estimators=1931; total time= 1.1min\n"
     ]
    },
    {
     "data": {
      "text/html": [
       "<style>#sk-container-id-2 {color: black;}#sk-container-id-2 pre{padding: 0;}#sk-container-id-2 div.sk-toggleable {background-color: white;}#sk-container-id-2 label.sk-toggleable__label {cursor: pointer;display: block;width: 100%;margin-bottom: 0;padding: 0.3em;box-sizing: border-box;text-align: center;}#sk-container-id-2 label.sk-toggleable__label-arrow:before {content: \"▸\";float: left;margin-right: 0.25em;color: #696969;}#sk-container-id-2 label.sk-toggleable__label-arrow:hover:before {color: black;}#sk-container-id-2 div.sk-estimator:hover label.sk-toggleable__label-arrow:before {color: black;}#sk-container-id-2 div.sk-toggleable__content {max-height: 0;max-width: 0;overflow: hidden;text-align: left;background-color: #f0f8ff;}#sk-container-id-2 div.sk-toggleable__content pre {margin: 0.2em;color: black;border-radius: 0.25em;background-color: #f0f8ff;}#sk-container-id-2 input.sk-toggleable__control:checked~div.sk-toggleable__content {max-height: 200px;max-width: 100%;overflow: auto;}#sk-container-id-2 input.sk-toggleable__control:checked~label.sk-toggleable__label-arrow:before {content: \"▾\";}#sk-container-id-2 div.sk-estimator input.sk-toggleable__control:checked~label.sk-toggleable__label {background-color: #d4ebff;}#sk-container-id-2 div.sk-label input.sk-toggleable__control:checked~label.sk-toggleable__label {background-color: #d4ebff;}#sk-container-id-2 input.sk-hidden--visually {border: 0;clip: rect(1px 1px 1px 1px);clip: rect(1px, 1px, 1px, 1px);height: 1px;margin: -1px;overflow: hidden;padding: 0;position: absolute;width: 1px;}#sk-container-id-2 div.sk-estimator {font-family: monospace;background-color: #f0f8ff;border: 1px dotted black;border-radius: 0.25em;box-sizing: border-box;margin-bottom: 0.5em;}#sk-container-id-2 div.sk-estimator:hover {background-color: #d4ebff;}#sk-container-id-2 div.sk-parallel-item::after {content: \"\";width: 100%;border-bottom: 1px solid gray;flex-grow: 1;}#sk-container-id-2 div.sk-label:hover label.sk-toggleable__label {background-color: #d4ebff;}#sk-container-id-2 div.sk-serial::before {content: \"\";position: absolute;border-left: 1px solid gray;box-sizing: border-box;top: 0;bottom: 0;left: 50%;z-index: 0;}#sk-container-id-2 div.sk-serial {display: flex;flex-direction: column;align-items: center;background-color: white;padding-right: 0.2em;padding-left: 0.2em;position: relative;}#sk-container-id-2 div.sk-item {position: relative;z-index: 1;}#sk-container-id-2 div.sk-parallel {display: flex;align-items: stretch;justify-content: center;background-color: white;position: relative;}#sk-container-id-2 div.sk-item::before, #sk-container-id-2 div.sk-parallel-item::before {content: \"\";position: absolute;border-left: 1px solid gray;box-sizing: border-box;top: 0;bottom: 0;left: 50%;z-index: -1;}#sk-container-id-2 div.sk-parallel-item {display: flex;flex-direction: column;z-index: 1;position: relative;background-color: white;}#sk-container-id-2 div.sk-parallel-item:first-child::after {align-self: flex-end;width: 50%;}#sk-container-id-2 div.sk-parallel-item:last-child::after {align-self: flex-start;width: 50%;}#sk-container-id-2 div.sk-parallel-item:only-child::after {width: 0;}#sk-container-id-2 div.sk-dashed-wrapped {border: 1px dashed gray;margin: 0 0.4em 0.5em 0.4em;box-sizing: border-box;padding-bottom: 0.4em;background-color: white;}#sk-container-id-2 div.sk-label label {font-family: monospace;font-weight: bold;display: inline-block;line-height: 1.2em;}#sk-container-id-2 div.sk-label-container {text-align: center;}#sk-container-id-2 div.sk-container {/* jupyter's `normalize.less` sets `[hidden] { display: none; }` but bootstrap.min.css set `[hidden] { display: none !important; }` so we also need the `!important` here to be able to override the default hidden behavior on the sphinx rendered scikit-learn.org. See: https://github.com/scikit-learn/scikit-learn/issues/21755 */display: inline-block !important;position: relative;}#sk-container-id-2 div.sk-text-repr-fallback {display: none;}</style><div id=\"sk-container-id-2\" class=\"sk-top-container\"><div class=\"sk-text-repr-fallback\"><pre>Pipeline(steps=[(&#x27;scaler&#x27;, StandardScaler()),\n",
       "                (&#x27;random_search&#x27;,\n",
       "                 RandomizedSearchCV(cv=5, estimator=RandomForestRegressor(),\n",
       "                                    n_iter=50, n_jobs=6,\n",
       "                                    param_distributions={&#x27;n_estimators&#x27;: &lt;scipy.stats._distn_infrastructure.rv_discrete_frozen object at 0x7f821052a2c0&gt;},\n",
       "                                    scoring=&#x27;neg_mean_squared_error&#x27;,\n",
       "                                    verbose=2))])</pre><b>In a Jupyter environment, please rerun this cell to show the HTML representation or trust the notebook. <br />On GitHub, the HTML representation is unable to render, please try loading this page with nbviewer.org.</b></div><div class=\"sk-container\" hidden><div class=\"sk-item sk-dashed-wrapped\"><div class=\"sk-label-container\"><div class=\"sk-label sk-toggleable\"><input class=\"sk-toggleable__control sk-hidden--visually\" id=\"sk-estimator-id-4\" type=\"checkbox\" ><label for=\"sk-estimator-id-4\" class=\"sk-toggleable__label sk-toggleable__label-arrow\">Pipeline</label><div class=\"sk-toggleable__content\"><pre>Pipeline(steps=[(&#x27;scaler&#x27;, StandardScaler()),\n",
       "                (&#x27;random_search&#x27;,\n",
       "                 RandomizedSearchCV(cv=5, estimator=RandomForestRegressor(),\n",
       "                                    n_iter=50, n_jobs=6,\n",
       "                                    param_distributions={&#x27;n_estimators&#x27;: &lt;scipy.stats._distn_infrastructure.rv_discrete_frozen object at 0x7f821052a2c0&gt;},\n",
       "                                    scoring=&#x27;neg_mean_squared_error&#x27;,\n",
       "                                    verbose=2))])</pre></div></div></div><div class=\"sk-serial\"><div class=\"sk-item\"><div class=\"sk-estimator sk-toggleable\"><input class=\"sk-toggleable__control sk-hidden--visually\" id=\"sk-estimator-id-5\" type=\"checkbox\" ><label for=\"sk-estimator-id-5\" class=\"sk-toggleable__label sk-toggleable__label-arrow\">StandardScaler</label><div class=\"sk-toggleable__content\"><pre>StandardScaler()</pre></div></div></div><div class=\"sk-item sk-dashed-wrapped\"><div class=\"sk-label-container\"><div class=\"sk-label sk-toggleable\"><input class=\"sk-toggleable__control sk-hidden--visually\" id=\"sk-estimator-id-6\" type=\"checkbox\" ><label for=\"sk-estimator-id-6\" class=\"sk-toggleable__label sk-toggleable__label-arrow\">random_search: RandomizedSearchCV</label><div class=\"sk-toggleable__content\"><pre>RandomizedSearchCV(cv=5, estimator=RandomForestRegressor(), n_iter=50, n_jobs=6,\n",
       "                   param_distributions={&#x27;n_estimators&#x27;: &lt;scipy.stats._distn_infrastructure.rv_discrete_frozen object at 0x7f821052a2c0&gt;},\n",
       "                   scoring=&#x27;neg_mean_squared_error&#x27;, verbose=2)</pre></div></div></div><div class=\"sk-parallel\"><div class=\"sk-parallel-item\"><div class=\"sk-item\"><div class=\"sk-label-container\"><div class=\"sk-label sk-toggleable\"><input class=\"sk-toggleable__control sk-hidden--visually\" id=\"sk-estimator-id-7\" type=\"checkbox\" ><label for=\"sk-estimator-id-7\" class=\"sk-toggleable__label sk-toggleable__label-arrow\">estimator: RandomForestRegressor</label><div class=\"sk-toggleable__content\"><pre>RandomForestRegressor()</pre></div></div></div><div class=\"sk-serial\"><div class=\"sk-item\"><div class=\"sk-estimator sk-toggleable\"><input class=\"sk-toggleable__control sk-hidden--visually\" id=\"sk-estimator-id-8\" type=\"checkbox\" ><label for=\"sk-estimator-id-8\" class=\"sk-toggleable__label sk-toggleable__label-arrow\">RandomForestRegressor</label><div class=\"sk-toggleable__content\"><pre>RandomForestRegressor()</pre></div></div></div></div></div></div></div></div></div></div></div></div>"
      ],
      "text/plain": [
       "Pipeline(steps=[('scaler', StandardScaler()),\n",
       "                ('random_search',\n",
       "                 RandomizedSearchCV(cv=5, estimator=RandomForestRegressor(),\n",
       "                                    n_iter=50, n_jobs=6,\n",
       "                                    param_distributions={'n_estimators': <scipy.stats._distn_infrastructure.rv_discrete_frozen object at 0x7f821052a2c0>},\n",
       "                                    scoring='neg_mean_squared_error',\n",
       "                                    verbose=2))])"
      ]
     },
     "execution_count": 13,
     "metadata": {},
     "output_type": "execute_result"
    }
   ],
   "source": [
    "rf_reg = RandomForestRegressor()\n",
    "\n",
    "\n",
    "param_dist = {\n",
    "    'n_estimators': randint(100, 2000)  \n",
    "}\n",
    "\n",
    "random_search = RandomizedSearchCV(\n",
    "    estimator=rf_reg,\n",
    "    param_distributions=param_dist,\n",
    "    n_iter=50,\n",
    "    cv=5,\n",
    "    scoring='neg_mean_squared_error',\n",
    "    verbose=2,\n",
    "    n_jobs = 6\n",
    ")\n",
    "\n",
    "pipeline = Pipeline([\n",
    "    ('scaler', StandardScaler()),  \n",
    "    ('random_search', random_search),\n",
    "])\n",
    "\n",
    "pipeline.fit(X_train, y_train)\n",
    "\n"
   ]
  },
  {
   "cell_type": "code",
   "execution_count": 14,
   "metadata": {},
   "outputs": [
    {
     "name": "stdout",
     "output_type": "stream",
     "text": [
      "Best Parameters: {'n_estimators': 706}\n"
     ]
    }
   ],
   "source": [
    "print(\"Best Parameters:\", pipeline.named_steps['random_search'].best_params_)\n"
   ]
  },
  {
   "cell_type": "code",
   "execution_count": 15,
   "metadata": {},
   "outputs": [
    {
     "data": {
      "text/plain": [
       "['../Models/Amazon/Static/Upload/random_forest_resgressor_random_search.pkl']"
      ]
     },
     "execution_count": 15,
     "metadata": {},
     "output_type": "execute_result"
    }
   ],
   "source": [
    "rf_reg_random_search = pipeline\n",
    "joblib.dump(rf_reg_random_search, r'../Models/Amazon/Static/Upload/random_forest_resgressor_random_search.pkl')"
   ]
  },
  {
   "cell_type": "markdown",
   "metadata": {},
   "source": [
    "#### Grid Search ####"
   ]
  },
  {
   "cell_type": "code",
   "execution_count": 16,
   "metadata": {},
   "outputs": [
    {
     "name": "stdout",
     "output_type": "stream",
     "text": [
      "Fitting 5 folds for each of 12 candidates, totalling 60 fits\n",
      "[CV] END ...................................n_estimators=100; total time=   2.7s\n",
      "[CV] END ...................................n_estimators=100; total time=   2.7s\n",
      "[CV] END ...................................n_estimators=100; total time=   2.7s\n",
      "[CV] END ...................................n_estimators=100; total time=   2.7s\n",
      "[CV] END ...................................n_estimators=100; total time=   2.7s\n",
      "[CV] END ...................................n_estimators=150; total time=   4.1s\n",
      "[CV] END ...................................n_estimators=150; total time=   4.1s\n",
      "[CV] END ...................................n_estimators=150; total time=   4.1s\n",
      "[CV] END ...................................n_estimators=150; total time=   4.1s\n",
      "[CV] END ...................................n_estimators=150; total time=   4.0s\n",
      "[CV] END ...................................n_estimators=200; total time=   5.3s\n",
      "[CV] END ...................................n_estimators=200; total time=   5.3s\n",
      "[CV] END ...................................n_estimators=200; total time=   5.3s\n",
      "[CV] END ...................................n_estimators=200; total time=   5.3s\n",
      "[CV] END ...................................n_estimators=200; total time=   5.2s\n",
      "[CV] END ...................................n_estimators=300; total time=   7.9s\n",
      "[CV] END ...................................n_estimators=300; total time=   7.9s\n",
      "[CV] END ...................................n_estimators=300; total time=   7.9s\n",
      "[CV] END ...................................n_estimators=300; total time=   8.0s\n",
      "[CV] END ...................................n_estimators=300; total time=   8.0s\n",
      "[CV] END ...................................n_estimators=400; total time=  10.6s\n",
      "[CV] END ...................................n_estimators=400; total time=  10.6s\n",
      "[CV] END ...................................n_estimators=400; total time=  10.6s\n",
      "[CV] END ...................................n_estimators=400; total time=  10.5s\n",
      "[CV] END ...................................n_estimators=400; total time=  10.5s\n",
      "[CV] END ...................................n_estimators=500; total time=  13.1s\n",
      "[CV] END ...................................n_estimators=500; total time=  13.2s\n",
      "[CV] END ...................................n_estimators=500; total time=  13.2s\n",
      "[CV] END ...................................n_estimators=500; total time=  13.2s\n",
      "[CV] END ...................................n_estimators=500; total time=  13.2s\n",
      "[CV] END ...................................n_estimators=700; total time=  18.5s\n",
      "[CV] END ...................................n_estimators=700; total time=  18.5s\n",
      "[CV] END ...................................n_estimators=700; total time=  18.5s\n",
      "[CV] END ...................................n_estimators=700; total time=  18.4s\n",
      "[CV] END ...................................n_estimators=700; total time=  18.3s\n",
      "[CV] END ..................................n_estimators=1000; total time=  26.4s\n",
      "[CV] END ..................................n_estimators=1000; total time=  26.4s\n",
      "[CV] END ..................................n_estimators=1000; total time=  26.2s\n",
      "[CV] END ..................................n_estimators=1000; total time=  26.4s\n",
      "[CV] END ..................................n_estimators=1000; total time=  26.3s\n",
      "[CV] END ..................................n_estimators=1200; total time=  31.6s\n",
      "[CV] END ..................................n_estimators=1200; total time=  32.3s\n",
      "[CV] END ..................................n_estimators=1200; total time=  31.3s\n",
      "[CV] END ..................................n_estimators=1200; total time=  31.5s\n",
      "[CV] END ..................................n_estimators=1200; total time=  31.4s\n",
      "[CV] END ..................................n_estimators=1500; total time=  39.4s\n",
      "[CV] END ..................................n_estimators=1500; total time=  40.2s\n",
      "[CV] END ..................................n_estimators=1500; total time=  39.5s\n",
      "[CV] END ..................................n_estimators=1500; total time=  39.4s\n",
      "[CV] END ..................................n_estimators=1500; total time=  39.3s\n",
      "[CV] END ..................................n_estimators=1800; total time=  47.3s\n",
      "[CV] END ..................................n_estimators=1800; total time=  48.2s\n",
      "[CV] END ..................................n_estimators=1800; total time=  47.2s\n",
      "[CV] END ..................................n_estimators=1800; total time=  47.3s\n",
      "[CV] END ..................................n_estimators=1800; total time=  47.2s\n",
      "[CV] END ..................................n_estimators=2000; total time=  52.6s\n",
      "[CV] END ..................................n_estimators=2000; total time=  52.5s\n",
      "[CV] END ..................................n_estimators=2000; total time=  51.5s\n",
      "[CV] END ..................................n_estimators=2000; total time=  51.6s\n",
      "[CV] END ..................................n_estimators=2000; total time=  51.4s\n"
     ]
    },
    {
     "data": {
      "text/html": [
       "<style>#sk-container-id-3 {color: black;}#sk-container-id-3 pre{padding: 0;}#sk-container-id-3 div.sk-toggleable {background-color: white;}#sk-container-id-3 label.sk-toggleable__label {cursor: pointer;display: block;width: 100%;margin-bottom: 0;padding: 0.3em;box-sizing: border-box;text-align: center;}#sk-container-id-3 label.sk-toggleable__label-arrow:before {content: \"▸\";float: left;margin-right: 0.25em;color: #696969;}#sk-container-id-3 label.sk-toggleable__label-arrow:hover:before {color: black;}#sk-container-id-3 div.sk-estimator:hover label.sk-toggleable__label-arrow:before {color: black;}#sk-container-id-3 div.sk-toggleable__content {max-height: 0;max-width: 0;overflow: hidden;text-align: left;background-color: #f0f8ff;}#sk-container-id-3 div.sk-toggleable__content pre {margin: 0.2em;color: black;border-radius: 0.25em;background-color: #f0f8ff;}#sk-container-id-3 input.sk-toggleable__control:checked~div.sk-toggleable__content {max-height: 200px;max-width: 100%;overflow: auto;}#sk-container-id-3 input.sk-toggleable__control:checked~label.sk-toggleable__label-arrow:before {content: \"▾\";}#sk-container-id-3 div.sk-estimator input.sk-toggleable__control:checked~label.sk-toggleable__label {background-color: #d4ebff;}#sk-container-id-3 div.sk-label input.sk-toggleable__control:checked~label.sk-toggleable__label {background-color: #d4ebff;}#sk-container-id-3 input.sk-hidden--visually {border: 0;clip: rect(1px 1px 1px 1px);clip: rect(1px, 1px, 1px, 1px);height: 1px;margin: -1px;overflow: hidden;padding: 0;position: absolute;width: 1px;}#sk-container-id-3 div.sk-estimator {font-family: monospace;background-color: #f0f8ff;border: 1px dotted black;border-radius: 0.25em;box-sizing: border-box;margin-bottom: 0.5em;}#sk-container-id-3 div.sk-estimator:hover {background-color: #d4ebff;}#sk-container-id-3 div.sk-parallel-item::after {content: \"\";width: 100%;border-bottom: 1px solid gray;flex-grow: 1;}#sk-container-id-3 div.sk-label:hover label.sk-toggleable__label {background-color: #d4ebff;}#sk-container-id-3 div.sk-serial::before {content: \"\";position: absolute;border-left: 1px solid gray;box-sizing: border-box;top: 0;bottom: 0;left: 50%;z-index: 0;}#sk-container-id-3 div.sk-serial {display: flex;flex-direction: column;align-items: center;background-color: white;padding-right: 0.2em;padding-left: 0.2em;position: relative;}#sk-container-id-3 div.sk-item {position: relative;z-index: 1;}#sk-container-id-3 div.sk-parallel {display: flex;align-items: stretch;justify-content: center;background-color: white;position: relative;}#sk-container-id-3 div.sk-item::before, #sk-container-id-3 div.sk-parallel-item::before {content: \"\";position: absolute;border-left: 1px solid gray;box-sizing: border-box;top: 0;bottom: 0;left: 50%;z-index: -1;}#sk-container-id-3 div.sk-parallel-item {display: flex;flex-direction: column;z-index: 1;position: relative;background-color: white;}#sk-container-id-3 div.sk-parallel-item:first-child::after {align-self: flex-end;width: 50%;}#sk-container-id-3 div.sk-parallel-item:last-child::after {align-self: flex-start;width: 50%;}#sk-container-id-3 div.sk-parallel-item:only-child::after {width: 0;}#sk-container-id-3 div.sk-dashed-wrapped {border: 1px dashed gray;margin: 0 0.4em 0.5em 0.4em;box-sizing: border-box;padding-bottom: 0.4em;background-color: white;}#sk-container-id-3 div.sk-label label {font-family: monospace;font-weight: bold;display: inline-block;line-height: 1.2em;}#sk-container-id-3 div.sk-label-container {text-align: center;}#sk-container-id-3 div.sk-container {/* jupyter's `normalize.less` sets `[hidden] { display: none; }` but bootstrap.min.css set `[hidden] { display: none !important; }` so we also need the `!important` here to be able to override the default hidden behavior on the sphinx rendered scikit-learn.org. See: https://github.com/scikit-learn/scikit-learn/issues/21755 */display: inline-block !important;position: relative;}#sk-container-id-3 div.sk-text-repr-fallback {display: none;}</style><div id=\"sk-container-id-3\" class=\"sk-top-container\"><div class=\"sk-text-repr-fallback\"><pre>Pipeline(steps=[(&#x27;scaler&#x27;, StandardScaler()),\n",
       "                (&#x27;grid_search&#x27;,\n",
       "                 GridSearchCV(cv=5, estimator=RandomForestRegressor(),\n",
       "                              param_grid={&#x27;n_estimators&#x27;: [100, 150, 200, 300,\n",
       "                                                           400, 500, 700, 1000,\n",
       "                                                           1200, 1500, 1800,\n",
       "                                                           2000]},\n",
       "                              scoring=&#x27;neg_mean_squared_error&#x27;, verbose=2))])</pre><b>In a Jupyter environment, please rerun this cell to show the HTML representation or trust the notebook. <br />On GitHub, the HTML representation is unable to render, please try loading this page with nbviewer.org.</b></div><div class=\"sk-container\" hidden><div class=\"sk-item sk-dashed-wrapped\"><div class=\"sk-label-container\"><div class=\"sk-label sk-toggleable\"><input class=\"sk-toggleable__control sk-hidden--visually\" id=\"sk-estimator-id-9\" type=\"checkbox\" ><label for=\"sk-estimator-id-9\" class=\"sk-toggleable__label sk-toggleable__label-arrow\">Pipeline</label><div class=\"sk-toggleable__content\"><pre>Pipeline(steps=[(&#x27;scaler&#x27;, StandardScaler()),\n",
       "                (&#x27;grid_search&#x27;,\n",
       "                 GridSearchCV(cv=5, estimator=RandomForestRegressor(),\n",
       "                              param_grid={&#x27;n_estimators&#x27;: [100, 150, 200, 300,\n",
       "                                                           400, 500, 700, 1000,\n",
       "                                                           1200, 1500, 1800,\n",
       "                                                           2000]},\n",
       "                              scoring=&#x27;neg_mean_squared_error&#x27;, verbose=2))])</pre></div></div></div><div class=\"sk-serial\"><div class=\"sk-item\"><div class=\"sk-estimator sk-toggleable\"><input class=\"sk-toggleable__control sk-hidden--visually\" id=\"sk-estimator-id-10\" type=\"checkbox\" ><label for=\"sk-estimator-id-10\" class=\"sk-toggleable__label sk-toggleable__label-arrow\">StandardScaler</label><div class=\"sk-toggleable__content\"><pre>StandardScaler()</pre></div></div></div><div class=\"sk-item sk-dashed-wrapped\"><div class=\"sk-label-container\"><div class=\"sk-label sk-toggleable\"><input class=\"sk-toggleable__control sk-hidden--visually\" id=\"sk-estimator-id-11\" type=\"checkbox\" ><label for=\"sk-estimator-id-11\" class=\"sk-toggleable__label sk-toggleable__label-arrow\">grid_search: GridSearchCV</label><div class=\"sk-toggleable__content\"><pre>GridSearchCV(cv=5, estimator=RandomForestRegressor(),\n",
       "             param_grid={&#x27;n_estimators&#x27;: [100, 150, 200, 300, 400, 500, 700,\n",
       "                                          1000, 1200, 1500, 1800, 2000]},\n",
       "             scoring=&#x27;neg_mean_squared_error&#x27;, verbose=2)</pre></div></div></div><div class=\"sk-parallel\"><div class=\"sk-parallel-item\"><div class=\"sk-item\"><div class=\"sk-label-container\"><div class=\"sk-label sk-toggleable\"><input class=\"sk-toggleable__control sk-hidden--visually\" id=\"sk-estimator-id-12\" type=\"checkbox\" ><label for=\"sk-estimator-id-12\" class=\"sk-toggleable__label sk-toggleable__label-arrow\">estimator: RandomForestRegressor</label><div class=\"sk-toggleable__content\"><pre>RandomForestRegressor()</pre></div></div></div><div class=\"sk-serial\"><div class=\"sk-item\"><div class=\"sk-estimator sk-toggleable\"><input class=\"sk-toggleable__control sk-hidden--visually\" id=\"sk-estimator-id-13\" type=\"checkbox\" ><label for=\"sk-estimator-id-13\" class=\"sk-toggleable__label sk-toggleable__label-arrow\">RandomForestRegressor</label><div class=\"sk-toggleable__content\"><pre>RandomForestRegressor()</pre></div></div></div></div></div></div></div></div></div></div></div></div>"
      ],
      "text/plain": [
       "Pipeline(steps=[('scaler', StandardScaler()),\n",
       "                ('grid_search',\n",
       "                 GridSearchCV(cv=5, estimator=RandomForestRegressor(),\n",
       "                              param_grid={'n_estimators': [100, 150, 200, 300,\n",
       "                                                           400, 500, 700, 1000,\n",
       "                                                           1200, 1500, 1800,\n",
       "                                                           2000]},\n",
       "                              scoring='neg_mean_squared_error', verbose=2))])"
      ]
     },
     "execution_count": 16,
     "metadata": {},
     "output_type": "execute_result"
    }
   ],
   "source": [
    "from sklearn.model_selection import GridSearchCV\n",
    "\n",
    "\n",
    "rf_reg = RandomForestRegressor()\n",
    "\n",
    "param_grid = {\n",
    "    'n_estimators': [100, 150, 200, 300, 400 ,500, 700, 1000,1200, 1500, 1800, 2000]\n",
    "}\n",
    "\n",
    "grid_search = GridSearchCV(\n",
    "    estimator=rf_reg, \n",
    "    param_grid=param_grid, \n",
    "    cv=5, \n",
    "    scoring='neg_mean_squared_error',\n",
    "    verbose=2\n",
    ")\n",
    "\n",
    "\n",
    "pipeline = Pipeline([\n",
    "    ('scaler', StandardScaler()),  \n",
    "    ('grid_search', grid_search),\n",
    "])\n",
    "\n",
    "\n",
    "pipeline.fit(X_train, y_train)"
   ]
  },
  {
   "cell_type": "code",
   "execution_count": 17,
   "metadata": {},
   "outputs": [
    {
     "name": "stdout",
     "output_type": "stream",
     "text": [
      "Best Parameters: {'n_estimators': 1800}\n"
     ]
    }
   ],
   "source": [
    "print(\"Best Parameters:\", pipeline.named_steps['grid_search'].best_params_)\n"
   ]
  },
  {
   "cell_type": "code",
   "execution_count": 18,
   "metadata": {},
   "outputs": [
    {
     "data": {
      "text/plain": [
       "['../Models/Amazon/Static/Upload/random_forest_resgressor_grid_search.pkl']"
      ]
     },
     "execution_count": 18,
     "metadata": {},
     "output_type": "execute_result"
    }
   ],
   "source": [
    "rf_reg_grid_search = pipeline\n",
    "joblib.dump(rf_reg_grid_search , r'../Models/Amazon/Static/Upload/random_forest_resgressor_grid_search.pkl')"
   ]
  },
  {
   "cell_type": "markdown",
   "metadata": {},
   "source": [
    "### Suporte Vector Machine ###"
   ]
  },
  {
   "cell_type": "code",
   "execution_count": 19,
   "metadata": {},
   "outputs": [],
   "source": [
    "from sklearn.svm import SVR\n",
    "import matplotlib.pyplot as plt\n",
    "import seaborn as sns\n",
    "from sklearn.model_selection import cross_val_score\n",
    "from sklearn.model_selection import GridSearchCV\n",
    "import pandas as pd\n",
    "import matplotlib.pyplot as plt\n",
    "import seaborn as sns"
   ]
  },
  {
   "cell_type": "markdown",
   "metadata": {},
   "source": [
    "#### Grid Search ####"
   ]
  },
  {
   "cell_type": "code",
   "execution_count": 33,
   "metadata": {},
   "outputs": [
    {
     "name": "stdout",
     "output_type": "stream",
     "text": [
      "Fitting 2 folds for each of 3 candidates, totalling 6 fits\n",
      "[CV] END ........................................kernel=poly; total time=   4.0s\n",
      "[CV] END ........................................kernel=poly; total time=   4.0s\n",
      "[CV] END .........................................kernel=rbf; total time=   5.5s\n",
      "[CV] END .........................................kernel=rbf; total time=   5.6s\n",
      "[CV] END ......................................kernel=linear; total time=  37.5s\n",
      "[CV] END ......................................kernel=linear; total time=  40.7s\n"
     ]
    },
    {
     "data": {
      "text/html": [
       "<style>#sk-container-id-5 {color: black;}#sk-container-id-5 pre{padding: 0;}#sk-container-id-5 div.sk-toggleable {background-color: white;}#sk-container-id-5 label.sk-toggleable__label {cursor: pointer;display: block;width: 100%;margin-bottom: 0;padding: 0.3em;box-sizing: border-box;text-align: center;}#sk-container-id-5 label.sk-toggleable__label-arrow:before {content: \"▸\";float: left;margin-right: 0.25em;color: #696969;}#sk-container-id-5 label.sk-toggleable__label-arrow:hover:before {color: black;}#sk-container-id-5 div.sk-estimator:hover label.sk-toggleable__label-arrow:before {color: black;}#sk-container-id-5 div.sk-toggleable__content {max-height: 0;max-width: 0;overflow: hidden;text-align: left;background-color: #f0f8ff;}#sk-container-id-5 div.sk-toggleable__content pre {margin: 0.2em;color: black;border-radius: 0.25em;background-color: #f0f8ff;}#sk-container-id-5 input.sk-toggleable__control:checked~div.sk-toggleable__content {max-height: 200px;max-width: 100%;overflow: auto;}#sk-container-id-5 input.sk-toggleable__control:checked~label.sk-toggleable__label-arrow:before {content: \"▾\";}#sk-container-id-5 div.sk-estimator input.sk-toggleable__control:checked~label.sk-toggleable__label {background-color: #d4ebff;}#sk-container-id-5 div.sk-label input.sk-toggleable__control:checked~label.sk-toggleable__label {background-color: #d4ebff;}#sk-container-id-5 input.sk-hidden--visually {border: 0;clip: rect(1px 1px 1px 1px);clip: rect(1px, 1px, 1px, 1px);height: 1px;margin: -1px;overflow: hidden;padding: 0;position: absolute;width: 1px;}#sk-container-id-5 div.sk-estimator {font-family: monospace;background-color: #f0f8ff;border: 1px dotted black;border-radius: 0.25em;box-sizing: border-box;margin-bottom: 0.5em;}#sk-container-id-5 div.sk-estimator:hover {background-color: #d4ebff;}#sk-container-id-5 div.sk-parallel-item::after {content: \"\";width: 100%;border-bottom: 1px solid gray;flex-grow: 1;}#sk-container-id-5 div.sk-label:hover label.sk-toggleable__label {background-color: #d4ebff;}#sk-container-id-5 div.sk-serial::before {content: \"\";position: absolute;border-left: 1px solid gray;box-sizing: border-box;top: 0;bottom: 0;left: 50%;z-index: 0;}#sk-container-id-5 div.sk-serial {display: flex;flex-direction: column;align-items: center;background-color: white;padding-right: 0.2em;padding-left: 0.2em;position: relative;}#sk-container-id-5 div.sk-item {position: relative;z-index: 1;}#sk-container-id-5 div.sk-parallel {display: flex;align-items: stretch;justify-content: center;background-color: white;position: relative;}#sk-container-id-5 div.sk-item::before, #sk-container-id-5 div.sk-parallel-item::before {content: \"\";position: absolute;border-left: 1px solid gray;box-sizing: border-box;top: 0;bottom: 0;left: 50%;z-index: -1;}#sk-container-id-5 div.sk-parallel-item {display: flex;flex-direction: column;z-index: 1;position: relative;background-color: white;}#sk-container-id-5 div.sk-parallel-item:first-child::after {align-self: flex-end;width: 50%;}#sk-container-id-5 div.sk-parallel-item:last-child::after {align-self: flex-start;width: 50%;}#sk-container-id-5 div.sk-parallel-item:only-child::after {width: 0;}#sk-container-id-5 div.sk-dashed-wrapped {border: 1px dashed gray;margin: 0 0.4em 0.5em 0.4em;box-sizing: border-box;padding-bottom: 0.4em;background-color: white;}#sk-container-id-5 div.sk-label label {font-family: monospace;font-weight: bold;display: inline-block;line-height: 1.2em;}#sk-container-id-5 div.sk-label-container {text-align: center;}#sk-container-id-5 div.sk-container {/* jupyter's `normalize.less` sets `[hidden] { display: none; }` but bootstrap.min.css set `[hidden] { display: none !important; }` so we also need the `!important` here to be able to override the default hidden behavior on the sphinx rendered scikit-learn.org. See: https://github.com/scikit-learn/scikit-learn/issues/21755 */display: inline-block !important;position: relative;}#sk-container-id-5 div.sk-text-repr-fallback {display: none;}</style><div id=\"sk-container-id-5\" class=\"sk-top-container\"><div class=\"sk-text-repr-fallback\"><pre>Pipeline(steps=[(&#x27;scaler&#x27;, StandardScaler()),\n",
       "                (&#x27;grid_search&#x27;,\n",
       "                 GridSearchCV(cv=2, estimator=SVR(C=1000, gamma=0.0001),\n",
       "                              n_jobs=-1,\n",
       "                              param_grid={&#x27;kernel&#x27;: [&#x27;linear&#x27;, &#x27;rbf&#x27;, &#x27;poly&#x27;]},\n",
       "                              scoring=&#x27;neg_mean_squared_error&#x27;, verbose=2))])</pre><b>In a Jupyter environment, please rerun this cell to show the HTML representation or trust the notebook. <br />On GitHub, the HTML representation is unable to render, please try loading this page with nbviewer.org.</b></div><div class=\"sk-container\" hidden><div class=\"sk-item sk-dashed-wrapped\"><div class=\"sk-label-container\"><div class=\"sk-label sk-toggleable\"><input class=\"sk-toggleable__control sk-hidden--visually\" id=\"sk-estimator-id-19\" type=\"checkbox\" ><label for=\"sk-estimator-id-19\" class=\"sk-toggleable__label sk-toggleable__label-arrow\">Pipeline</label><div class=\"sk-toggleable__content\"><pre>Pipeline(steps=[(&#x27;scaler&#x27;, StandardScaler()),\n",
       "                (&#x27;grid_search&#x27;,\n",
       "                 GridSearchCV(cv=2, estimator=SVR(C=1000, gamma=0.0001),\n",
       "                              n_jobs=-1,\n",
       "                              param_grid={&#x27;kernel&#x27;: [&#x27;linear&#x27;, &#x27;rbf&#x27;, &#x27;poly&#x27;]},\n",
       "                              scoring=&#x27;neg_mean_squared_error&#x27;, verbose=2))])</pre></div></div></div><div class=\"sk-serial\"><div class=\"sk-item\"><div class=\"sk-estimator sk-toggleable\"><input class=\"sk-toggleable__control sk-hidden--visually\" id=\"sk-estimator-id-20\" type=\"checkbox\" ><label for=\"sk-estimator-id-20\" class=\"sk-toggleable__label sk-toggleable__label-arrow\">StandardScaler</label><div class=\"sk-toggleable__content\"><pre>StandardScaler()</pre></div></div></div><div class=\"sk-item sk-dashed-wrapped\"><div class=\"sk-label-container\"><div class=\"sk-label sk-toggleable\"><input class=\"sk-toggleable__control sk-hidden--visually\" id=\"sk-estimator-id-21\" type=\"checkbox\" ><label for=\"sk-estimator-id-21\" class=\"sk-toggleable__label sk-toggleable__label-arrow\">grid_search: GridSearchCV</label><div class=\"sk-toggleable__content\"><pre>GridSearchCV(cv=2, estimator=SVR(C=1000, gamma=0.0001), n_jobs=-1,\n",
       "             param_grid={&#x27;kernel&#x27;: [&#x27;linear&#x27;, &#x27;rbf&#x27;, &#x27;poly&#x27;]},\n",
       "             scoring=&#x27;neg_mean_squared_error&#x27;, verbose=2)</pre></div></div></div><div class=\"sk-parallel\"><div class=\"sk-parallel-item\"><div class=\"sk-item\"><div class=\"sk-label-container\"><div class=\"sk-label sk-toggleable\"><input class=\"sk-toggleable__control sk-hidden--visually\" id=\"sk-estimator-id-22\" type=\"checkbox\" ><label for=\"sk-estimator-id-22\" class=\"sk-toggleable__label sk-toggleable__label-arrow\">estimator: SVR</label><div class=\"sk-toggleable__content\"><pre>SVR(C=1000, gamma=0.0001)</pre></div></div></div><div class=\"sk-serial\"><div class=\"sk-item\"><div class=\"sk-estimator sk-toggleable\"><input class=\"sk-toggleable__control sk-hidden--visually\" id=\"sk-estimator-id-23\" type=\"checkbox\" ><label for=\"sk-estimator-id-23\" class=\"sk-toggleable__label sk-toggleable__label-arrow\">SVR</label><div class=\"sk-toggleable__content\"><pre>SVR(C=1000, gamma=0.0001)</pre></div></div></div></div></div></div></div></div></div></div></div></div>"
      ],
      "text/plain": [
       "Pipeline(steps=[('scaler', StandardScaler()),\n",
       "                ('grid_search',\n",
       "                 GridSearchCV(cv=2, estimator=SVR(C=1000, gamma=0.0001),\n",
       "                              n_jobs=-1,\n",
       "                              param_grid={'kernel': ['linear', 'rbf', 'poly']},\n",
       "                              scoring='neg_mean_squared_error', verbose=2))])"
      ]
     },
     "execution_count": 33,
     "metadata": {},
     "output_type": "execute_result"
    }
   ],
   "source": [
    "from sklearn.model_selection import GridSearchCV\n",
    "from sklearn.svm import SVR\n",
    "\n",
    "svm_reg = SVR(C = 1000,gamma = 0.0001 )\n",
    "\n",
    "param_grid = {\n",
    "    'kernel': ['linear', 'rbf', 'poly'],      # Kernel types to consider\n",
    "}\n",
    "\n",
    "\n",
    "grid_search = GridSearchCV(\n",
    "    estimator= svm_reg, \n",
    "    param_grid=param_grid, \n",
    "    cv=2, \n",
    "    scoring='neg_mean_squared_error',\n",
    "    verbose=2,\n",
    "    n_jobs=-1\n",
    ")\n",
    "\n",
    "\n",
    "pipeline = Pipeline([\n",
    "    ('scaler', StandardScaler()),  \n",
    "    ('grid_search', grid_search),\n",
    "])\n",
    "\n",
    "\n",
    "pipeline.fit(X_train, y_train['UL_bitrate'])"
   ]
  },
  {
   "cell_type": "code",
   "execution_count": 34,
   "metadata": {},
   "outputs": [
    {
     "name": "stdout",
     "output_type": "stream",
     "text": [
      "Best Parameters: {'kernel': 'rbf'}\n"
     ]
    }
   ],
   "source": [
    "best_params = pipeline.named_steps['grid_search'].best_params_\n",
    "print(\"Best Parameters:\", best_params)"
   ]
  },
  {
   "cell_type": "code",
   "execution_count": 35,
   "metadata": {},
   "outputs": [
    {
     "data": {
      "text/plain": [
       "['../Models/Amazon/Static/Upload/suport_vector.pkl']"
      ]
     },
     "execution_count": 35,
     "metadata": {},
     "output_type": "execute_result"
    }
   ],
   "source": [
    "svr_grid_search = pipeline\n",
    "joblib.dump(svr_grid_search , r'../Models/Amazon/Static/Upload/suport_vector.pkl')"
   ]
  },
  {
   "cell_type": "markdown",
   "metadata": {},
   "source": [
    "### Neural Network ###"
   ]
  },
  {
   "cell_type": "markdown",
   "metadata": {},
   "source": [
    "#### Feedforward Neural Network (FNN) ####"
   ]
  },
  {
   "cell_type": "code",
   "execution_count": 13,
   "metadata": {},
   "outputs": [
    {
     "name": "stderr",
     "output_type": "stream",
     "text": [
      "2023-08-24 13:29:15.101120: I tensorflow/core/util/port.cc:110] oneDNN custom operations are on. You may see slightly different numerical results due to floating-point round-off errors from different computation orders. To turn them off, set the environment variable `TF_ENABLE_ONEDNN_OPTS=0`.\n",
      "2023-08-24 13:29:15.102565: I tensorflow/tsl/cuda/cudart_stub.cc:28] Could not find cuda drivers on your machine, GPU will not be used.\n",
      "2023-08-24 13:29:15.125654: I tensorflow/tsl/cuda/cudart_stub.cc:28] Could not find cuda drivers on your machine, GPU will not be used.\n",
      "2023-08-24 13:29:15.126865: I tensorflow/core/platform/cpu_feature_guard.cc:182] This TensorFlow binary is optimized to use available CPU instructions in performance-critical operations.\n",
      "To enable the following instructions: AVX2 AVX_VNNI FMA, in other operations, rebuild TensorFlow with the appropriate compiler flags.\n",
      "2023-08-24 13:29:15.541232: W tensorflow/compiler/tf2tensorrt/utils/py_utils.cc:38] TF-TRT Warning: Could not find TensorRT\n"
     ]
    }
   ],
   "source": [
    "import tensorflow as tf\n",
    "from sklearn.model_selection import train_test_split\n",
    "from sklearn.preprocessing import StandardScaler\n",
    "from sklearn.metrics import mean_squared_error"
   ]
  },
  {
   "cell_type": "code",
   "execution_count": 17,
   "metadata": {},
   "outputs": [
    {
     "name": "stdout",
     "output_type": "stream",
     "text": [
      "Epoch 1/50\n",
      "612/612 - 1s - loss: 227460384.0000 - val_loss: 175857984.0000 - 863ms/epoch - 1ms/step\n",
      "Epoch 2/50\n",
      "612/612 - 1s - loss: 130192280.0000 - val_loss: 97950232.0000 - 602ms/epoch - 983us/step\n",
      "Epoch 3/50\n",
      "612/612 - 0s - loss: 100313224.0000 - val_loss: 91097944.0000 - 312ms/epoch - 509us/step\n",
      "Epoch 4/50\n",
      "612/612 - 1s - loss: 96867872.0000 - val_loss: 89718296.0000 - 526ms/epoch - 859us/step\n",
      "Epoch 5/50\n",
      "612/612 - 0s - loss: 95953672.0000 - val_loss: 89191240.0000 - 358ms/epoch - 586us/step\n",
      "Epoch 6/50\n",
      "612/612 - 1s - loss: 95501088.0000 - val_loss: 88920432.0000 - 646ms/epoch - 1ms/step\n",
      "Epoch 7/50\n",
      "612/612 - 1s - loss: 95241560.0000 - val_loss: 88690112.0000 - 553ms/epoch - 904us/step\n",
      "Epoch 8/50\n",
      "612/612 - 0s - loss: 95062904.0000 - val_loss: 88583416.0000 - 409ms/epoch - 668us/step\n",
      "Epoch 9/50\n",
      "612/612 - 1s - loss: 94959784.0000 - val_loss: 88494528.0000 - 559ms/epoch - 913us/step\n",
      "Epoch 10/50\n",
      "612/612 - 0s - loss: 94893056.0000 - val_loss: 88457528.0000 - 307ms/epoch - 502us/step\n",
      "Epoch 11/50\n",
      "612/612 - 1s - loss: 94851944.0000 - val_loss: 88443160.0000 - 508ms/epoch - 830us/step\n",
      "Epoch 12/50\n",
      "612/612 - 0s - loss: 94820688.0000 - val_loss: 88413048.0000 - 486ms/epoch - 794us/step\n",
      "Epoch 13/50\n",
      "612/612 - 1s - loss: 94792840.0000 - val_loss: 88384248.0000 - 633ms/epoch - 1ms/step\n",
      "Epoch 14/50\n",
      "612/612 - 1s - loss: 94790192.0000 - val_loss: 88392320.0000 - 651ms/epoch - 1ms/step\n",
      "Epoch 15/50\n",
      "612/612 - 0s - loss: 94776736.0000 - val_loss: 88380992.0000 - 333ms/epoch - 544us/step\n",
      "Epoch 16/50\n",
      "612/612 - 1s - loss: 94766888.0000 - val_loss: 88383400.0000 - 526ms/epoch - 860us/step\n",
      "Epoch 17/50\n",
      "612/612 - 1s - loss: 94753096.0000 - val_loss: 88393200.0000 - 584ms/epoch - 955us/step\n",
      "Epoch 18/50\n",
      "612/612 - 0s - loss: 94756552.0000 - val_loss: 88355848.0000 - 464ms/epoch - 758us/step\n",
      "Epoch 19/50\n",
      "612/612 - 1s - loss: 94747528.0000 - val_loss: 88372304.0000 - 664ms/epoch - 1ms/step\n",
      "Epoch 20/50\n",
      "612/612 - 1s - loss: 94745048.0000 - val_loss: 88351968.0000 - 704ms/epoch - 1ms/step\n",
      "Epoch 21/50\n",
      "612/612 - 0s - loss: 94742168.0000 - val_loss: 88344408.0000 - 471ms/epoch - 770us/step\n",
      "Epoch 22/50\n",
      "612/612 - 1s - loss: 94730696.0000 - val_loss: 88348224.0000 - 526ms/epoch - 860us/step\n",
      "Epoch 23/50\n",
      "612/612 - 1s - loss: 94732752.0000 - val_loss: 88344504.0000 - 519ms/epoch - 848us/step\n",
      "Epoch 24/50\n",
      "612/612 - 0s - loss: 94725304.0000 - val_loss: 88346536.0000 - 306ms/epoch - 501us/step\n",
      "Epoch 25/50\n",
      "612/612 - 1s - loss: 94732712.0000 - val_loss: 88341264.0000 - 775ms/epoch - 1ms/step\n",
      "Epoch 26/50\n",
      "612/612 - 1s - loss: 94719960.0000 - val_loss: 88333176.0000 - 672ms/epoch - 1ms/step\n",
      "Epoch 27/50\n",
      "612/612 - 0s - loss: 94718792.0000 - val_loss: 88329896.0000 - 484ms/epoch - 790us/step\n",
      "Epoch 28/50\n",
      "612/612 - 1s - loss: 94717752.0000 - val_loss: 88337608.0000 - 513ms/epoch - 838us/step\n",
      "Epoch 29/50\n",
      "612/612 - 1s - loss: 94711080.0000 - val_loss: 88326136.0000 - 526ms/epoch - 860us/step\n",
      "Epoch 30/50\n",
      "612/612 - 0s - loss: 94715400.0000 - val_loss: 88329648.0000 - 358ms/epoch - 585us/step\n",
      "Epoch 31/50\n",
      "612/612 - 1s - loss: 94709056.0000 - val_loss: 88329816.0000 - 551ms/epoch - 901us/step\n",
      "Epoch 32/50\n",
      "612/612 - 1s - loss: 94708624.0000 - val_loss: 88326624.0000 - 641ms/epoch - 1ms/step\n",
      "Epoch 33/50\n",
      "612/612 - 0s - loss: 94711248.0000 - val_loss: 88328096.0000 - 346ms/epoch - 566us/step\n",
      "Epoch 34/50\n",
      "612/612 - 1s - loss: 94706136.0000 - val_loss: 88331928.0000 - 502ms/epoch - 821us/step\n",
      "Epoch 35/50\n",
      "612/612 - 0s - loss: 94705640.0000 - val_loss: 88324376.0000 - 435ms/epoch - 711us/step\n",
      "Epoch 36/50\n",
      "612/612 - 0s - loss: 94702024.0000 - val_loss: 88327512.0000 - 291ms/epoch - 475us/step\n",
      "Epoch 37/50\n",
      "612/612 - 1s - loss: 94698800.0000 - val_loss: 88327888.0000 - 502ms/epoch - 819us/step\n",
      "Epoch 38/50\n",
      "612/612 - 0s - loss: 94700296.0000 - val_loss: 88341096.0000 - 437ms/epoch - 714us/step\n",
      "Epoch 39/50\n",
      "612/612 - 0s - loss: 94700568.0000 - val_loss: 88330064.0000 - 440ms/epoch - 719us/step\n",
      "Epoch 40/50\n",
      "612/612 - 0s - loss: 94698888.0000 - val_loss: 88321216.0000 - 465ms/epoch - 759us/step\n",
      "Epoch 41/50\n",
      "612/612 - 0s - loss: 94700704.0000 - val_loss: 88311784.0000 - 471ms/epoch - 770us/step\n",
      "Epoch 42/50\n",
      "612/612 - 1s - loss: 94690888.0000 - val_loss: 88321064.0000 - 540ms/epoch - 882us/step\n",
      "Epoch 43/50\n",
      "612/612 - 1s - loss: 94696576.0000 - val_loss: 88319392.0000 - 610ms/epoch - 996us/step\n",
      "Epoch 44/50\n",
      "612/612 - 1s - loss: 94693104.0000 - val_loss: 88315080.0000 - 598ms/epoch - 977us/step\n",
      "Epoch 45/50\n",
      "612/612 - 0s - loss: 94696776.0000 - val_loss: 88320880.0000 - 417ms/epoch - 681us/step\n",
      "Epoch 46/50\n",
      "612/612 - 1s - loss: 94690888.0000 - val_loss: 88326904.0000 - 636ms/epoch - 1ms/step\n",
      "Epoch 47/50\n",
      "612/612 - 0s - loss: 94690232.0000 - val_loss: 88317568.0000 - 411ms/epoch - 672us/step\n",
      "Epoch 48/50\n",
      "612/612 - 1s - loss: 94686888.0000 - val_loss: 88324640.0000 - 528ms/epoch - 863us/step\n",
      "Epoch 49/50\n",
      "612/612 - 0s - loss: 94693480.0000 - val_loss: 88312624.0000 - 431ms/epoch - 704us/step\n",
      "Epoch 50/50\n",
      "612/612 - 0s - loss: 94689616.0000 - val_loss: 88308136.0000 - 442ms/epoch - 722us/step\n",
      "Epoch 1/50 - Train MSE: 227460384.0000 - Val MSE: 175857984.0000\n",
      "Epoch 2/50 - Train MSE: 130192280.0000 - Val MSE: 97950232.0000\n",
      "Epoch 3/50 - Train MSE: 100313224.0000 - Val MSE: 91097944.0000\n",
      "Epoch 4/50 - Train MSE: 96867872.0000 - Val MSE: 89718296.0000\n",
      "Epoch 5/50 - Train MSE: 95953672.0000 - Val MSE: 89191240.0000\n",
      "Epoch 6/50 - Train MSE: 95501088.0000 - Val MSE: 88920432.0000\n",
      "Epoch 7/50 - Train MSE: 95241560.0000 - Val MSE: 88690112.0000\n",
      "Epoch 8/50 - Train MSE: 95062904.0000 - Val MSE: 88583416.0000\n",
      "Epoch 9/50 - Train MSE: 94959784.0000 - Val MSE: 88494528.0000\n",
      "Epoch 10/50 - Train MSE: 94893056.0000 - Val MSE: 88457528.0000\n",
      "Epoch 11/50 - Train MSE: 94851944.0000 - Val MSE: 88443160.0000\n",
      "Epoch 12/50 - Train MSE: 94820688.0000 - Val MSE: 88413048.0000\n",
      "Epoch 13/50 - Train MSE: 94792840.0000 - Val MSE: 88384248.0000\n",
      "Epoch 14/50 - Train MSE: 94790192.0000 - Val MSE: 88392320.0000\n",
      "Epoch 15/50 - Train MSE: 94776736.0000 - Val MSE: 88380992.0000\n",
      "Epoch 16/50 - Train MSE: 94766888.0000 - Val MSE: 88383400.0000\n",
      "Epoch 17/50 - Train MSE: 94753096.0000 - Val MSE: 88393200.0000\n",
      "Epoch 18/50 - Train MSE: 94756552.0000 - Val MSE: 88355848.0000\n",
      "Epoch 19/50 - Train MSE: 94747528.0000 - Val MSE: 88372304.0000\n",
      "Epoch 20/50 - Train MSE: 94745048.0000 - Val MSE: 88351968.0000\n",
      "Epoch 21/50 - Train MSE: 94742168.0000 - Val MSE: 88344408.0000\n",
      "Epoch 22/50 - Train MSE: 94730696.0000 - Val MSE: 88348224.0000\n",
      "Epoch 23/50 - Train MSE: 94732752.0000 - Val MSE: 88344504.0000\n",
      "Epoch 24/50 - Train MSE: 94725304.0000 - Val MSE: 88346536.0000\n",
      "Epoch 25/50 - Train MSE: 94732712.0000 - Val MSE: 88341264.0000\n",
      "Epoch 26/50 - Train MSE: 94719960.0000 - Val MSE: 88333176.0000\n",
      "Epoch 27/50 - Train MSE: 94718792.0000 - Val MSE: 88329896.0000\n",
      "Epoch 28/50 - Train MSE: 94717752.0000 - Val MSE: 88337608.0000\n",
      "Epoch 29/50 - Train MSE: 94711080.0000 - Val MSE: 88326136.0000\n",
      "Epoch 30/50 - Train MSE: 94715400.0000 - Val MSE: 88329648.0000\n",
      "Epoch 31/50 - Train MSE: 94709056.0000 - Val MSE: 88329816.0000\n",
      "Epoch 32/50 - Train MSE: 94708624.0000 - Val MSE: 88326624.0000\n",
      "Epoch 33/50 - Train MSE: 94711248.0000 - Val MSE: 88328096.0000\n",
      "Epoch 34/50 - Train MSE: 94706136.0000 - Val MSE: 88331928.0000\n",
      "Epoch 35/50 - Train MSE: 94705640.0000 - Val MSE: 88324376.0000\n",
      "Epoch 36/50 - Train MSE: 94702024.0000 - Val MSE: 88327512.0000\n",
      "Epoch 37/50 - Train MSE: 94698800.0000 - Val MSE: 88327888.0000\n",
      "Epoch 38/50 - Train MSE: 94700296.0000 - Val MSE: 88341096.0000\n",
      "Epoch 39/50 - Train MSE: 94700568.0000 - Val MSE: 88330064.0000\n",
      "Epoch 40/50 - Train MSE: 94698888.0000 - Val MSE: 88321216.0000\n",
      "Epoch 41/50 - Train MSE: 94700704.0000 - Val MSE: 88311784.0000\n",
      "Epoch 42/50 - Train MSE: 94690888.0000 - Val MSE: 88321064.0000\n",
      "Epoch 43/50 - Train MSE: 94696576.0000 - Val MSE: 88319392.0000\n",
      "Epoch 44/50 - Train MSE: 94693104.0000 - Val MSE: 88315080.0000\n",
      "Epoch 45/50 - Train MSE: 94696776.0000 - Val MSE: 88320880.0000\n",
      "Epoch 46/50 - Train MSE: 94690888.0000 - Val MSE: 88326904.0000\n",
      "Epoch 47/50 - Train MSE: 94690232.0000 - Val MSE: 88317568.0000\n",
      "Epoch 48/50 - Train MSE: 94686888.0000 - Val MSE: 88324640.0000\n",
      "Epoch 49/50 - Train MSE: 94693480.0000 - Val MSE: 88312624.0000\n",
      "Epoch 50/50 - Train MSE: 94689616.0000 - Val MSE: 88308136.0000\n"
     ]
    }
   ],
   "source": [
    "scaler = StandardScaler()\n",
    "X_train_scaled = scaler.fit_transform(X_train)\n",
    "\n",
    "# Build and compile your model\n",
    "model = tf.keras.Sequential([\n",
    "    tf.keras.layers.Input(shape=X_train_scaled.shape[1]),\n",
    "    tf.keras.layers.Dense(64, activation='relu'),\n",
    "    tf.keras.layers.Dense(32, activation='relu'),\n",
    "    tf.keras.layers.Dense(1)  # Output layer for regression\n",
    "])\n",
    "model.compile(optimizer='adam', loss='mean_squared_error')\n",
    "\n",
    "# Train the model and capture the training history\n",
    "history = model.fit(X_train_scaled, y_train, epochs=50, batch_size=32, validation_split=0.2, verbose=2)\n",
    "\n",
    "# Extract and print the training and validation loss (MSE) for each epoch\n",
    "for epoch in range(len(history.history['loss'])):\n",
    "    train_mse = history.history['loss'][epoch]\n",
    "    val_mse = history.history['val_loss'][epoch]\n",
    "    print(f\"Epoch {epoch + 1}/{len(history.history['loss'])} - Train MSE: {train_mse:.4f} - Val MSE: {val_mse:.4f}\")\n"
   ]
  },
  {
   "cell_type": "code",
   "execution_count": 22,
   "metadata": {},
   "outputs": [
    {
     "data": {
      "text/plain": [
       "['../Models/Amazon/Static/Dowload/fnn.pkl']"
      ]
     },
     "execution_count": 22,
     "metadata": {},
     "output_type": "execute_result"
    }
   ],
   "source": [
    "neural_fnn = model\n",
    "joblib.dump(neural_fnn , r'../Models/Amazon/Static/Dowload/fnn.pkl')"
   ]
  },
  {
   "cell_type": "code",
   "execution_count": 23,
   "metadata": {},
   "outputs": [
    {
     "name": "stdout",
     "output_type": "stream",
     "text": [
      "Epoch 1/50\n",
      "612/612 - 1s - loss: 134884096.0000 - val_loss: 102067928.0000 - 632ms/epoch - 1ms/step\n",
      "Epoch 2/50\n",
      "612/612 - 0s - loss: 101803264.0000 - val_loss: 101228640.0000 - 335ms/epoch - 548us/step\n",
      "Epoch 3/50\n",
      "612/612 - 1s - loss: 101321104.0000 - val_loss: 101022992.0000 - 793ms/epoch - 1ms/step\n",
      "Epoch 4/50\n",
      "612/612 - 1s - loss: 101196680.0000 - val_loss: 100965776.0000 - 681ms/epoch - 1ms/step\n",
      "Epoch 5/50\n",
      "612/612 - 1s - loss: 101158960.0000 - val_loss: 100946768.0000 - 723ms/epoch - 1ms/step\n",
      "Epoch 6/50\n",
      "612/612 - 1s - loss: 101145504.0000 - val_loss: 100940008.0000 - 594ms/epoch - 971us/step\n",
      "Epoch 7/50\n",
      "612/612 - 1s - loss: 101140528.0000 - val_loss: 100937424.0000 - 558ms/epoch - 912us/step\n",
      "Epoch 8/50\n",
      "612/612 - 1s - loss: 101138632.0000 - val_loss: 100936328.0000 - 762ms/epoch - 1ms/step\n",
      "Epoch 9/50\n",
      "612/612 - 1s - loss: 101137672.0000 - val_loss: 100935984.0000 - 669ms/epoch - 1ms/step\n",
      "Epoch 10/50\n",
      "612/612 - 0s - loss: 101137424.0000 - val_loss: 100937752.0000 - 486ms/epoch - 794us/step\n",
      "Epoch 11/50\n",
      "612/612 - 1s - loss: 101137232.0000 - val_loss: 100935912.0000 - 637ms/epoch - 1ms/step\n",
      "Epoch 12/50\n",
      "612/612 - 0s - loss: 101136824.0000 - val_loss: 100935728.0000 - 333ms/epoch - 545us/step\n",
      "Epoch 13/50\n",
      "612/612 - 1s - loss: 101136776.0000 - val_loss: 100935296.0000 - 655ms/epoch - 1ms/step\n",
      "Epoch 14/50\n",
      "612/612 - 1s - loss: 101136976.0000 - val_loss: 100936560.0000 - 620ms/epoch - 1ms/step\n",
      "Epoch 15/50\n",
      "612/612 - 0s - loss: 101136968.0000 - val_loss: 100935216.0000 - 417ms/epoch - 681us/step\n",
      "Epoch 16/50\n",
      "612/612 - 1s - loss: 101136896.0000 - val_loss: 100935632.0000 - 605ms/epoch - 988us/step\n",
      "Epoch 17/50\n",
      "612/612 - 1s - loss: 101136592.0000 - val_loss: 100935168.0000 - 687ms/epoch - 1ms/step\n",
      "Epoch 18/50\n",
      "612/612 - 0s - loss: 101136856.0000 - val_loss: 100935904.0000 - 458ms/epoch - 749us/step\n",
      "Epoch 19/50\n",
      "612/612 - 1s - loss: 101136712.0000 - val_loss: 100936024.0000 - 765ms/epoch - 1ms/step\n",
      "Epoch 20/50\n",
      "612/612 - 1s - loss: 101136592.0000 - val_loss: 100935216.0000 - 753ms/epoch - 1ms/step\n",
      "Epoch 21/50\n",
      "612/612 - 1s - loss: 101136736.0000 - val_loss: 100935208.0000 - 711ms/epoch - 1ms/step\n",
      "Epoch 22/50\n",
      "612/612 - 1s - loss: 101136760.0000 - val_loss: 100935496.0000 - 693ms/epoch - 1ms/step\n",
      "Epoch 23/50\n",
      "612/612 - 0s - loss: 101136760.0000 - val_loss: 100936160.0000 - 453ms/epoch - 739us/step\n",
      "Epoch 24/50\n",
      "612/612 - 1s - loss: 101136648.0000 - val_loss: 100936576.0000 - 686ms/epoch - 1ms/step\n",
      "Epoch 25/50\n",
      "612/612 - 0s - loss: 101136608.0000 - val_loss: 100936440.0000 - 292ms/epoch - 476us/step\n",
      "Epoch 26/50\n",
      "612/612 - 1s - loss: 101136528.0000 - val_loss: 100935256.0000 - 688ms/epoch - 1ms/step\n",
      "Epoch 27/50\n",
      "612/612 - 1s - loss: 101136672.0000 - val_loss: 100935688.0000 - 602ms/epoch - 984us/step\n",
      "Epoch 28/50\n",
      "612/612 - 1s - loss: 101136720.0000 - val_loss: 100935080.0000 - 759ms/epoch - 1ms/step\n",
      "Epoch 29/50\n",
      "612/612 - 1s - loss: 101136448.0000 - val_loss: 100935384.0000 - 659ms/epoch - 1ms/step\n",
      "Epoch 30/50\n",
      "612/612 - 1s - loss: 101136528.0000 - val_loss: 100935312.0000 - 545ms/epoch - 891us/step\n",
      "Epoch 31/50\n",
      "612/612 - 0s - loss: 101136720.0000 - val_loss: 100936280.0000 - 355ms/epoch - 579us/step\n",
      "Epoch 32/50\n",
      "612/612 - 1s - loss: 101136480.0000 - val_loss: 100935088.0000 - 893ms/epoch - 1ms/step\n",
      "Epoch 33/50\n",
      "612/612 - 0s - loss: 101136632.0000 - val_loss: 100936256.0000 - 402ms/epoch - 657us/step\n",
      "Epoch 34/50\n",
      "612/612 - 1s - loss: 101136480.0000 - val_loss: 100934952.0000 - 674ms/epoch - 1ms/step\n",
      "Epoch 35/50\n",
      "612/612 - 0s - loss: 101136448.0000 - val_loss: 100935024.0000 - 472ms/epoch - 771us/step\n",
      "Epoch 36/50\n",
      "612/612 - 1s - loss: 101136592.0000 - val_loss: 100935000.0000 - 835ms/epoch - 1ms/step\n",
      "Epoch 37/50\n",
      "612/612 - 1s - loss: 101136632.0000 - val_loss: 100935288.0000 - 626ms/epoch - 1ms/step\n",
      "Epoch 38/50\n",
      "612/612 - 1s - loss: 101136568.0000 - val_loss: 100935008.0000 - 595ms/epoch - 973us/step\n",
      "Epoch 39/50\n",
      "612/612 - 1s - loss: 101136464.0000 - val_loss: 100936008.0000 - 520ms/epoch - 849us/step\n",
      "Epoch 40/50\n",
      "612/612 - 1s - loss: 101136640.0000 - val_loss: 100936488.0000 - 600ms/epoch - 980us/step\n",
      "Epoch 41/50\n",
      "612/612 - 1s - loss: 101136616.0000 - val_loss: 100935768.0000 - 667ms/epoch - 1ms/step\n",
      "Epoch 42/50\n",
      "612/612 - 1s - loss: 101136528.0000 - val_loss: 100935920.0000 - 715ms/epoch - 1ms/step\n",
      "Epoch 43/50\n",
      "612/612 - 1s - loss: 101136608.0000 - val_loss: 100936160.0000 - 602ms/epoch - 984us/step\n",
      "Epoch 44/50\n",
      "612/612 - 0s - loss: 101136688.0000 - val_loss: 100935064.0000 - 475ms/epoch - 776us/step\n",
      "Epoch 45/50\n",
      "612/612 - 1s - loss: 101136488.0000 - val_loss: 100936744.0000 - 674ms/epoch - 1ms/step\n",
      "Epoch 46/50\n",
      "612/612 - 0s - loss: 101136584.0000 - val_loss: 100934856.0000 - 436ms/epoch - 712us/step\n",
      "Epoch 47/50\n",
      "612/612 - 1s - loss: 101136472.0000 - val_loss: 100935384.0000 - 858ms/epoch - 1ms/step\n",
      "Epoch 48/50\n",
      "612/612 - 1s - loss: 101136488.0000 - val_loss: 100935312.0000 - 571ms/epoch - 933us/step\n",
      "Epoch 49/50\n",
      "612/612 - 1s - loss: 101136640.0000 - val_loss: 100935056.0000 - 721ms/epoch - 1ms/step\n",
      "Epoch 50/50\n",
      "612/612 - 0s - loss: 101136728.0000 - val_loss: 100935344.0000 - 451ms/epoch - 737us/step\n",
      "Epoch 1/50 - Train MSE: 134884096.0000 - Val MSE: 102067928.0000\n",
      "Epoch 2/50 - Train MSE: 101803264.0000 - Val MSE: 101228640.0000\n",
      "Epoch 3/50 - Train MSE: 101321104.0000 - Val MSE: 101022992.0000\n",
      "Epoch 4/50 - Train MSE: 101196680.0000 - Val MSE: 100965776.0000\n",
      "Epoch 5/50 - Train MSE: 101158960.0000 - Val MSE: 100946768.0000\n",
      "Epoch 6/50 - Train MSE: 101145504.0000 - Val MSE: 100940008.0000\n",
      "Epoch 7/50 - Train MSE: 101140528.0000 - Val MSE: 100937424.0000\n",
      "Epoch 8/50 - Train MSE: 101138632.0000 - Val MSE: 100936328.0000\n",
      "Epoch 9/50 - Train MSE: 101137672.0000 - Val MSE: 100935984.0000\n",
      "Epoch 10/50 - Train MSE: 101137424.0000 - Val MSE: 100937752.0000\n",
      "Epoch 11/50 - Train MSE: 101137232.0000 - Val MSE: 100935912.0000\n",
      "Epoch 12/50 - Train MSE: 101136824.0000 - Val MSE: 100935728.0000\n",
      "Epoch 13/50 - Train MSE: 101136776.0000 - Val MSE: 100935296.0000\n",
      "Epoch 14/50 - Train MSE: 101136976.0000 - Val MSE: 100936560.0000\n",
      "Epoch 15/50 - Train MSE: 101136968.0000 - Val MSE: 100935216.0000\n",
      "Epoch 16/50 - Train MSE: 101136896.0000 - Val MSE: 100935632.0000\n",
      "Epoch 17/50 - Train MSE: 101136592.0000 - Val MSE: 100935168.0000\n",
      "Epoch 18/50 - Train MSE: 101136856.0000 - Val MSE: 100935904.0000\n",
      "Epoch 19/50 - Train MSE: 101136712.0000 - Val MSE: 100936024.0000\n",
      "Epoch 20/50 - Train MSE: 101136592.0000 - Val MSE: 100935216.0000\n",
      "Epoch 21/50 - Train MSE: 101136736.0000 - Val MSE: 100935208.0000\n",
      "Epoch 22/50 - Train MSE: 101136760.0000 - Val MSE: 100935496.0000\n",
      "Epoch 23/50 - Train MSE: 101136760.0000 - Val MSE: 100936160.0000\n",
      "Epoch 24/50 - Train MSE: 101136648.0000 - Val MSE: 100936576.0000\n",
      "Epoch 25/50 - Train MSE: 101136608.0000 - Val MSE: 100936440.0000\n",
      "Epoch 26/50 - Train MSE: 101136528.0000 - Val MSE: 100935256.0000\n",
      "Epoch 27/50 - Train MSE: 101136672.0000 - Val MSE: 100935688.0000\n",
      "Epoch 28/50 - Train MSE: 101136720.0000 - Val MSE: 100935080.0000\n",
      "Epoch 29/50 - Train MSE: 101136448.0000 - Val MSE: 100935384.0000\n",
      "Epoch 30/50 - Train MSE: 101136528.0000 - Val MSE: 100935312.0000\n",
      "Epoch 31/50 - Train MSE: 101136720.0000 - Val MSE: 100936280.0000\n",
      "Epoch 32/50 - Train MSE: 101136480.0000 - Val MSE: 100935088.0000\n",
      "Epoch 33/50 - Train MSE: 101136632.0000 - Val MSE: 100936256.0000\n",
      "Epoch 34/50 - Train MSE: 101136480.0000 - Val MSE: 100934952.0000\n",
      "Epoch 35/50 - Train MSE: 101136448.0000 - Val MSE: 100935024.0000\n",
      "Epoch 36/50 - Train MSE: 101136592.0000 - Val MSE: 100935000.0000\n",
      "Epoch 37/50 - Train MSE: 101136632.0000 - Val MSE: 100935288.0000\n",
      "Epoch 38/50 - Train MSE: 101136568.0000 - Val MSE: 100935008.0000\n",
      "Epoch 39/50 - Train MSE: 101136464.0000 - Val MSE: 100936008.0000\n",
      "Epoch 40/50 - Train MSE: 101136640.0000 - Val MSE: 100936488.0000\n",
      "Epoch 41/50 - Train MSE: 101136616.0000 - Val MSE: 100935768.0000\n",
      "Epoch 42/50 - Train MSE: 101136528.0000 - Val MSE: 100935920.0000\n",
      "Epoch 43/50 - Train MSE: 101136608.0000 - Val MSE: 100936160.0000\n",
      "Epoch 44/50 - Train MSE: 101136688.0000 - Val MSE: 100935064.0000\n",
      "Epoch 45/50 - Train MSE: 101136488.0000 - Val MSE: 100936744.0000\n",
      "Epoch 46/50 - Train MSE: 101136584.0000 - Val MSE: 100934856.0000\n",
      "Epoch 47/50 - Train MSE: 101136472.0000 - Val MSE: 100935384.0000\n",
      "Epoch 48/50 - Train MSE: 101136488.0000 - Val MSE: 100935312.0000\n",
      "Epoch 49/50 - Train MSE: 101136640.0000 - Val MSE: 100935056.0000\n",
      "Epoch 50/50 - Train MSE: 101136728.0000 - Val MSE: 100935344.0000\n"
     ]
    }
   ],
   "source": [
    "import tensorflow as tf\n",
    "from sklearn.preprocessing import StandardScaler\n",
    "\n",
    "\n",
    "# Standardize the input data\n",
    "scaler = StandardScaler()\n",
    "X_train_scaled = scaler.fit_transform(X_train)\n",
    "\n",
    "# Build and compile your MLP model\n",
    "model = tf.keras.Sequential([\n",
    "    tf.keras.layers.Input(shape=X_train_scaled.shape[1]),\n",
    "    tf.keras.layers.Dense(128, activation='relu'),\n",
    "    tf.keras.layers.Dense(64, activation='relu'),\n",
    "    tf.keras.layers.Dense(32, activation='relu'),\n",
    "    tf.keras.layers.Dense(1)  # Output layer for regression\n",
    "])\n",
    "model.compile(optimizer='adam', loss='mean_squared_error')\n",
    "\n",
    "# Train the model and capture the training history\n",
    "history = model.fit(X_train_scaled, y_train, epochs=50, batch_size=32, validation_split=0.2, verbose=2)\n",
    "\n",
    "# Extract and print the training and validation loss (MSE) for each epoch\n",
    "for epoch in range(len(history.history['loss'])):\n",
    "    train_mse = history.history['loss'][epoch]\n",
    "    val_mse = history.history['val_loss'][epoch]\n",
    "    print(f\"Epoch {epoch + 1}/{len(history.history['loss'])} - Train MSE: {train_mse:.4f} - Val MSE: {val_mse:.4f}\")\n"
   ]
  },
  {
   "cell_type": "code",
   "execution_count": 24,
   "metadata": {},
   "outputs": [
    {
     "data": {
      "text/plain": [
       "['../Models/Amazon/Static/Upload/mlp.pkl']"
      ]
     },
     "execution_count": 24,
     "metadata": {},
     "output_type": "execute_result"
    }
   ],
   "source": [
    "neural_mlp = model\n",
    "joblib.dump(neural_mlp , r'../Models/Amazon/Static/Upload/mlp.pkl')"
   ]
  }
 ],
 "metadata": {
  "kernelspec": {
   "display_name": "env",
   "language": "python",
   "name": "python3"
  },
  "language_info": {
   "codemirror_mode": {
    "name": "ipython",
    "version": 3
   },
   "file_extension": ".py",
   "mimetype": "text/x-python",
   "name": "python",
   "nbconvert_exporter": "python",
   "pygments_lexer": "ipython3",
   "version": "3.10.6"
  },
  "orig_nbformat": 4
 },
 "nbformat": 4,
 "nbformat_minor": 2
}
