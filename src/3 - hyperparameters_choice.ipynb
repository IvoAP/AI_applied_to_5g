{
 "cells": [
  {
   "cell_type": "code",
   "execution_count": 1,
   "metadata": {},
   "outputs": [],
   "source": [
    "import pandas as pd\n",
    "import numpy as np\n",
    "from sklearn.model_selection import train_test_split\n",
    "from sklearn import metrics\n",
    "from sklearn.model_selection import cross_val_score\n",
    "from sklearn.preprocessing import StandardScaler\n",
    "from sklearn.pipeline import Pipeline\n",
    "import joblib"
   ]
  },
  {
   "cell_type": "code",
   "execution_count": 2,
   "metadata": {},
   "outputs": [],
   "source": [
    "X_test = pd.read_csv(r'../Training_And_Test/Amazon/X_test_DL_static.csv')\n",
    "y_test = pd.read_csv(r'../Training_And_Test/Amazon/y_test_UL_static.csv')\n",
    "X_train = pd.read_csv(r'../Training_And_Test/Amazon/X_train_UL_static.csv')\n",
    "y_train = pd.read_csv(r'../Training_And_Test/Amazon/y_train_UL_static.csv')"
   ]
  },
  {
   "cell_type": "markdown",
   "metadata": {},
   "source": [
    "### Random Forest Regressor  ###"
   ]
  },
  {
   "cell_type": "code",
   "execution_count": 22,
   "metadata": {},
   "outputs": [],
   "source": [
    "\n",
    "from sklearn.ensemble import RandomForestRegressor\n",
    "from sklearn.model_selection import RandomizedSearchCV\n",
    "from scipy.stats import randint"
   ]
  },
  {
   "cell_type": "markdown",
   "metadata": {},
   "source": [
    "#### Randomized Search ####"
   ]
  },
  {
   "cell_type": "code",
   "execution_count": 23,
   "metadata": {},
   "outputs": [
    {
     "name": "stdout",
     "output_type": "stream",
     "text": [
      "Fitting 2 folds for each of 12 candidates, totalling 24 fits\n"
     ]
    },
    {
     "name": "stdout",
     "output_type": "stream",
     "text": [
      "[CV] END ...................................n_estimators=397; total time=  13.7s\n",
      "[CV] END ...................................n_estimators=397; total time=  13.7s\n",
      "[CV] END ...................................n_estimators=779; total time=  26.8s\n",
      "[CV] END ...................................n_estimators=779; total time=  26.9s\n",
      "[CV] END ..................................n_estimators=1664; total time=  57.4s\n",
      "[CV] END ..................................n_estimators=1664; total time=  57.5s\n",
      "[CV] END ..................................n_estimators=1419; total time=  49.1s\n",
      "[CV] END ...................................n_estimators=770; total time=  26.9s\n",
      "[CV] END ..................................n_estimators=1419; total time=  49.0s\n",
      "[CV] END ...................................n_estimators=767; total time=  26.9s\n",
      "[CV] END ...................................n_estimators=770; total time=  27.3s\n",
      "[CV] END ...................................n_estimators=767; total time=  27.4s\n",
      "[CV] END ...................................n_estimators=485; total time=  17.7s\n",
      "[CV] END ...................................n_estimators=675; total time=  24.6s\n",
      "[CV] END ...................................n_estimators=675; total time=  24.7s\n",
      "[CV] END ..................................n_estimators=1414; total time=  51.8s\n",
      "[CV] END ...................................n_estimators=485; total time=  17.7s\n",
      "[CV] END ..................................n_estimators=1414; total time=  51.7s\n",
      "[CV] END ...................................n_estimators=777; total time=  28.5s\n",
      "[CV] END ...................................n_estimators=777; total time=  28.4s\n",
      "[CV] END ...................................n_estimators=880; total time=  31.1s\n",
      "[CV] END ...................................n_estimators=880; total time=  30.4s\n",
      "[CV] END ..................................n_estimators=1735; total time= 1.0min\n",
      "[CV] END ..................................n_estimators=1735; total time=  59.9s\n"
     ]
    },
    {
     "data": {
      "text/html": [
       "<style>#sk-container-id-5 {color: black;}#sk-container-id-5 pre{padding: 0;}#sk-container-id-5 div.sk-toggleable {background-color: white;}#sk-container-id-5 label.sk-toggleable__label {cursor: pointer;display: block;width: 100%;margin-bottom: 0;padding: 0.3em;box-sizing: border-box;text-align: center;}#sk-container-id-5 label.sk-toggleable__label-arrow:before {content: \"▸\";float: left;margin-right: 0.25em;color: #696969;}#sk-container-id-5 label.sk-toggleable__label-arrow:hover:before {color: black;}#sk-container-id-5 div.sk-estimator:hover label.sk-toggleable__label-arrow:before {color: black;}#sk-container-id-5 div.sk-toggleable__content {max-height: 0;max-width: 0;overflow: hidden;text-align: left;background-color: #f0f8ff;}#sk-container-id-5 div.sk-toggleable__content pre {margin: 0.2em;color: black;border-radius: 0.25em;background-color: #f0f8ff;}#sk-container-id-5 input.sk-toggleable__control:checked~div.sk-toggleable__content {max-height: 200px;max-width: 100%;overflow: auto;}#sk-container-id-5 input.sk-toggleable__control:checked~label.sk-toggleable__label-arrow:before {content: \"▾\";}#sk-container-id-5 div.sk-estimator input.sk-toggleable__control:checked~label.sk-toggleable__label {background-color: #d4ebff;}#sk-container-id-5 div.sk-label input.sk-toggleable__control:checked~label.sk-toggleable__label {background-color: #d4ebff;}#sk-container-id-5 input.sk-hidden--visually {border: 0;clip: rect(1px 1px 1px 1px);clip: rect(1px, 1px, 1px, 1px);height: 1px;margin: -1px;overflow: hidden;padding: 0;position: absolute;width: 1px;}#sk-container-id-5 div.sk-estimator {font-family: monospace;background-color: #f0f8ff;border: 1px dotted black;border-radius: 0.25em;box-sizing: border-box;margin-bottom: 0.5em;}#sk-container-id-5 div.sk-estimator:hover {background-color: #d4ebff;}#sk-container-id-5 div.sk-parallel-item::after {content: \"\";width: 100%;border-bottom: 1px solid gray;flex-grow: 1;}#sk-container-id-5 div.sk-label:hover label.sk-toggleable__label {background-color: #d4ebff;}#sk-container-id-5 div.sk-serial::before {content: \"\";position: absolute;border-left: 1px solid gray;box-sizing: border-box;top: 0;bottom: 0;left: 50%;z-index: 0;}#sk-container-id-5 div.sk-serial {display: flex;flex-direction: column;align-items: center;background-color: white;padding-right: 0.2em;padding-left: 0.2em;position: relative;}#sk-container-id-5 div.sk-item {position: relative;z-index: 1;}#sk-container-id-5 div.sk-parallel {display: flex;align-items: stretch;justify-content: center;background-color: white;position: relative;}#sk-container-id-5 div.sk-item::before, #sk-container-id-5 div.sk-parallel-item::before {content: \"\";position: absolute;border-left: 1px solid gray;box-sizing: border-box;top: 0;bottom: 0;left: 50%;z-index: -1;}#sk-container-id-5 div.sk-parallel-item {display: flex;flex-direction: column;z-index: 1;position: relative;background-color: white;}#sk-container-id-5 div.sk-parallel-item:first-child::after {align-self: flex-end;width: 50%;}#sk-container-id-5 div.sk-parallel-item:last-child::after {align-self: flex-start;width: 50%;}#sk-container-id-5 div.sk-parallel-item:only-child::after {width: 0;}#sk-container-id-5 div.sk-dashed-wrapped {border: 1px dashed gray;margin: 0 0.4em 0.5em 0.4em;box-sizing: border-box;padding-bottom: 0.4em;background-color: white;}#sk-container-id-5 div.sk-label label {font-family: monospace;font-weight: bold;display: inline-block;line-height: 1.2em;}#sk-container-id-5 div.sk-label-container {text-align: center;}#sk-container-id-5 div.sk-container {/* jupyter's `normalize.less` sets `[hidden] { display: none; }` but bootstrap.min.css set `[hidden] { display: none !important; }` so we also need the `!important` here to be able to override the default hidden behavior on the sphinx rendered scikit-learn.org. See: https://github.com/scikit-learn/scikit-learn/issues/21755 */display: inline-block !important;position: relative;}#sk-container-id-5 div.sk-text-repr-fallback {display: none;}</style><div id=\"sk-container-id-5\" class=\"sk-top-container\"><div class=\"sk-text-repr-fallback\"><pre>Pipeline(steps=[(&#x27;scaler&#x27;, StandardScaler()),\n",
       "                (&#x27;random_search&#x27;,\n",
       "                 RandomizedSearchCV(cv=2, estimator=RandomForestRegressor(),\n",
       "                                    n_iter=12, n_jobs=5,\n",
       "                                    param_distributions={&#x27;n_estimators&#x27;: &lt;scipy.stats._distn_infrastructure.rv_discrete_frozen object at 0x7f3d4b1a6e00&gt;},\n",
       "                                    scoring=&#x27;neg_mean_squared_error&#x27;,\n",
       "                                    verbose=2))])</pre><b>In a Jupyter environment, please rerun this cell to show the HTML representation or trust the notebook. <br />On GitHub, the HTML representation is unable to render, please try loading this page with nbviewer.org.</b></div><div class=\"sk-container\" hidden><div class=\"sk-item sk-dashed-wrapped\"><div class=\"sk-label-container\"><div class=\"sk-label sk-toggleable\"><input class=\"sk-toggleable__control sk-hidden--visually\" id=\"sk-estimator-id-19\" type=\"checkbox\" ><label for=\"sk-estimator-id-19\" class=\"sk-toggleable__label sk-toggleable__label-arrow\">Pipeline</label><div class=\"sk-toggleable__content\"><pre>Pipeline(steps=[(&#x27;scaler&#x27;, StandardScaler()),\n",
       "                (&#x27;random_search&#x27;,\n",
       "                 RandomizedSearchCV(cv=2, estimator=RandomForestRegressor(),\n",
       "                                    n_iter=12, n_jobs=5,\n",
       "                                    param_distributions={&#x27;n_estimators&#x27;: &lt;scipy.stats._distn_infrastructure.rv_discrete_frozen object at 0x7f3d4b1a6e00&gt;},\n",
       "                                    scoring=&#x27;neg_mean_squared_error&#x27;,\n",
       "                                    verbose=2))])</pre></div></div></div><div class=\"sk-serial\"><div class=\"sk-item\"><div class=\"sk-estimator sk-toggleable\"><input class=\"sk-toggleable__control sk-hidden--visually\" id=\"sk-estimator-id-20\" type=\"checkbox\" ><label for=\"sk-estimator-id-20\" class=\"sk-toggleable__label sk-toggleable__label-arrow\">StandardScaler</label><div class=\"sk-toggleable__content\"><pre>StandardScaler()</pre></div></div></div><div class=\"sk-item sk-dashed-wrapped\"><div class=\"sk-label-container\"><div class=\"sk-label sk-toggleable\"><input class=\"sk-toggleable__control sk-hidden--visually\" id=\"sk-estimator-id-21\" type=\"checkbox\" ><label for=\"sk-estimator-id-21\" class=\"sk-toggleable__label sk-toggleable__label-arrow\">random_search: RandomizedSearchCV</label><div class=\"sk-toggleable__content\"><pre>RandomizedSearchCV(cv=2, estimator=RandomForestRegressor(), n_iter=12, n_jobs=5,\n",
       "                   param_distributions={&#x27;n_estimators&#x27;: &lt;scipy.stats._distn_infrastructure.rv_discrete_frozen object at 0x7f3d4b1a6e00&gt;},\n",
       "                   scoring=&#x27;neg_mean_squared_error&#x27;, verbose=2)</pre></div></div></div><div class=\"sk-parallel\"><div class=\"sk-parallel-item\"><div class=\"sk-item\"><div class=\"sk-label-container\"><div class=\"sk-label sk-toggleable\"><input class=\"sk-toggleable__control sk-hidden--visually\" id=\"sk-estimator-id-22\" type=\"checkbox\" ><label for=\"sk-estimator-id-22\" class=\"sk-toggleable__label sk-toggleable__label-arrow\">estimator: RandomForestRegressor</label><div class=\"sk-toggleable__content\"><pre>RandomForestRegressor()</pre></div></div></div><div class=\"sk-serial\"><div class=\"sk-item\"><div class=\"sk-estimator sk-toggleable\"><input class=\"sk-toggleable__control sk-hidden--visually\" id=\"sk-estimator-id-23\" type=\"checkbox\" ><label for=\"sk-estimator-id-23\" class=\"sk-toggleable__label sk-toggleable__label-arrow\">RandomForestRegressor</label><div class=\"sk-toggleable__content\"><pre>RandomForestRegressor()</pre></div></div></div></div></div></div></div></div></div></div></div></div>"
      ],
      "text/plain": [
       "Pipeline(steps=[('scaler', StandardScaler()),\n",
       "                ('random_search',\n",
       "                 RandomizedSearchCV(cv=2, estimator=RandomForestRegressor(),\n",
       "                                    n_iter=12, n_jobs=5,\n",
       "                                    param_distributions={'n_estimators': <scipy.stats._distn_infrastructure.rv_discrete_frozen object at 0x7f3d4b1a6e00>},\n",
       "                                    scoring='neg_mean_squared_error',\n",
       "                                    verbose=2))])"
      ]
     },
     "execution_count": 23,
     "metadata": {},
     "output_type": "execute_result"
    }
   ],
   "source": [
    "rf_reg = RandomForestRegressor()\n",
    "\n",
    "\n",
    "param_dist = {\n",
    "    'n_estimators': randint(100, 2000)  \n",
    "}\n",
    "\n",
    "random_search = RandomizedSearchCV(\n",
    "    estimator=rf_reg,\n",
    "    param_distributions=param_dist,\n",
    "    n_iter=12,\n",
    "    cv=2,\n",
    "    scoring='neg_mean_squared_error',\n",
    "    verbose=2,\n",
    "    n_jobs= 5\n",
    ")\n",
    "\n",
    "pipeline = Pipeline([\n",
    "    ('scaler', StandardScaler()),  \n",
    "    ('random_search', random_search),\n",
    "])\n",
    "\n",
    "pipeline.fit(X_train, y_train)\n",
    "\n"
   ]
  },
  {
   "cell_type": "code",
   "execution_count": 24,
   "metadata": {},
   "outputs": [
    {
     "name": "stdout",
     "output_type": "stream",
     "text": [
      "Best Parameters: {'n_estimators': 770}\n"
     ]
    }
   ],
   "source": [
    "print(\"Best Parameters:\", pipeline.named_steps['random_search'].best_params_)\n"
   ]
  },
  {
   "cell_type": "code",
   "execution_count": 25,
   "metadata": {},
   "outputs": [
    {
     "data": {
      "text/plain": [
       "['../Models/Amazon/Driving/Upload/random_forest_resgressor_random_search.pkl']"
      ]
     },
     "execution_count": 25,
     "metadata": {},
     "output_type": "execute_result"
    }
   ],
   "source": [
    "rf_reg_random_search = pipeline\n",
    "joblib.dump(rf_reg_random_search, r'../Models/Amazon/Driving/Upload/random_forest_resgressor_random_search.pkl')"
   ]
  },
  {
   "cell_type": "markdown",
   "metadata": {},
   "source": [
    "#### Grid Search ####"
   ]
  },
  {
   "cell_type": "code",
   "execution_count": 26,
   "metadata": {},
   "outputs": [
    {
     "name": "stdout",
     "output_type": "stream",
     "text": [
      "Fitting 2 folds for each of 12 candidates, totalling 24 fits\n",
      "[CV] END ...................................n_estimators=100; total time=   3.5s\n",
      "[CV] END ...................................n_estimators=100; total time=   3.5s\n",
      "[CV] END ...................................n_estimators=150; total time=   5.2s\n",
      "[CV] END ...................................n_estimators=150; total time=   5.3s\n",
      "[CV] END ...................................n_estimators=200; total time=   6.9s\n",
      "[CV] END ...................................n_estimators=200; total time=   6.9s\n",
      "[CV] END ...................................n_estimators=300; total time=  10.3s\n",
      "[CV] END ...................................n_estimators=300; total time=  10.3s\n",
      "[CV] END ...................................n_estimators=400; total time=  13.7s\n",
      "[CV] END ...................................n_estimators=400; total time=  13.8s\n",
      "[CV] END ...................................n_estimators=500; total time=  17.1s\n",
      "[CV] END ...................................n_estimators=500; total time=  17.2s\n",
      "[CV] END ...................................n_estimators=700; total time=  24.1s\n",
      "[CV] END ...................................n_estimators=700; total time=  24.1s\n",
      "[CV] END ..................................n_estimators=1000; total time=  34.9s\n",
      "[CV] END ..................................n_estimators=1000; total time=  35.4s\n",
      "[CV] END ..................................n_estimators=1200; total time=  43.0s\n",
      "[CV] END ..................................n_estimators=1200; total time=  43.7s\n",
      "[CV] END ..................................n_estimators=1500; total time=  55.5s\n",
      "[CV] END ..................................n_estimators=1500; total time=  56.1s\n",
      "[CV] END ..................................n_estimators=1800; total time= 1.1min\n",
      "[CV] END ..................................n_estimators=1800; total time= 1.1min\n",
      "[CV] END ..................................n_estimators=2000; total time= 1.2min\n",
      "[CV] END ..................................n_estimators=2000; total time= 1.2min\n"
     ]
    },
    {
     "data": {
      "text/html": [
       "<style>#sk-container-id-6 {color: black;}#sk-container-id-6 pre{padding: 0;}#sk-container-id-6 div.sk-toggleable {background-color: white;}#sk-container-id-6 label.sk-toggleable__label {cursor: pointer;display: block;width: 100%;margin-bottom: 0;padding: 0.3em;box-sizing: border-box;text-align: center;}#sk-container-id-6 label.sk-toggleable__label-arrow:before {content: \"▸\";float: left;margin-right: 0.25em;color: #696969;}#sk-container-id-6 label.sk-toggleable__label-arrow:hover:before {color: black;}#sk-container-id-6 div.sk-estimator:hover label.sk-toggleable__label-arrow:before {color: black;}#sk-container-id-6 div.sk-toggleable__content {max-height: 0;max-width: 0;overflow: hidden;text-align: left;background-color: #f0f8ff;}#sk-container-id-6 div.sk-toggleable__content pre {margin: 0.2em;color: black;border-radius: 0.25em;background-color: #f0f8ff;}#sk-container-id-6 input.sk-toggleable__control:checked~div.sk-toggleable__content {max-height: 200px;max-width: 100%;overflow: auto;}#sk-container-id-6 input.sk-toggleable__control:checked~label.sk-toggleable__label-arrow:before {content: \"▾\";}#sk-container-id-6 div.sk-estimator input.sk-toggleable__control:checked~label.sk-toggleable__label {background-color: #d4ebff;}#sk-container-id-6 div.sk-label input.sk-toggleable__control:checked~label.sk-toggleable__label {background-color: #d4ebff;}#sk-container-id-6 input.sk-hidden--visually {border: 0;clip: rect(1px 1px 1px 1px);clip: rect(1px, 1px, 1px, 1px);height: 1px;margin: -1px;overflow: hidden;padding: 0;position: absolute;width: 1px;}#sk-container-id-6 div.sk-estimator {font-family: monospace;background-color: #f0f8ff;border: 1px dotted black;border-radius: 0.25em;box-sizing: border-box;margin-bottom: 0.5em;}#sk-container-id-6 div.sk-estimator:hover {background-color: #d4ebff;}#sk-container-id-6 div.sk-parallel-item::after {content: \"\";width: 100%;border-bottom: 1px solid gray;flex-grow: 1;}#sk-container-id-6 div.sk-label:hover label.sk-toggleable__label {background-color: #d4ebff;}#sk-container-id-6 div.sk-serial::before {content: \"\";position: absolute;border-left: 1px solid gray;box-sizing: border-box;top: 0;bottom: 0;left: 50%;z-index: 0;}#sk-container-id-6 div.sk-serial {display: flex;flex-direction: column;align-items: center;background-color: white;padding-right: 0.2em;padding-left: 0.2em;position: relative;}#sk-container-id-6 div.sk-item {position: relative;z-index: 1;}#sk-container-id-6 div.sk-parallel {display: flex;align-items: stretch;justify-content: center;background-color: white;position: relative;}#sk-container-id-6 div.sk-item::before, #sk-container-id-6 div.sk-parallel-item::before {content: \"\";position: absolute;border-left: 1px solid gray;box-sizing: border-box;top: 0;bottom: 0;left: 50%;z-index: -1;}#sk-container-id-6 div.sk-parallel-item {display: flex;flex-direction: column;z-index: 1;position: relative;background-color: white;}#sk-container-id-6 div.sk-parallel-item:first-child::after {align-self: flex-end;width: 50%;}#sk-container-id-6 div.sk-parallel-item:last-child::after {align-self: flex-start;width: 50%;}#sk-container-id-6 div.sk-parallel-item:only-child::after {width: 0;}#sk-container-id-6 div.sk-dashed-wrapped {border: 1px dashed gray;margin: 0 0.4em 0.5em 0.4em;box-sizing: border-box;padding-bottom: 0.4em;background-color: white;}#sk-container-id-6 div.sk-label label {font-family: monospace;font-weight: bold;display: inline-block;line-height: 1.2em;}#sk-container-id-6 div.sk-label-container {text-align: center;}#sk-container-id-6 div.sk-container {/* jupyter's `normalize.less` sets `[hidden] { display: none; }` but bootstrap.min.css set `[hidden] { display: none !important; }` so we also need the `!important` here to be able to override the default hidden behavior on the sphinx rendered scikit-learn.org. See: https://github.com/scikit-learn/scikit-learn/issues/21755 */display: inline-block !important;position: relative;}#sk-container-id-6 div.sk-text-repr-fallback {display: none;}</style><div id=\"sk-container-id-6\" class=\"sk-top-container\"><div class=\"sk-text-repr-fallback\"><pre>Pipeline(steps=[(&#x27;scaler&#x27;, StandardScaler()),\n",
       "                (&#x27;grid_search&#x27;,\n",
       "                 GridSearchCV(cv=2, estimator=RandomForestRegressor(), n_jobs=5,\n",
       "                              param_grid={&#x27;n_estimators&#x27;: [100, 150, 200, 300,\n",
       "                                                           400, 500, 700, 1000,\n",
       "                                                           1200, 1500, 1800,\n",
       "                                                           2000]},\n",
       "                              scoring=&#x27;neg_mean_squared_error&#x27;, verbose=2))])</pre><b>In a Jupyter environment, please rerun this cell to show the HTML representation or trust the notebook. <br />On GitHub, the HTML representation is unable to render, please try loading this page with nbviewer.org.</b></div><div class=\"sk-container\" hidden><div class=\"sk-item sk-dashed-wrapped\"><div class=\"sk-label-container\"><div class=\"sk-label sk-toggleable\"><input class=\"sk-toggleable__control sk-hidden--visually\" id=\"sk-estimator-id-24\" type=\"checkbox\" ><label for=\"sk-estimator-id-24\" class=\"sk-toggleable__label sk-toggleable__label-arrow\">Pipeline</label><div class=\"sk-toggleable__content\"><pre>Pipeline(steps=[(&#x27;scaler&#x27;, StandardScaler()),\n",
       "                (&#x27;grid_search&#x27;,\n",
       "                 GridSearchCV(cv=2, estimator=RandomForestRegressor(), n_jobs=5,\n",
       "                              param_grid={&#x27;n_estimators&#x27;: [100, 150, 200, 300,\n",
       "                                                           400, 500, 700, 1000,\n",
       "                                                           1200, 1500, 1800,\n",
       "                                                           2000]},\n",
       "                              scoring=&#x27;neg_mean_squared_error&#x27;, verbose=2))])</pre></div></div></div><div class=\"sk-serial\"><div class=\"sk-item\"><div class=\"sk-estimator sk-toggleable\"><input class=\"sk-toggleable__control sk-hidden--visually\" id=\"sk-estimator-id-25\" type=\"checkbox\" ><label for=\"sk-estimator-id-25\" class=\"sk-toggleable__label sk-toggleable__label-arrow\">StandardScaler</label><div class=\"sk-toggleable__content\"><pre>StandardScaler()</pre></div></div></div><div class=\"sk-item sk-dashed-wrapped\"><div class=\"sk-label-container\"><div class=\"sk-label sk-toggleable\"><input class=\"sk-toggleable__control sk-hidden--visually\" id=\"sk-estimator-id-26\" type=\"checkbox\" ><label for=\"sk-estimator-id-26\" class=\"sk-toggleable__label sk-toggleable__label-arrow\">grid_search: GridSearchCV</label><div class=\"sk-toggleable__content\"><pre>GridSearchCV(cv=2, estimator=RandomForestRegressor(), n_jobs=5,\n",
       "             param_grid={&#x27;n_estimators&#x27;: [100, 150, 200, 300, 400, 500, 700,\n",
       "                                          1000, 1200, 1500, 1800, 2000]},\n",
       "             scoring=&#x27;neg_mean_squared_error&#x27;, verbose=2)</pre></div></div></div><div class=\"sk-parallel\"><div class=\"sk-parallel-item\"><div class=\"sk-item\"><div class=\"sk-label-container\"><div class=\"sk-label sk-toggleable\"><input class=\"sk-toggleable__control sk-hidden--visually\" id=\"sk-estimator-id-27\" type=\"checkbox\" ><label for=\"sk-estimator-id-27\" class=\"sk-toggleable__label sk-toggleable__label-arrow\">estimator: RandomForestRegressor</label><div class=\"sk-toggleable__content\"><pre>RandomForestRegressor()</pre></div></div></div><div class=\"sk-serial\"><div class=\"sk-item\"><div class=\"sk-estimator sk-toggleable\"><input class=\"sk-toggleable__control sk-hidden--visually\" id=\"sk-estimator-id-28\" type=\"checkbox\" ><label for=\"sk-estimator-id-28\" class=\"sk-toggleable__label sk-toggleable__label-arrow\">RandomForestRegressor</label><div class=\"sk-toggleable__content\"><pre>RandomForestRegressor()</pre></div></div></div></div></div></div></div></div></div></div></div></div>"
      ],
      "text/plain": [
       "Pipeline(steps=[('scaler', StandardScaler()),\n",
       "                ('grid_search',\n",
       "                 GridSearchCV(cv=2, estimator=RandomForestRegressor(), n_jobs=5,\n",
       "                              param_grid={'n_estimators': [100, 150, 200, 300,\n",
       "                                                           400, 500, 700, 1000,\n",
       "                                                           1200, 1500, 1800,\n",
       "                                                           2000]},\n",
       "                              scoring='neg_mean_squared_error', verbose=2))])"
      ]
     },
     "execution_count": 26,
     "metadata": {},
     "output_type": "execute_result"
    }
   ],
   "source": [
    "from sklearn.model_selection import GridSearchCV\n",
    "from sklearn.ensemble import RandomForestRegressor\n",
    "\n",
    "\n",
    "rf_reg = RandomForestRegressor()\n",
    "\n",
    "param_grid = {\n",
    "    'n_estimators': [100, 150, 200, 300, 400 ,500, 700, 1000,1200, 1500, 1800, 2000]\n",
    "}\n",
    "\n",
    "grid_search = GridSearchCV(\n",
    "    estimator=rf_reg, \n",
    "    param_grid=param_grid, \n",
    "    cv=2, \n",
    "    scoring='neg_mean_squared_error',\n",
    "    n_jobs= 5,\n",
    "    verbose=2,\n",
    ")\n",
    "\n",
    "\n",
    "pipeline = Pipeline([\n",
    "    ('scaler', StandardScaler()),  \n",
    "    ('grid_search', grid_search),\n",
    "])\n",
    "\n",
    "\n",
    "pipeline.fit(X_train, y_train)"
   ]
  },
  {
   "cell_type": "code",
   "execution_count": 27,
   "metadata": {},
   "outputs": [
    {
     "name": "stdout",
     "output_type": "stream",
     "text": [
      "Best Parameters: {'n_estimators': 1000}\n"
     ]
    }
   ],
   "source": [
    "print(\"Best Parameters:\", pipeline.named_steps['grid_search'].best_params_)\n"
   ]
  },
  {
   "cell_type": "code",
   "execution_count": 28,
   "metadata": {},
   "outputs": [
    {
     "data": {
      "text/plain": [
       "['../Models/Amazon/Driving/Upload/random_forest_resgressor_grid_search.pkl']"
      ]
     },
     "execution_count": 28,
     "metadata": {},
     "output_type": "execute_result"
    }
   ],
   "source": [
    "rf_reg_grid_search = pipeline\n",
    "joblib.dump(rf_reg_grid_search , r'../Models/Amazon/Driving/Upload/random_forest_resgressor_grid_search.pkl')"
   ]
  },
  {
   "cell_type": "markdown",
   "metadata": {},
   "source": [
    "### Suporte Vector Machine ###"
   ]
  },
  {
   "cell_type": "code",
   "execution_count": 6,
   "metadata": {},
   "outputs": [],
   "source": [
    "from sklearn.svm import SVR\n",
    "import matplotlib.pyplot as plt\n",
    "import seaborn as sns\n",
    "from sklearn.model_selection import cross_val_score\n",
    "from sklearn.model_selection import GridSearchCV\n",
    "import pandas as pd\n",
    "import matplotlib.pyplot as plt\n",
    "import seaborn as sns"
   ]
  },
  {
   "cell_type": "markdown",
   "metadata": {},
   "source": [
    "#### Grid Search ####"
   ]
  },
  {
   "cell_type": "code",
   "execution_count": 7,
   "metadata": {},
   "outputs": [
    {
     "name": "stdout",
     "output_type": "stream",
     "text": [
      "Fitting 2 folds for each of 2 candidates, totalling 4 fits\n",
      "[CV] END .........................................kernel=rbf; total time=   6.5s\n",
      "[CV] END .........................................kernel=rbf; total time=   6.5s\n",
      "[CV] END ........................................kernel=poly; total time=   4.6s\n",
      "[CV] END ........................................kernel=poly; total time=   4.6s\n"
     ]
    },
    {
     "data": {
      "text/html": [
       "<style>#sk-container-id-1 {color: black;}#sk-container-id-1 pre{padding: 0;}#sk-container-id-1 div.sk-toggleable {background-color: white;}#sk-container-id-1 label.sk-toggleable__label {cursor: pointer;display: block;width: 100%;margin-bottom: 0;padding: 0.3em;box-sizing: border-box;text-align: center;}#sk-container-id-1 label.sk-toggleable__label-arrow:before {content: \"▸\";float: left;margin-right: 0.25em;color: #696969;}#sk-container-id-1 label.sk-toggleable__label-arrow:hover:before {color: black;}#sk-container-id-1 div.sk-estimator:hover label.sk-toggleable__label-arrow:before {color: black;}#sk-container-id-1 div.sk-toggleable__content {max-height: 0;max-width: 0;overflow: hidden;text-align: left;background-color: #f0f8ff;}#sk-container-id-1 div.sk-toggleable__content pre {margin: 0.2em;color: black;border-radius: 0.25em;background-color: #f0f8ff;}#sk-container-id-1 input.sk-toggleable__control:checked~div.sk-toggleable__content {max-height: 200px;max-width: 100%;overflow: auto;}#sk-container-id-1 input.sk-toggleable__control:checked~label.sk-toggleable__label-arrow:before {content: \"▾\";}#sk-container-id-1 div.sk-estimator input.sk-toggleable__control:checked~label.sk-toggleable__label {background-color: #d4ebff;}#sk-container-id-1 div.sk-label input.sk-toggleable__control:checked~label.sk-toggleable__label {background-color: #d4ebff;}#sk-container-id-1 input.sk-hidden--visually {border: 0;clip: rect(1px 1px 1px 1px);clip: rect(1px, 1px, 1px, 1px);height: 1px;margin: -1px;overflow: hidden;padding: 0;position: absolute;width: 1px;}#sk-container-id-1 div.sk-estimator {font-family: monospace;background-color: #f0f8ff;border: 1px dotted black;border-radius: 0.25em;box-sizing: border-box;margin-bottom: 0.5em;}#sk-container-id-1 div.sk-estimator:hover {background-color: #d4ebff;}#sk-container-id-1 div.sk-parallel-item::after {content: \"\";width: 100%;border-bottom: 1px solid gray;flex-grow: 1;}#sk-container-id-1 div.sk-label:hover label.sk-toggleable__label {background-color: #d4ebff;}#sk-container-id-1 div.sk-serial::before {content: \"\";position: absolute;border-left: 1px solid gray;box-sizing: border-box;top: 0;bottom: 0;left: 50%;z-index: 0;}#sk-container-id-1 div.sk-serial {display: flex;flex-direction: column;align-items: center;background-color: white;padding-right: 0.2em;padding-left: 0.2em;position: relative;}#sk-container-id-1 div.sk-item {position: relative;z-index: 1;}#sk-container-id-1 div.sk-parallel {display: flex;align-items: stretch;justify-content: center;background-color: white;position: relative;}#sk-container-id-1 div.sk-item::before, #sk-container-id-1 div.sk-parallel-item::before {content: \"\";position: absolute;border-left: 1px solid gray;box-sizing: border-box;top: 0;bottom: 0;left: 50%;z-index: -1;}#sk-container-id-1 div.sk-parallel-item {display: flex;flex-direction: column;z-index: 1;position: relative;background-color: white;}#sk-container-id-1 div.sk-parallel-item:first-child::after {align-self: flex-end;width: 50%;}#sk-container-id-1 div.sk-parallel-item:last-child::after {align-self: flex-start;width: 50%;}#sk-container-id-1 div.sk-parallel-item:only-child::after {width: 0;}#sk-container-id-1 div.sk-dashed-wrapped {border: 1px dashed gray;margin: 0 0.4em 0.5em 0.4em;box-sizing: border-box;padding-bottom: 0.4em;background-color: white;}#sk-container-id-1 div.sk-label label {font-family: monospace;font-weight: bold;display: inline-block;line-height: 1.2em;}#sk-container-id-1 div.sk-label-container {text-align: center;}#sk-container-id-1 div.sk-container {/* jupyter's `normalize.less` sets `[hidden] { display: none; }` but bootstrap.min.css set `[hidden] { display: none !important; }` so we also need the `!important` here to be able to override the default hidden behavior on the sphinx rendered scikit-learn.org. See: https://github.com/scikit-learn/scikit-learn/issues/21755 */display: inline-block !important;position: relative;}#sk-container-id-1 div.sk-text-repr-fallback {display: none;}</style><div id=\"sk-container-id-1\" class=\"sk-top-container\"><div class=\"sk-text-repr-fallback\"><pre>Pipeline(steps=[(&#x27;scaler&#x27;, StandardScaler()),\n",
       "                (&#x27;grid_search&#x27;,\n",
       "                 GridSearchCV(cv=2, estimator=SVR(C=1000, gamma=0.0001),\n",
       "                              param_grid={&#x27;kernel&#x27;: [&#x27;rbf&#x27;, &#x27;poly&#x27;]},\n",
       "                              scoring=&#x27;neg_mean_squared_error&#x27;, verbose=2))])</pre><b>In a Jupyter environment, please rerun this cell to show the HTML representation or trust the notebook. <br />On GitHub, the HTML representation is unable to render, please try loading this page with nbviewer.org.</b></div><div class=\"sk-container\" hidden><div class=\"sk-item sk-dashed-wrapped\"><div class=\"sk-label-container\"><div class=\"sk-label sk-toggleable\"><input class=\"sk-toggleable__control sk-hidden--visually\" id=\"sk-estimator-id-1\" type=\"checkbox\" ><label for=\"sk-estimator-id-1\" class=\"sk-toggleable__label sk-toggleable__label-arrow\">Pipeline</label><div class=\"sk-toggleable__content\"><pre>Pipeline(steps=[(&#x27;scaler&#x27;, StandardScaler()),\n",
       "                (&#x27;grid_search&#x27;,\n",
       "                 GridSearchCV(cv=2, estimator=SVR(C=1000, gamma=0.0001),\n",
       "                              param_grid={&#x27;kernel&#x27;: [&#x27;rbf&#x27;, &#x27;poly&#x27;]},\n",
       "                              scoring=&#x27;neg_mean_squared_error&#x27;, verbose=2))])</pre></div></div></div><div class=\"sk-serial\"><div class=\"sk-item\"><div class=\"sk-estimator sk-toggleable\"><input class=\"sk-toggleable__control sk-hidden--visually\" id=\"sk-estimator-id-2\" type=\"checkbox\" ><label for=\"sk-estimator-id-2\" class=\"sk-toggleable__label sk-toggleable__label-arrow\">StandardScaler</label><div class=\"sk-toggleable__content\"><pre>StandardScaler()</pre></div></div></div><div class=\"sk-item sk-dashed-wrapped\"><div class=\"sk-label-container\"><div class=\"sk-label sk-toggleable\"><input class=\"sk-toggleable__control sk-hidden--visually\" id=\"sk-estimator-id-3\" type=\"checkbox\" ><label for=\"sk-estimator-id-3\" class=\"sk-toggleable__label sk-toggleable__label-arrow\">grid_search: GridSearchCV</label><div class=\"sk-toggleable__content\"><pre>GridSearchCV(cv=2, estimator=SVR(C=1000, gamma=0.0001),\n",
       "             param_grid={&#x27;kernel&#x27;: [&#x27;rbf&#x27;, &#x27;poly&#x27;]},\n",
       "             scoring=&#x27;neg_mean_squared_error&#x27;, verbose=2)</pre></div></div></div><div class=\"sk-parallel\"><div class=\"sk-parallel-item\"><div class=\"sk-item\"><div class=\"sk-label-container\"><div class=\"sk-label sk-toggleable\"><input class=\"sk-toggleable__control sk-hidden--visually\" id=\"sk-estimator-id-4\" type=\"checkbox\" ><label for=\"sk-estimator-id-4\" class=\"sk-toggleable__label sk-toggleable__label-arrow\">estimator: SVR</label><div class=\"sk-toggleable__content\"><pre>SVR(C=1000, gamma=0.0001)</pre></div></div></div><div class=\"sk-serial\"><div class=\"sk-item\"><div class=\"sk-estimator sk-toggleable\"><input class=\"sk-toggleable__control sk-hidden--visually\" id=\"sk-estimator-id-5\" type=\"checkbox\" ><label for=\"sk-estimator-id-5\" class=\"sk-toggleable__label sk-toggleable__label-arrow\">SVR</label><div class=\"sk-toggleable__content\"><pre>SVR(C=1000, gamma=0.0001)</pre></div></div></div></div></div></div></div></div></div></div></div></div>"
      ],
      "text/plain": [
       "Pipeline(steps=[('scaler', StandardScaler()),\n",
       "                ('grid_search',\n",
       "                 GridSearchCV(cv=2, estimator=SVR(C=1000, gamma=0.0001),\n",
       "                              param_grid={'kernel': ['rbf', 'poly']},\n",
       "                              scoring='neg_mean_squared_error', verbose=2))])"
      ]
     },
     "execution_count": 7,
     "metadata": {},
     "output_type": "execute_result"
    }
   ],
   "source": [
    "from sklearn.model_selection import GridSearchCV\n",
    "from sklearn.svm import SVR\n",
    "\n",
    "svm_reg = SVR(C = 1000,gamma = 0.0001 )\n",
    "\n",
    "param_grid = {\n",
    "    'kernel': [ 'rbf', 'poly']   \n",
    "}\n",
    "\n",
    "\n",
    "grid_search = GridSearchCV(\n",
    "    estimator= svm_reg, \n",
    "    param_grid=param_grid, \n",
    "    cv=2, \n",
    "    scoring='neg_mean_squared_error',\n",
    "    verbose=2,\n",
    ")\n",
    "\n",
    "\n",
    "pipeline = Pipeline([\n",
    "    ('scaler', StandardScaler()),  \n",
    "    ('grid_search', grid_search),\n",
    "])\n",
    "\n",
    "\n",
    "pipeline.fit(X_train, y_train['UL_bitrate'])"
   ]
  },
  {
   "cell_type": "code",
   "execution_count": 8,
   "metadata": {},
   "outputs": [
    {
     "name": "stdout",
     "output_type": "stream",
     "text": [
      "Best Parameters: {'kernel': 'poly'}\n"
     ]
    }
   ],
   "source": [
    "best_params = pipeline.named_steps['grid_search'].best_params_\n",
    "print(\"Best Parameters:\", best_params)"
   ]
  },
  {
   "cell_type": "code",
   "execution_count": 9,
   "metadata": {},
   "outputs": [
    {
     "data": {
      "text/plain": [
       "['../Models/Amazon/Driving/Upload/suport_vector.pkl']"
      ]
     },
     "execution_count": 9,
     "metadata": {},
     "output_type": "execute_result"
    }
   ],
   "source": [
    "svr_grid_search = pipeline\n",
    "joblib.dump(svr_grid_search , r'../Models/Amazon/Driving/Upload/suport_vector.pkl')"
   ]
  },
  {
   "cell_type": "markdown",
   "metadata": {},
   "source": [
    "#### Feedforward Neural Network (FNN) ####"
   ]
  },
  {
   "cell_type": "code",
   "execution_count": 1,
   "metadata": {},
   "outputs": [],
   "source": [
    "import tensorflow as tf\n",
    "from sklearn.model_selection import train_test_split\n",
    "from sklearn.preprocessing import StandardScaler\n",
    "from sklearn.metrics import mean_squared_error"
   ]
  },
  {
   "cell_type": "code",
   "execution_count": 17,
   "metadata": {},
   "outputs": [
    {
     "name": "stdout",
     "output_type": "stream",
     "text": [
      "Epoch 1/50\n",
      "612/612 - 1s - loss: 227460384.0000 - val_loss: 175857984.0000 - 863ms/epoch - 1ms/step\n",
      "Epoch 2/50\n",
      "612/612 - 1s - loss: 130192280.0000 - val_loss: 97950232.0000 - 602ms/epoch - 983us/step\n",
      "Epoch 3/50\n",
      "612/612 - 0s - loss: 100313224.0000 - val_loss: 91097944.0000 - 312ms/epoch - 509us/step\n",
      "Epoch 4/50\n",
      "612/612 - 1s - loss: 96867872.0000 - val_loss: 89718296.0000 - 526ms/epoch - 859us/step\n",
      "Epoch 5/50\n",
      "612/612 - 0s - loss: 95953672.0000 - val_loss: 89191240.0000 - 358ms/epoch - 586us/step\n",
      "Epoch 6/50\n",
      "612/612 - 1s - loss: 95501088.0000 - val_loss: 88920432.0000 - 646ms/epoch - 1ms/step\n",
      "Epoch 7/50\n",
      "612/612 - 1s - loss: 95241560.0000 - val_loss: 88690112.0000 - 553ms/epoch - 904us/step\n",
      "Epoch 8/50\n",
      "612/612 - 0s - loss: 95062904.0000 - val_loss: 88583416.0000 - 409ms/epoch - 668us/step\n",
      "Epoch 9/50\n",
      "612/612 - 1s - loss: 94959784.0000 - val_loss: 88494528.0000 - 559ms/epoch - 913us/step\n",
      "Epoch 10/50\n",
      "612/612 - 0s - loss: 94893056.0000 - val_loss: 88457528.0000 - 307ms/epoch - 502us/step\n",
      "Epoch 11/50\n",
      "612/612 - 1s - loss: 94851944.0000 - val_loss: 88443160.0000 - 508ms/epoch - 830us/step\n",
      "Epoch 12/50\n",
      "612/612 - 0s - loss: 94820688.0000 - val_loss: 88413048.0000 - 486ms/epoch - 794us/step\n",
      "Epoch 13/50\n",
      "612/612 - 1s - loss: 94792840.0000 - val_loss: 88384248.0000 - 633ms/epoch - 1ms/step\n",
      "Epoch 14/50\n",
      "612/612 - 1s - loss: 94790192.0000 - val_loss: 88392320.0000 - 651ms/epoch - 1ms/step\n",
      "Epoch 15/50\n",
      "612/612 - 0s - loss: 94776736.0000 - val_loss: 88380992.0000 - 333ms/epoch - 544us/step\n",
      "Epoch 16/50\n",
      "612/612 - 1s - loss: 94766888.0000 - val_loss: 88383400.0000 - 526ms/epoch - 860us/step\n",
      "Epoch 17/50\n",
      "612/612 - 1s - loss: 94753096.0000 - val_loss: 88393200.0000 - 584ms/epoch - 955us/step\n",
      "Epoch 18/50\n",
      "612/612 - 0s - loss: 94756552.0000 - val_loss: 88355848.0000 - 464ms/epoch - 758us/step\n",
      "Epoch 19/50\n",
      "612/612 - 1s - loss: 94747528.0000 - val_loss: 88372304.0000 - 664ms/epoch - 1ms/step\n",
      "Epoch 20/50\n",
      "612/612 - 1s - loss: 94745048.0000 - val_loss: 88351968.0000 - 704ms/epoch - 1ms/step\n",
      "Epoch 21/50\n",
      "612/612 - 0s - loss: 94742168.0000 - val_loss: 88344408.0000 - 471ms/epoch - 770us/step\n",
      "Epoch 22/50\n",
      "612/612 - 1s - loss: 94730696.0000 - val_loss: 88348224.0000 - 526ms/epoch - 860us/step\n",
      "Epoch 23/50\n",
      "612/612 - 1s - loss: 94732752.0000 - val_loss: 88344504.0000 - 519ms/epoch - 848us/step\n",
      "Epoch 24/50\n",
      "612/612 - 0s - loss: 94725304.0000 - val_loss: 88346536.0000 - 306ms/epoch - 501us/step\n",
      "Epoch 25/50\n",
      "612/612 - 1s - loss: 94732712.0000 - val_loss: 88341264.0000 - 775ms/epoch - 1ms/step\n",
      "Epoch 26/50\n",
      "612/612 - 1s - loss: 94719960.0000 - val_loss: 88333176.0000 - 672ms/epoch - 1ms/step\n",
      "Epoch 27/50\n",
      "612/612 - 0s - loss: 94718792.0000 - val_loss: 88329896.0000 - 484ms/epoch - 790us/step\n",
      "Epoch 28/50\n",
      "612/612 - 1s - loss: 94717752.0000 - val_loss: 88337608.0000 - 513ms/epoch - 838us/step\n",
      "Epoch 29/50\n",
      "612/612 - 1s - loss: 94711080.0000 - val_loss: 88326136.0000 - 526ms/epoch - 860us/step\n",
      "Epoch 30/50\n",
      "612/612 - 0s - loss: 94715400.0000 - val_loss: 88329648.0000 - 358ms/epoch - 585us/step\n",
      "Epoch 31/50\n",
      "612/612 - 1s - loss: 94709056.0000 - val_loss: 88329816.0000 - 551ms/epoch - 901us/step\n",
      "Epoch 32/50\n",
      "612/612 - 1s - loss: 94708624.0000 - val_loss: 88326624.0000 - 641ms/epoch - 1ms/step\n",
      "Epoch 33/50\n",
      "612/612 - 0s - loss: 94711248.0000 - val_loss: 88328096.0000 - 346ms/epoch - 566us/step\n",
      "Epoch 34/50\n",
      "612/612 - 1s - loss: 94706136.0000 - val_loss: 88331928.0000 - 502ms/epoch - 821us/step\n",
      "Epoch 35/50\n",
      "612/612 - 0s - loss: 94705640.0000 - val_loss: 88324376.0000 - 435ms/epoch - 711us/step\n",
      "Epoch 36/50\n",
      "612/612 - 0s - loss: 94702024.0000 - val_loss: 88327512.0000 - 291ms/epoch - 475us/step\n",
      "Epoch 37/50\n",
      "612/612 - 1s - loss: 94698800.0000 - val_loss: 88327888.0000 - 502ms/epoch - 819us/step\n",
      "Epoch 38/50\n",
      "612/612 - 0s - loss: 94700296.0000 - val_loss: 88341096.0000 - 437ms/epoch - 714us/step\n",
      "Epoch 39/50\n",
      "612/612 - 0s - loss: 94700568.0000 - val_loss: 88330064.0000 - 440ms/epoch - 719us/step\n",
      "Epoch 40/50\n",
      "612/612 - 0s - loss: 94698888.0000 - val_loss: 88321216.0000 - 465ms/epoch - 759us/step\n",
      "Epoch 41/50\n",
      "612/612 - 0s - loss: 94700704.0000 - val_loss: 88311784.0000 - 471ms/epoch - 770us/step\n",
      "Epoch 42/50\n",
      "612/612 - 1s - loss: 94690888.0000 - val_loss: 88321064.0000 - 540ms/epoch - 882us/step\n",
      "Epoch 43/50\n",
      "612/612 - 1s - loss: 94696576.0000 - val_loss: 88319392.0000 - 610ms/epoch - 996us/step\n",
      "Epoch 44/50\n",
      "612/612 - 1s - loss: 94693104.0000 - val_loss: 88315080.0000 - 598ms/epoch - 977us/step\n",
      "Epoch 45/50\n",
      "612/612 - 0s - loss: 94696776.0000 - val_loss: 88320880.0000 - 417ms/epoch - 681us/step\n",
      "Epoch 46/50\n",
      "612/612 - 1s - loss: 94690888.0000 - val_loss: 88326904.0000 - 636ms/epoch - 1ms/step\n",
      "Epoch 47/50\n",
      "612/612 - 0s - loss: 94690232.0000 - val_loss: 88317568.0000 - 411ms/epoch - 672us/step\n",
      "Epoch 48/50\n",
      "612/612 - 1s - loss: 94686888.0000 - val_loss: 88324640.0000 - 528ms/epoch - 863us/step\n",
      "Epoch 49/50\n",
      "612/612 - 0s - loss: 94693480.0000 - val_loss: 88312624.0000 - 431ms/epoch - 704us/step\n",
      "Epoch 50/50\n",
      "612/612 - 0s - loss: 94689616.0000 - val_loss: 88308136.0000 - 442ms/epoch - 722us/step\n",
      "Epoch 1/50 - Train MSE: 227460384.0000 - Val MSE: 175857984.0000\n",
      "Epoch 2/50 - Train MSE: 130192280.0000 - Val MSE: 97950232.0000\n",
      "Epoch 3/50 - Train MSE: 100313224.0000 - Val MSE: 91097944.0000\n",
      "Epoch 4/50 - Train MSE: 96867872.0000 - Val MSE: 89718296.0000\n",
      "Epoch 5/50 - Train MSE: 95953672.0000 - Val MSE: 89191240.0000\n",
      "Epoch 6/50 - Train MSE: 95501088.0000 - Val MSE: 88920432.0000\n",
      "Epoch 7/50 - Train MSE: 95241560.0000 - Val MSE: 88690112.0000\n",
      "Epoch 8/50 - Train MSE: 95062904.0000 - Val MSE: 88583416.0000\n",
      "Epoch 9/50 - Train MSE: 94959784.0000 - Val MSE: 88494528.0000\n",
      "Epoch 10/50 - Train MSE: 94893056.0000 - Val MSE: 88457528.0000\n",
      "Epoch 11/50 - Train MSE: 94851944.0000 - Val MSE: 88443160.0000\n",
      "Epoch 12/50 - Train MSE: 94820688.0000 - Val MSE: 88413048.0000\n",
      "Epoch 13/50 - Train MSE: 94792840.0000 - Val MSE: 88384248.0000\n",
      "Epoch 14/50 - Train MSE: 94790192.0000 - Val MSE: 88392320.0000\n",
      "Epoch 15/50 - Train MSE: 94776736.0000 - Val MSE: 88380992.0000\n",
      "Epoch 16/50 - Train MSE: 94766888.0000 - Val MSE: 88383400.0000\n",
      "Epoch 17/50 - Train MSE: 94753096.0000 - Val MSE: 88393200.0000\n",
      "Epoch 18/50 - Train MSE: 94756552.0000 - Val MSE: 88355848.0000\n",
      "Epoch 19/50 - Train MSE: 94747528.0000 - Val MSE: 88372304.0000\n",
      "Epoch 20/50 - Train MSE: 94745048.0000 - Val MSE: 88351968.0000\n",
      "Epoch 21/50 - Train MSE: 94742168.0000 - Val MSE: 88344408.0000\n",
      "Epoch 22/50 - Train MSE: 94730696.0000 - Val MSE: 88348224.0000\n",
      "Epoch 23/50 - Train MSE: 94732752.0000 - Val MSE: 88344504.0000\n",
      "Epoch 24/50 - Train MSE: 94725304.0000 - Val MSE: 88346536.0000\n",
      "Epoch 25/50 - Train MSE: 94732712.0000 - Val MSE: 88341264.0000\n",
      "Epoch 26/50 - Train MSE: 94719960.0000 - Val MSE: 88333176.0000\n",
      "Epoch 27/50 - Train MSE: 94718792.0000 - Val MSE: 88329896.0000\n",
      "Epoch 28/50 - Train MSE: 94717752.0000 - Val MSE: 88337608.0000\n",
      "Epoch 29/50 - Train MSE: 94711080.0000 - Val MSE: 88326136.0000\n",
      "Epoch 30/50 - Train MSE: 94715400.0000 - Val MSE: 88329648.0000\n",
      "Epoch 31/50 - Train MSE: 94709056.0000 - Val MSE: 88329816.0000\n",
      "Epoch 32/50 - Train MSE: 94708624.0000 - Val MSE: 88326624.0000\n",
      "Epoch 33/50 - Train MSE: 94711248.0000 - Val MSE: 88328096.0000\n",
      "Epoch 34/50 - Train MSE: 94706136.0000 - Val MSE: 88331928.0000\n",
      "Epoch 35/50 - Train MSE: 94705640.0000 - Val MSE: 88324376.0000\n",
      "Epoch 36/50 - Train MSE: 94702024.0000 - Val MSE: 88327512.0000\n",
      "Epoch 37/50 - Train MSE: 94698800.0000 - Val MSE: 88327888.0000\n",
      "Epoch 38/50 - Train MSE: 94700296.0000 - Val MSE: 88341096.0000\n",
      "Epoch 39/50 - Train MSE: 94700568.0000 - Val MSE: 88330064.0000\n",
      "Epoch 40/50 - Train MSE: 94698888.0000 - Val MSE: 88321216.0000\n",
      "Epoch 41/50 - Train MSE: 94700704.0000 - Val MSE: 88311784.0000\n",
      "Epoch 42/50 - Train MSE: 94690888.0000 - Val MSE: 88321064.0000\n",
      "Epoch 43/50 - Train MSE: 94696576.0000 - Val MSE: 88319392.0000\n",
      "Epoch 44/50 - Train MSE: 94693104.0000 - Val MSE: 88315080.0000\n",
      "Epoch 45/50 - Train MSE: 94696776.0000 - Val MSE: 88320880.0000\n",
      "Epoch 46/50 - Train MSE: 94690888.0000 - Val MSE: 88326904.0000\n",
      "Epoch 47/50 - Train MSE: 94690232.0000 - Val MSE: 88317568.0000\n",
      "Epoch 48/50 - Train MSE: 94686888.0000 - Val MSE: 88324640.0000\n",
      "Epoch 49/50 - Train MSE: 94693480.0000 - Val MSE: 88312624.0000\n",
      "Epoch 50/50 - Train MSE: 94689616.0000 - Val MSE: 88308136.0000\n"
     ]
    }
   ],
   "source": [
    "scaler = StandardScaler()\n",
    "X_train_scaled = scaler.fit_transform(X_train)\n",
    "\n",
    "# Build and compile your model\n",
    "model = tf.keras.Sequential([\n",
    "    tf.keras.layers.Input(shape=X_train_scaled.shape[1]),\n",
    "    tf.keras.layers.Dense(64, activation='relu'),\n",
    "    tf.keras.layers.Dense(32, activation='relu'),\n",
    "    tf.keras.layers.Dense(1)  # Output layer for regression\n",
    "])\n",
    "model.compile(optimizer='adam', loss='mean_squared_error')\n",
    "\n",
    "# Train the model and capture the training history\n",
    "history = model.fit(X_train_scaled, y_train, epochs=50, batch_size=32, validation_split=0.2, verbose=2)\n",
    "\n",
    "# Extract and print the training and validation loss (MSE) for each epoch\n",
    "for epoch in range(len(history.history['loss'])):\n",
    "    train_mse = history.history['loss'][epoch]\n",
    "    val_mse = history.history['val_loss'][epoch]\n",
    "    print(f\"Epoch {epoch + 1}/{len(history.history['loss'])} - Train MSE: {train_mse:.4f} - Val MSE: {val_mse:.4f}\")\n"
   ]
  },
  {
   "cell_type": "code",
   "execution_count": 60,
   "metadata": {},
   "outputs": [
    {
     "data": {
      "text/plain": [
       "['../Models/Amazon/Static/Dowload/fnn.pkl']"
      ]
     },
     "execution_count": 60,
     "metadata": {},
     "output_type": "execute_result"
    }
   ],
   "source": [
    "neural_fnn = model\n",
    "joblib.dump(neural_fnn , r'../Models/Amazon/Static/Dowload/fnn.pkl')"
   ]
  },
  {
   "cell_type": "code",
   "execution_count": 5,
   "metadata": {},
   "outputs": [
    {
     "name": "stdout",
     "output_type": "stream",
     "text": [
      "Collecting tensorflowNote: you may need to restart the kernel to use updated packages.\n",
      "\n",
      "  Downloading tensorflow-2.13.0-cp310-cp310-win_amd64.whl (1.9 kB)\n",
      "Collecting tensorflow-intel==2.13.0\n",
      "  Downloading tensorflow_intel-2.13.0-cp310-cp310-win_amd64.whl (276.5 MB)\n",
      "     -------------------------------------- 276.5/276.5 MB 4.0 MB/s eta 0:00:00\n",
      "Requirement already satisfied: setuptools in c:\\users\\ivoag\\appdata\\local\\packages\\pythonsoftwarefoundation.python.3.10_qbz5n2kfra8p0\\localcache\\local-packages\\python310\\site-packages (from tensorflow-intel==2.13.0->tensorflow) (63.1.0)\n",
      "Collecting absl-py>=1.0.0\n",
      "  Downloading absl_py-1.4.0-py3-none-any.whl (126 kB)\n",
      "     ---------------------------------------- 126.5/126.5 kB ? eta 0:00:00\n",
      "Collecting grpcio<2.0,>=1.24.3\n",
      "  Downloading grpcio-1.58.0-cp310-cp310-win_amd64.whl (4.3 MB)\n",
      "     ---------------------------------------- 4.3/4.3 MB 11.0 MB/s eta 0:00:00\n",
      "Collecting wrapt>=1.11.0\n",
      "  Downloading wrapt-1.15.0-cp310-cp310-win_amd64.whl (36 kB)\n",
      "Collecting flatbuffers>=23.1.21\n",
      "  Downloading flatbuffers-23.5.26-py2.py3-none-any.whl (26 kB)\n",
      "Requirement already satisfied: packaging in c:\\users\\ivoag\\appdata\\local\\packages\\pythonsoftwarefoundation.python.3.10_qbz5n2kfra8p0\\localcache\\local-packages\\python310\\site-packages (from tensorflow-intel==2.13.0->tensorflow) (21.3)\n",
      "Collecting protobuf!=4.21.0,!=4.21.1,!=4.21.2,!=4.21.3,!=4.21.4,!=4.21.5,<5.0.0dev,>=3.20.3\n",
      "  Downloading protobuf-4.24.3-cp310-abi3-win_amd64.whl (430 kB)\n",
      "     -------------------------------------- 430.5/430.5 kB 8.9 MB/s eta 0:00:00\n",
      "Requirement already satisfied: six>=1.12.0 in c:\\users\\ivoag\\appdata\\local\\packages\\pythonsoftwarefoundation.python.3.10_qbz5n2kfra8p0\\localcache\\local-packages\\python310\\site-packages (from tensorflow-intel==2.13.0->tensorflow) (1.16.0)\n",
      "Collecting astunparse>=1.6.0\n",
      "  Downloading astunparse-1.6.3-py2.py3-none-any.whl (12 kB)\n",
      "Collecting h5py>=2.9.0\n",
      "  Downloading h5py-3.9.0-cp310-cp310-win_amd64.whl (2.7 MB)\n",
      "     ---------------------------------------- 2.7/2.7 MB 10.6 MB/s eta 0:00:00\n",
      "Collecting opt-einsum>=2.3.2\n",
      "  Downloading opt_einsum-3.3.0-py3-none-any.whl (65 kB)\n",
      "     ---------------------------------------- 65.5/65.5 kB 3.5 MB/s eta 0:00:00\n",
      "Collecting keras<2.14,>=2.13.1\n",
      "  Downloading keras-2.13.1-py3-none-any.whl (1.7 MB)\n",
      "     ---------------------------------------- 1.7/1.7 MB 10.9 MB/s eta 0:00:00\n",
      "Collecting tensorboard<2.14,>=2.13\n",
      "  Downloading tensorboard-2.13.0-py3-none-any.whl (5.6 MB)\n",
      "     ---------------------------------------- 5.6/5.6 MB 10.8 MB/s eta 0:00:00\n",
      "Collecting google-pasta>=0.1.1\n",
      "  Downloading google_pasta-0.2.0-py3-none-any.whl (57 kB)\n",
      "     ---------------------------------------- 57.5/57.5 kB ? eta 0:00:00\n",
      "Collecting libclang>=13.0.0\n",
      "  Downloading libclang-16.0.6-py2.py3-none-win_amd64.whl (24.4 MB)\n",
      "     ---------------------------------------- 24.4/24.4 MB 9.9 MB/s eta 0:00:00\n",
      "Collecting termcolor>=1.1.0\n",
      "  Downloading termcolor-2.3.0-py3-none-any.whl (6.9 kB)\n",
      "Collecting tensorflow-io-gcs-filesystem>=0.23.1\n",
      "  Downloading tensorflow_io_gcs_filesystem-0.31.0-cp310-cp310-win_amd64.whl (1.5 MB)\n",
      "     ---------------------------------------- 1.5/1.5 MB 10.5 MB/s eta 0:00:00\n",
      "Collecting gast<=0.4.0,>=0.2.1\n",
      "  Downloading gast-0.4.0-py3-none-any.whl (9.8 kB)\n",
      "Requirement already satisfied: numpy<=1.24.3,>=1.22 in c:\\users\\ivoag\\appdata\\local\\packages\\pythonsoftwarefoundation.python.3.10_qbz5n2kfra8p0\\localcache\\local-packages\\python310\\site-packages (from tensorflow-intel==2.13.0->tensorflow) (1.23.0)\n",
      "Collecting tensorflow-estimator<2.14,>=2.13.0\n",
      "  Downloading tensorflow_estimator-2.13.0-py2.py3-none-any.whl (440 kB)\n",
      "     -------------------------------------- 440.8/440.8 kB 9.4 MB/s eta 0:00:00\n",
      "Collecting typing-extensions<4.6.0,>=3.6.6\n",
      "  Downloading typing_extensions-4.5.0-py3-none-any.whl (27 kB)\n",
      "Collecting wheel<1.0,>=0.23.0\n",
      "  Downloading wheel-0.41.2-py3-none-any.whl (64 kB)\n",
      "     ---------------------------------------- 64.8/64.8 kB 3.6 MB/s eta 0:00:00\n",
      "Requirement already satisfied: markdown>=2.6.8 in c:\\users\\ivoag\\appdata\\local\\packages\\pythonsoftwarefoundation.python.3.10_qbz5n2kfra8p0\\localcache\\local-packages\\python310\\site-packages (from tensorboard<2.14,>=2.13->tensorflow-intel==2.13.0->tensorflow) (3.4.4)\n",
      "Requirement already satisfied: werkzeug>=1.0.1 in c:\\users\\ivoag\\appdata\\local\\packages\\pythonsoftwarefoundation.python.3.10_qbz5n2kfra8p0\\localcache\\local-packages\\python310\\site-packages (from tensorboard<2.14,>=2.13->tensorflow-intel==2.13.0->tensorflow) (2.1.2)\n",
      "Collecting google-auth-oauthlib<1.1,>=0.5\n",
      "  Downloading google_auth_oauthlib-1.0.0-py2.py3-none-any.whl (18 kB)\n",
      "Requirement already satisfied: requests<3,>=2.21.0 in c:\\users\\ivoag\\appdata\\local\\packages\\pythonsoftwarefoundation.python.3.10_qbz5n2kfra8p0\\localcache\\local-packages\\python310\\site-packages (from tensorboard<2.14,>=2.13->tensorflow-intel==2.13.0->tensorflow) (2.28.1)\n",
      "Collecting google-auth<3,>=1.6.3\n",
      "  Downloading google_auth-2.23.0-py2.py3-none-any.whl (181 kB)\n",
      "     ------------------------------------- 181.4/181.4 kB 11.4 MB/s eta 0:00:00\n",
      "Collecting tensorboard-data-server<0.8.0,>=0.7.0\n",
      "  Downloading tensorboard_data_server-0.7.1-py3-none-any.whl (2.4 kB)\n",
      "Requirement already satisfied: pyparsing!=3.0.5,>=2.0.2 in c:\\users\\ivoag\\appdata\\local\\packages\\pythonsoftwarefoundation.python.3.10_qbz5n2kfra8p0\\localcache\\local-packages\\python310\\site-packages (from packaging->tensorflow-intel==2.13.0->tensorflow) (3.0.9)\n",
      "Collecting cachetools<6.0,>=2.0.0\n",
      "  Downloading cachetools-5.3.1-py3-none-any.whl (9.3 kB)\n",
      "Collecting rsa<5,>=3.1.4\n",
      "  Downloading rsa-4.9-py3-none-any.whl (34 kB)\n",
      "Requirement already satisfied: urllib3<2.0 in c:\\users\\ivoag\\appdata\\local\\packages\\pythonsoftwarefoundation.python.3.10_qbz5n2kfra8p0\\localcache\\local-packages\\python310\\site-packages (from google-auth<3,>=1.6.3->tensorboard<2.14,>=2.13->tensorflow-intel==2.13.0->tensorflow) (1.26.12)\n",
      "Collecting pyasn1-modules>=0.2.1\n",
      "  Downloading pyasn1_modules-0.3.0-py2.py3-none-any.whl (181 kB)\n",
      "     ------------------------------------- 181.3/181.3 kB 11.4 MB/s eta 0:00:00\n",
      "Collecting requests-oauthlib>=0.7.0\n",
      "  Using cached requests_oauthlib-1.3.1-py2.py3-none-any.whl (23 kB)\n",
      "Requirement already satisfied: charset-normalizer<3,>=2 in c:\\users\\ivoag\\appdata\\local\\packages\\pythonsoftwarefoundation.python.3.10_qbz5n2kfra8p0\\localcache\\local-packages\\python310\\site-packages (from requests<3,>=2.21.0->tensorboard<2.14,>=2.13->tensorflow-intel==2.13.0->tensorflow) (2.1.1)\n",
      "Requirement already satisfied: idna<4,>=2.5 in c:\\users\\ivoag\\appdata\\local\\packages\\pythonsoftwarefoundation.python.3.10_qbz5n2kfra8p0\\localcache\\local-packages\\python310\\site-packages (from requests<3,>=2.21.0->tensorboard<2.14,>=2.13->tensorflow-intel==2.13.0->tensorflow) (3.3)\n",
      "Requirement already satisfied: certifi>=2017.4.17 in c:\\users\\ivoag\\appdata\\local\\packages\\pythonsoftwarefoundation.python.3.10_qbz5n2kfra8p0\\localcache\\local-packages\\python310\\site-packages (from requests<3,>=2.21.0->tensorboard<2.14,>=2.13->tensorflow-intel==2.13.0->tensorflow) (2022.6.15.1)\n",
      "Collecting pyasn1<0.6.0,>=0.4.6\n",
      "  Downloading pyasn1-0.5.0-py2.py3-none-any.whl (83 kB)\n",
      "     ---------------------------------------- 83.9/83.9 kB 4.6 MB/s eta 0:00:00\n",
      "Collecting oauthlib>=3.0.0\n",
      "  Using cached oauthlib-3.2.2-py3-none-any.whl (151 kB)\n",
      "Installing collected packages: libclang, flatbuffers, wrapt, wheel, typing-extensions, termcolor, tensorflow-io-gcs-filesystem, tensorflow-estimator, tensorboard-data-server, pyasn1, protobuf, opt-einsum, oauthlib, keras, h5py, grpcio, google-pasta, gast, cachetools, absl-py, rsa, requests-oauthlib, pyasn1-modules, astunparse, google-auth, google-auth-oauthlib, tensorboard, tensorflow-intel, tensorflow\n",
      "  Attempting uninstall: typing-extensions\n",
      "    Found existing installation: typing_extensions 4.7.1\n",
      "    Uninstalling typing_extensions-4.7.1:\n",
      "      Successfully uninstalled typing_extensions-4.7.1\n",
      "Successfully installed absl-py-1.4.0 astunparse-1.6.3 cachetools-5.3.1 flatbuffers-23.5.26 gast-0.4.0 google-auth-2.23.0 google-auth-oauthlib-1.0.0 google-pasta-0.2.0 grpcio-1.58.0 h5py-3.9.0 keras-2.13.1 libclang-16.0.6 oauthlib-3.2.2 opt-einsum-3.3.0 protobuf-4.24.3 pyasn1-0.5.0 pyasn1-modules-0.3.0 requests-oauthlib-1.3.1 rsa-4.9 tensorboard-2.13.0 tensorboard-data-server-0.7.1 tensorflow-2.13.0 tensorflow-estimator-2.13.0 tensorflow-intel-2.13.0 tensorflow-io-gcs-filesystem-0.31.0 termcolor-2.3.0 typing-extensions-4.5.0 wheel-0.41.2 wrapt-1.15.0\n"
     ]
    },
    {
     "name": "stderr",
     "output_type": "stream",
     "text": [
      "\n",
      "[notice] A new release of pip available: 22.3.1 -> 23.2.1\n",
      "[notice] To update, run: C:\\Users\\IvoAg\\AppData\\Local\\Microsoft\\WindowsApps\\PythonSoftwareFoundation.Python.3.10_qbz5n2kfra8p0\\python.exe -m pip install --upgrade pip\n"
     ]
    }
   ],
   "source": [
    "\n"
   ]
  },
  {
   "cell_type": "code",
   "execution_count": 6,
   "metadata": {},
   "outputs": [
    {
     "name": "stdout",
     "output_type": "stream",
     "text": [
      "Epoch 1/50\n",
      "612/612 - 2s - loss: 133812960.0000 - val_loss: 101838968.0000 - 2s/epoch - 3ms/step\n",
      "Epoch 2/50\n",
      "612/612 - 1s - loss: 101663736.0000 - val_loss: 101167784.0000 - 782ms/epoch - 1ms/step\n",
      "Epoch 3/50\n",
      "612/612 - 1s - loss: 101283280.0000 - val_loss: 101007576.0000 - 746ms/epoch - 1ms/step\n",
      "Epoch 4/50\n",
      "612/612 - 1s - loss: 101186624.0000 - val_loss: 100961192.0000 - 766ms/epoch - 1ms/step\n",
      "Epoch 5/50\n",
      "612/612 - 1s - loss: 101155632.0000 - val_loss: 100945552.0000 - 837ms/epoch - 1ms/step\n",
      "Epoch 6/50\n",
      "612/612 - 1s - loss: 101144656.0000 - val_loss: 100940352.0000 - 861ms/epoch - 1ms/step\n",
      "Epoch 7/50\n",
      "612/612 - 1s - loss: 101140352.0000 - val_loss: 100937360.0000 - 756ms/epoch - 1ms/step\n",
      "Epoch 8/50\n",
      "612/612 - 1s - loss: 101138616.0000 - val_loss: 100936432.0000 - 735ms/epoch - 1ms/step\n",
      "Epoch 9/50\n",
      "612/612 - 1s - loss: 101137888.0000 - val_loss: 100936704.0000 - 760ms/epoch - 1ms/step\n",
      "Epoch 10/50\n",
      "612/612 - 1s - loss: 101137512.0000 - val_loss: 100935872.0000 - 727ms/epoch - 1ms/step\n",
      "Epoch 11/50\n",
      "612/612 - 1s - loss: 101137288.0000 - val_loss: 100936512.0000 - 854ms/epoch - 1ms/step\n",
      "Epoch 12/50\n",
      "612/612 - 1s - loss: 101137056.0000 - val_loss: 100935712.0000 - 867ms/epoch - 1ms/step\n",
      "Epoch 13/50\n",
      "612/612 - 1s - loss: 101136928.0000 - val_loss: 100937016.0000 - 843ms/epoch - 1ms/step\n",
      "Epoch 14/50\n",
      "612/612 - 1s - loss: 101136936.0000 - val_loss: 100938128.0000 - 871ms/epoch - 1ms/step\n",
      "Epoch 15/50\n",
      "612/612 - 1s - loss: 101137032.0000 - val_loss: 100935832.0000 - 847ms/epoch - 1ms/step\n",
      "Epoch 16/50\n",
      "612/612 - 1s - loss: 101136816.0000 - val_loss: 100935920.0000 - 758ms/epoch - 1ms/step\n",
      "Epoch 17/50\n",
      "612/612 - 1s - loss: 101136808.0000 - val_loss: 100935248.0000 - 819ms/epoch - 1ms/step\n",
      "Epoch 18/50\n",
      "612/612 - 1s - loss: 101136816.0000 - val_loss: 100936368.0000 - 868ms/epoch - 1ms/step\n",
      "Epoch 19/50\n",
      "612/612 - 1s - loss: 101136896.0000 - val_loss: 100935944.0000 - 791ms/epoch - 1ms/step\n",
      "Epoch 20/50\n",
      "612/612 - 1s - loss: 101136840.0000 - val_loss: 100936072.0000 - 784ms/epoch - 1ms/step\n",
      "Epoch 21/50\n",
      "612/612 - 1s - loss: 101136704.0000 - val_loss: 100935208.0000 - 840ms/epoch - 1ms/step\n",
      "Epoch 22/50\n",
      "612/612 - 1s - loss: 101136808.0000 - val_loss: 100935616.0000 - 805ms/epoch - 1ms/step\n",
      "Epoch 23/50\n",
      "612/612 - 1s - loss: 101136680.0000 - val_loss: 100935632.0000 - 831ms/epoch - 1ms/step\n",
      "Epoch 24/50\n",
      "612/612 - 1s - loss: 101136672.0000 - val_loss: 100934952.0000 - 816ms/epoch - 1ms/step\n",
      "Epoch 25/50\n",
      "612/612 - 1s - loss: 101136656.0000 - val_loss: 100935888.0000 - 837ms/epoch - 1ms/step\n",
      "Epoch 26/50\n",
      "612/612 - 1s - loss: 101136784.0000 - val_loss: 100936648.0000 - 813ms/epoch - 1ms/step\n",
      "Epoch 27/50\n",
      "612/612 - 1s - loss: 101136760.0000 - val_loss: 100935248.0000 - 775ms/epoch - 1ms/step\n",
      "Epoch 28/50\n",
      "612/612 - 1s - loss: 101136536.0000 - val_loss: 100935328.0000 - 773ms/epoch - 1ms/step\n",
      "Epoch 29/50\n",
      "612/612 - 1s - loss: 101136840.0000 - val_loss: 100936040.0000 - 747ms/epoch - 1ms/step\n",
      "Epoch 30/50\n",
      "612/612 - 1s - loss: 101136712.0000 - val_loss: 100935920.0000 - 749ms/epoch - 1ms/step\n",
      "Epoch 31/50\n",
      "612/612 - 1s - loss: 101136560.0000 - val_loss: 100935056.0000 - 740ms/epoch - 1ms/step\n",
      "Epoch 32/50\n",
      "612/612 - 1s - loss: 101136528.0000 - val_loss: 100935736.0000 - 716ms/epoch - 1ms/step\n",
      "Epoch 33/50\n",
      "612/612 - 1s - loss: 101136648.0000 - val_loss: 100935104.0000 - 709ms/epoch - 1ms/step\n",
      "Epoch 34/50\n",
      "612/612 - 1s - loss: 101136544.0000 - val_loss: 100935800.0000 - 934ms/epoch - 2ms/step\n",
      "Epoch 35/50\n",
      "612/612 - 1s - loss: 101136712.0000 - val_loss: 100935600.0000 - 762ms/epoch - 1ms/step\n",
      "Epoch 36/50\n",
      "612/612 - 1s - loss: 101136528.0000 - val_loss: 100935672.0000 - 825ms/epoch - 1ms/step\n",
      "Epoch 37/50\n",
      "612/612 - 1s - loss: 101136824.0000 - val_loss: 100937064.0000 - 842ms/epoch - 1ms/step\n",
      "Epoch 38/50\n",
      "612/612 - 1s - loss: 101136832.0000 - val_loss: 100935672.0000 - 768ms/epoch - 1ms/step\n",
      "Epoch 39/50\n",
      "612/612 - 1s - loss: 101136552.0000 - val_loss: 100935056.0000 - 761ms/epoch - 1ms/step\n",
      "Epoch 40/50\n",
      "612/612 - 1s - loss: 101136744.0000 - val_loss: 100935064.0000 - 764ms/epoch - 1ms/step\n",
      "Epoch 41/50\n",
      "612/612 - 1s - loss: 101136560.0000 - val_loss: 100935280.0000 - 779ms/epoch - 1ms/step\n",
      "Epoch 42/50\n",
      "612/612 - 1s - loss: 101136648.0000 - val_loss: 100936040.0000 - 747ms/epoch - 1ms/step\n",
      "Epoch 43/50\n",
      "612/612 - 1s - loss: 101136488.0000 - val_loss: 100935424.0000 - 768ms/epoch - 1ms/step\n",
      "Epoch 44/50\n",
      "612/612 - 1s - loss: 101136584.0000 - val_loss: 100935632.0000 - 782ms/epoch - 1ms/step\n",
      "Epoch 45/50\n",
      "612/612 - 1s - loss: 101136576.0000 - val_loss: 100937016.0000 - 744ms/epoch - 1ms/step\n",
      "Epoch 46/50\n",
      "612/612 - 1s - loss: 101136688.0000 - val_loss: 100935088.0000 - 835ms/epoch - 1ms/step\n",
      "Epoch 47/50\n",
      "612/612 - 1s - loss: 101136472.0000 - val_loss: 100935640.0000 - 703ms/epoch - 1ms/step\n",
      "Epoch 48/50\n",
      "612/612 - 1s - loss: 101136464.0000 - val_loss: 100937704.0000 - 734ms/epoch - 1ms/step\n",
      "Epoch 49/50\n",
      "612/612 - 1s - loss: 101136384.0000 - val_loss: 100935552.0000 - 861ms/epoch - 1ms/step\n",
      "Epoch 50/50\n",
      "612/612 - 1s - loss: 101136504.0000 - val_loss: 100935432.0000 - 734ms/epoch - 1ms/step\n",
      "Epoch 1/50 - Train MSE: 133812960.0000 - Val MSE: 101838968.0000\n",
      "Epoch 2/50 - Train MSE: 101663736.0000 - Val MSE: 101167784.0000\n",
      "Epoch 3/50 - Train MSE: 101283280.0000 - Val MSE: 101007576.0000\n",
      "Epoch 4/50 - Train MSE: 101186624.0000 - Val MSE: 100961192.0000\n",
      "Epoch 5/50 - Train MSE: 101155632.0000 - Val MSE: 100945552.0000\n",
      "Epoch 6/50 - Train MSE: 101144656.0000 - Val MSE: 100940352.0000\n",
      "Epoch 7/50 - Train MSE: 101140352.0000 - Val MSE: 100937360.0000\n",
      "Epoch 8/50 - Train MSE: 101138616.0000 - Val MSE: 100936432.0000\n",
      "Epoch 9/50 - Train MSE: 101137888.0000 - Val MSE: 100936704.0000\n",
      "Epoch 10/50 - Train MSE: 101137512.0000 - Val MSE: 100935872.0000\n",
      "Epoch 11/50 - Train MSE: 101137288.0000 - Val MSE: 100936512.0000\n",
      "Epoch 12/50 - Train MSE: 101137056.0000 - Val MSE: 100935712.0000\n",
      "Epoch 13/50 - Train MSE: 101136928.0000 - Val MSE: 100937016.0000\n",
      "Epoch 14/50 - Train MSE: 101136936.0000 - Val MSE: 100938128.0000\n",
      "Epoch 15/50 - Train MSE: 101137032.0000 - Val MSE: 100935832.0000\n",
      "Epoch 16/50 - Train MSE: 101136816.0000 - Val MSE: 100935920.0000\n",
      "Epoch 17/50 - Train MSE: 101136808.0000 - Val MSE: 100935248.0000\n",
      "Epoch 18/50 - Train MSE: 101136816.0000 - Val MSE: 100936368.0000\n",
      "Epoch 19/50 - Train MSE: 101136896.0000 - Val MSE: 100935944.0000\n",
      "Epoch 20/50 - Train MSE: 101136840.0000 - Val MSE: 100936072.0000\n",
      "Epoch 21/50 - Train MSE: 101136704.0000 - Val MSE: 100935208.0000\n",
      "Epoch 22/50 - Train MSE: 101136808.0000 - Val MSE: 100935616.0000\n",
      "Epoch 23/50 - Train MSE: 101136680.0000 - Val MSE: 100935632.0000\n",
      "Epoch 24/50 - Train MSE: 101136672.0000 - Val MSE: 100934952.0000\n",
      "Epoch 25/50 - Train MSE: 101136656.0000 - Val MSE: 100935888.0000\n",
      "Epoch 26/50 - Train MSE: 101136784.0000 - Val MSE: 100936648.0000\n",
      "Epoch 27/50 - Train MSE: 101136760.0000 - Val MSE: 100935248.0000\n",
      "Epoch 28/50 - Train MSE: 101136536.0000 - Val MSE: 100935328.0000\n",
      "Epoch 29/50 - Train MSE: 101136840.0000 - Val MSE: 100936040.0000\n",
      "Epoch 30/50 - Train MSE: 101136712.0000 - Val MSE: 100935920.0000\n",
      "Epoch 31/50 - Train MSE: 101136560.0000 - Val MSE: 100935056.0000\n",
      "Epoch 32/50 - Train MSE: 101136528.0000 - Val MSE: 100935736.0000\n",
      "Epoch 33/50 - Train MSE: 101136648.0000 - Val MSE: 100935104.0000\n",
      "Epoch 34/50 - Train MSE: 101136544.0000 - Val MSE: 100935800.0000\n",
      "Epoch 35/50 - Train MSE: 101136712.0000 - Val MSE: 100935600.0000\n",
      "Epoch 36/50 - Train MSE: 101136528.0000 - Val MSE: 100935672.0000\n",
      "Epoch 37/50 - Train MSE: 101136824.0000 - Val MSE: 100937064.0000\n",
      "Epoch 38/50 - Train MSE: 101136832.0000 - Val MSE: 100935672.0000\n",
      "Epoch 39/50 - Train MSE: 101136552.0000 - Val MSE: 100935056.0000\n",
      "Epoch 40/50 - Train MSE: 101136744.0000 - Val MSE: 100935064.0000\n",
      "Epoch 41/50 - Train MSE: 101136560.0000 - Val MSE: 100935280.0000\n",
      "Epoch 42/50 - Train MSE: 101136648.0000 - Val MSE: 100936040.0000\n",
      "Epoch 43/50 - Train MSE: 101136488.0000 - Val MSE: 100935424.0000\n",
      "Epoch 44/50 - Train MSE: 101136584.0000 - Val MSE: 100935632.0000\n",
      "Epoch 45/50 - Train MSE: 101136576.0000 - Val MSE: 100937016.0000\n",
      "Epoch 46/50 - Train MSE: 101136688.0000 - Val MSE: 100935088.0000\n",
      "Epoch 47/50 - Train MSE: 101136472.0000 - Val MSE: 100935640.0000\n",
      "Epoch 48/50 - Train MSE: 101136464.0000 - Val MSE: 100937704.0000\n",
      "Epoch 49/50 - Train MSE: 101136384.0000 - Val MSE: 100935552.0000\n",
      "Epoch 50/50 - Train MSE: 101136504.0000 - Val MSE: 100935432.0000\n"
     ]
    }
   ],
   "source": [
    "import tensorflow as tf\n",
    "from sklearn.preprocessing import StandardScaler\n",
    "\n",
    "\n",
    "# Standardize the input data\n",
    "scaler = StandardScaler()\n",
    "X_train_scaled = scaler.fit_transform(X_train)\n",
    "\n",
    "# Build and compile your MLP model\n",
    "model = tf.keras.Sequential([\n",
    "    tf.keras.layers.Input(shape=X_train_scaled.shape[1]),\n",
    "    tf.keras.layers.Dense(128, activation='relu'),\n",
    "    tf.keras.layers.Dense(64, activation='relu'),\n",
    "    tf.keras.layers.Dense(32, activation='relu'),\n",
    "    tf.keras.layers.Dense(1)  # Output layer for regression\n",
    "])\n",
    "model.compile(optimizer='adam', loss='mean_squared_error')\n",
    "\n",
    "# Train the model and capture the training history\n",
    "history = model.fit(X_train_scaled, y_train, epochs=50, batch_size=32, validation_split=0.2, verbose=2)\n",
    "\n",
    "# Extract and print the training and validation loss (MSE) for each epoch\n",
    "for epoch in range(len(history.history['loss'])):\n",
    "    train_mse = history.history['loss'][epoch]\n",
    "    val_mse = history.history['val_loss'][epoch]\n",
    "    print(f\"Epoch {epoch + 1}/{len(history.history['loss'])} - Train MSE: {train_mse:.4f} - Val MSE: {val_mse:.4f}\")\n"
   ]
  },
  {
   "cell_type": "code",
   "execution_count": 11,
   "metadata": {},
   "outputs": [
    {
     "data": {
      "text/plain": [
       "['../Models/Amazon/Driving/Upload/mlp.pkl']"
      ]
     },
     "execution_count": 11,
     "metadata": {},
     "output_type": "execute_result"
    }
   ],
   "source": [
    "neural_mlp = model\n",
    "joblib.dump(neural_mlp , r'../Models/Amazon/Driving/Upload/mlp.pkl')"
   ]
  }
 ],
 "metadata": {
  "kernelspec": {
   "display_name": "env",
   "language": "python",
   "name": "python3"
  },
  "language_info": {
   "codemirror_mode": {
    "name": "ipython",
    "version": 3
   },
   "file_extension": ".py",
   "mimetype": "text/x-python",
   "name": "python",
   "nbconvert_exporter": "python",
   "pygments_lexer": "ipython3",
   "version": "3.10.11"
  },
  "orig_nbformat": 4
 },
 "nbformat": 4,
 "nbformat_minor": 2
}
